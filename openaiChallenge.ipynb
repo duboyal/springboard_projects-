{
 "cells": [
  {
   "cell_type": "code",
   "execution_count": 4,
   "metadata": {
    "collapsed": true
   },
   "outputs": [],
   "source": [
    "import string\n",
    "\n",
    "\n",
    "def extract(query):\n",
    "    \"\"\"extract takes in a `query` API function (which returns the first 5 usernames, lexicographically sorted,\n",
    "    that start with a prefix) and returns the sorted list of all usernames in the database.\n",
    "    For example, the `query` function in provided in `main` works as follows:\n",
    "    \n",
    "    query(\"a\") #=> [\"abracadara\", \"al\", \"alice\", \"alicia\", \"allen\"]\n",
    "    query(\"ab\") #=> [\"abracadara\"]\n",
    "    The following implementation would pass the assertion in `main`, but is not a correct solution since it\n",
    "    works only for that example `query`:\n",
    "    def extract(query):\n",
    "        return query(\"ab\") + query(\"al\") + query(\"altercation\") + query(\"b\") + query(\"el\") + query(\"ev\") + query(\"m\")\n",
    "    Your goal is to write an `extract` method that is correct for any provided `query`.\n",
    "    \"\"\"\n",
    "    ans=set()\n",
    "    last_level=0\n",
    "    \n",
    "    alphabet=string.ascii_lowercase\n",
    "    stack=[]\n",
    "    for l in alphabet:\n",
    "        depth=0\n",
    "        phrase=l\n",
    "        response=query(phrase)\n",
    "        ans|= set(response)\n",
    "\n",
    "        while(len(response)==5):\n",
    "                \n",
    "            depth+=1\n",
    "            phrase+=query(phrase)[-1][depth:depth+1]\n",
    "            response=query(phrase)\n",
    "            print(phrase)\n",
    "            print(response)\n",
    "            ans|= set(response)\n",
    "            \n",
    "            #stack.append(query(l)[-1][0:2])\n",
    "            #print(\"stack\",stack)\n",
    "            \n",
    "        #print(l)\n",
    "    # YOUR CODE HERE\n",
    "    return ans\n",
    "\n"
   ]
  },
  {
   "cell_type": "code",
   "execution_count": 5,
   "metadata": {},
   "outputs": [
    {
     "name": "stdout",
     "output_type": "stream",
     "text": [
      "al\n",
      "['al', 'alice', 'alicia', 'allen', 'alter']\n",
      "alt\n",
      "['alter', 'altercation']\n",
      "ev\n",
      "['eve', 'evening', 'event', 'eventually']\n",
      "['abracadara', 'al', 'alice', 'alicia', 'allen', 'alter', 'altercation', 'bob', 'element', 'ello', 'eve', 'evening', 'event', 'eventually', 'mallory']\n"
     ]
    }
   ],
   "source": [
    "def main():\n",
    "    \"\"\"Runs your solution -- no need to update (except to maybe try out different databases).\"\"\"\n",
    "    # Sample implementation of the autocomplete API\n",
    "    database = [\"abracadara\", \"al\", \"alice\", \"alicia\", \"allen\", \"alter\", \"altercation\",\"aziz\", \"bob\", \"element\", \"ello\", \"eve\", \"evening\", \"event\", \"eventually\", \"mallory\"]\n",
    "    query = lambda prefix: [d for d in database if d.startswith(prefix)][:5]\n",
    "    #print(query(\"a\"))\n",
    "    ans=extract(query)\n",
    "    #assert extract(query) == database\n",
    "    ans=sorted(list(ans))\n",
    "    print(ans)\n",
    "\n",
    "main()"
   ]
  },
  {
   "cell_type": "code",
   "execution_count": 6,
   "metadata": {},
   "outputs": [
    {
     "name": "stdout",
     "output_type": "stream",
     "text": [
      "Python 3.6.1 :: Anaconda 4.4.0 (x86_64)\r\n"
     ]
    }
   ],
   "source": [
    "!python --version"
   ]
  },
  {
   "cell_type": "code",
   "execution_count": null,
   "metadata": {
    "collapsed": true
   },
   "outputs": [],
   "source": []
  }
 ],
 "metadata": {
  "kernelspec": {
   "display_name": "Python 3",
   "language": "python",
   "name": "python3"
  },
  "language_info": {
   "codemirror_mode": {
    "name": "ipython",
    "version": 3
   },
   "file_extension": ".py",
   "mimetype": "text/x-python",
   "name": "python",
   "nbconvert_exporter": "python",
   "pygments_lexer": "ipython3",
   "version": "3.6.1"
  }
 },
 "nbformat": 4,
 "nbformat_minor": 2
}
