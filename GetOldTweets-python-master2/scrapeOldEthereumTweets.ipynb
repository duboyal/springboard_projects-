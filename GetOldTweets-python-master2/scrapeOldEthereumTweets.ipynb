{
 "cells": [
  {
   "cell_type": "code",
   "execution_count": 2,
   "metadata": {},
   "outputs": [
    {
     "name": "stdout",
     "output_type": "stream",
     "text": [
      "### Example 1 - Get tweets by username [barackobama]\n",
      "Username: \n",
      "Retweets: 28136\n",
      "Text: I got my start holding community meetings in Chicago, so it was fun to be home for one tonight. Michelle and I want the world to come together on the South Side at a place built with local ideas, values, and hopes. That’s the @ ObamaFoundation and Presidential Center.https://twitter.com/obamafoundation/status/968681134480674817 …\n",
      "Mentions: @\n",
      "Hashtags: \n",
      "\n",
      "### Example 2 - Get tweets by query search [ethereum]\n",
      "Username: \n",
      "Retweets: 0\n",
      "Text: 0x1627a1aBE866Ab240787e4eAed935efa4737Ea4e @ ecoinsproject\n",
      "Mentions: @\n",
      "Hashtags: \n",
      "\n",
      "### Example 3 - Get tweets by username and bound dates [barackobama, '2015-09-10', '2015-09-12']\n",
      "Username: \n",
      "Retweets: 6668\n",
      "Text: \"The events of September 11, 2001, left a permanent mark on the spirit of every American.\" —President Obamapic.twitter.com/oob3Hc0vmi\n",
      "Mentions: \n",
      "Hashtags: \n",
      "\n"
     ]
    }
   ],
   "source": [
    "import sys\n",
    "if sys.version_info[0] < 3:\n",
    "    import got\n",
    "else:\n",
    "    import got3 as got\n",
    "\n",
    "def main():\n",
    "\n",
    "\tdef printTweet(descr, t):\n",
    "\t\tprint(descr)\n",
    "\t\tprint(\"Username: %s\" % t.username)\n",
    "\t\tprint(\"Retweets: %d\" % t.retweets)\n",
    "\t\tprint(\"Text: %s\" % t.text)\n",
    "\t\tprint(\"Mentions: %s\" % t.mentions)\n",
    "\t\tprint(\"Hashtags: %s\\n\" % t.hashtags)\n",
    "\n",
    "\t# Example 1 - Get tweets by username\n",
    "\ttweetCriteria = got.manager.TweetCriteria().setUsername('barackobama').setMaxTweets(1)\n",
    "\ttweet = got.manager.TweetManager.getTweets(tweetCriteria)[0]\n",
    "\n",
    "\tprintTweet(\"### Example 1 - Get tweets by username [barackobama]\", tweet)\n",
    "\n",
    "\t# Example 2 - Get tweets by query search\n",
    "\ttweetCriteria = got.manager.TweetCriteria().setQuerySearch('ethereum').setSince(\"2018-01-28\").setUntil(\"2018-02-9\").setMaxTweets(15)\n",
    "\ttweet = got.manager.TweetManager.getTweets(tweetCriteria)[0]\n",
    "\n",
    "\tprintTweet(\"### Example 2 - Get tweets by query search [ethereum]\", tweet)\n",
    "\n",
    "\n",
    "\t# Example 3 - Get tweets by username and bound dates\n",
    "\ttweetCriteria = got.manager.TweetCriteria().setUsername(\"barackobama\").setSince(\"2015-09-10\").setUntil(\"2015-09-12\").setMaxTweets(1)\n",
    "\ttweet = got.manager.TweetManager.getTweets(tweetCriteria)[0]\n",
    "\n",
    "\tprintTweet(\"### Example 3 - Get tweets by username and bound dates [barackobama, '2015-09-10', '2015-09-12']\", tweet)\n",
    "\n",
    "if __name__ == '__main__':\n",
    "\tmain()\n",
    "\n"
   ]
  },
  {
   "cell_type": "code",
   "execution_count": null,
   "metadata": {
    "collapsed": true
   },
   "outputs": [],
   "source": []
  }
 ],
 "metadata": {
  "kernelspec": {
   "display_name": "Python 3",
   "language": "python",
   "name": "python3"
  },
  "language_info": {
   "codemirror_mode": {
    "name": "ipython",
    "version": 3
   },
   "file_extension": ".py",
   "mimetype": "text/x-python",
   "name": "python",
   "nbconvert_exporter": "python",
   "pygments_lexer": "ipython3",
   "version": "3.6.1"
  }
 },
 "nbformat": 4,
 "nbformat_minor": 2
}
