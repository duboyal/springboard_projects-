{
 "cells": [
  {
   "cell_type": "code",
   "execution_count": 6,
   "metadata": {},
   "outputs": [],
   "source": [
    "from pytrends.request import TrendReq\n",
    "# Login to Google. Only need to run this once\n",
    "pytrend = TrendReq()\n",
    "# Create payload and capture API tokens. Only needed for interest_over_time(), interest_by_region() & related_queries()\n",
    "# keyword = 'cryptocurrency', cathegory = 16 (news), timeframe- limit range to 8 months to get daily data\n",
    "pytrend.build_payload(kw_list=['bitcoin'], cat=16, timeframe='2017-11-15 2018-03-21')  \n",
    "\n",
    "story_ggtrends_btc = pytrend.interest_over_time()\n",
    "# Upsampling daily data to hourly data\n",
    "story_ggtrends_btc = story_ggtrends_btc.resample('1d').pad().drop(['isPartial'], axis='columns')\n",
    "story_ggtrends_btc.columns = ['SearchFrequency']"
   ]
  },
  {
   "cell_type": "code",
   "execution_count": 7,
   "metadata": {},
   "outputs": [
    {
     "name": "stdout",
     "output_type": "stream",
     "text": [
      "            SearchFrequency\n",
      "date                       \n",
      "2017-11-15               14\n",
      "2017-11-16               15\n",
      "2017-11-17               16\n",
      "2017-11-18               10\n",
      "2017-11-19               10\n",
      "2017-11-20               15\n",
      "2017-11-21               16\n",
      "2017-11-22               14\n",
      "2017-11-23               12\n",
      "2017-11-24               11\n",
      "2017-11-25               11\n",
      "2017-11-26               18\n",
      "2017-11-27               26\n",
      "2017-11-28               29\n",
      "2017-11-29               53\n",
      "2017-11-30               45\n",
      "2017-12-01               30\n",
      "2017-12-02               21\n",
      "2017-12-03               20\n",
      "2017-12-04               28\n",
      "2017-12-05               27\n",
      "2017-12-06               36\n",
      "2017-12-07               72\n",
      "2017-12-08               64\n",
      "2017-12-09               41\n",
      "2017-12-10               41\n",
      "2017-12-11               50\n",
      "2017-12-12               47\n",
      "2017-12-13               40\n",
      "2017-12-14               34\n",
      "...                     ...\n",
      "2018-02-20               17\n",
      "2018-02-21               20\n",
      "2018-02-22               19\n",
      "2018-02-23               14\n",
      "2018-02-24               11\n",
      "2018-02-25               11\n",
      "2018-02-26               13\n",
      "2018-02-27               13\n",
      "2018-02-28               12\n",
      "2018-03-01               11\n",
      "2018-03-02               12\n",
      "2018-03-03                9\n",
      "2018-03-04                8\n",
      "2018-03-05               11\n",
      "2018-03-06               12\n",
      "2018-03-07               16\n",
      "2018-03-08               15\n",
      "2018-03-09               17\n",
      "2018-03-10               10\n",
      "2018-03-11               10\n",
      "2018-03-12               12\n",
      "2018-03-13               12\n",
      "2018-03-14               15\n",
      "2018-03-15               17\n",
      "2018-03-16               13\n",
      "2018-03-17               11\n",
      "2018-03-18               16\n",
      "2018-03-19               15\n",
      "2018-03-20               14\n",
      "2018-03-21               13\n",
      "\n",
      "[127 rows x 1 columns]\n"
     ]
    }
   ],
   "source": [
    "story_ggtrends_btc.to_csv('googletrends_bitcoin.csv')"
   ]
  },
  {
   "cell_type": "code",
   "execution_count": 10,
   "metadata": {
    "collapsed": true
   },
   "outputs": [],
   "source": [
    "story_ggtrends_btc.to_csv('googletrends_bitcoin.csv')"
   ]
  },
  {
   "cell_type": "code",
   "execution_count": 11,
   "metadata": {},
   "outputs": [
    {
     "data": {
      "text/plain": [
       "{'BTC': {'EUR': 6335.34}}"
      ]
     },
     "execution_count": 11,
     "metadata": {},
     "output_type": "execute_result"
    }
   ],
   "source": [
    "import cryptocompare\n",
    "cryptocompare.get_price('BTC')"
   ]
  },
  {
   "cell_type": "code",
   "execution_count": 25,
   "metadata": {
    "collapsed": true
   },
   "outputs": [],
   "source": [
    "import requests\n",
    "import json\n",
    "import pandas as pd\n",
    "from pandas.io.json import json_normalize\n",
    "import datetime\n",
    "\n",
    "# Indicate how many rows of data here\n",
    "lim = '15000' \n",
    "story_coin = ['BTC']\n",
    "story_data = pd.DataFrame()\n",
    "for i in story_coin:\n",
    "    URL = 'https://min-api.cryptocompare.com/data/histohour?fsym='+i+'&tsym=USD&limit='+lim\n",
    "    data = requests.get(URL)\n",
    "    json_data = data.json()\n",
    "    table = json_normalize(json_data, 'Data').set_index('time')\n",
    "    table.index = pd.to_datetime(table.index ,unit='s')\n",
    "    story_data = pd.concat([story_data, table.high], axis=1)\n",
    "story_data.columns = story_coin"
   ]
  },
  {
   "cell_type": "code",
   "execution_count": 26,
   "metadata": {
    "collapsed": true
   },
   "outputs": [],
   "source": [
    "import requests\n",
    "import json\n",
    "import pandas as pd\n",
    "from pandas.io.json import json_normalize\n",
    "import datetime\n",
    "\n",
    "# Indicate how many rows of data here\n",
    "lim = '15000' \n",
    "story_coin = ['ETH']\n",
    "story_data = pd.DataFrame()\n",
    "for i in story_coin:\n",
    "    URL = 'https://min-api.cryptocompare.com/data/histohour?fsym='+i+'&tsym=USD&limit='+lim\n",
    "    data = requests.get(URL)\n",
    "    json_data = data.json()\n",
    "    table = json_normalize(json_data, 'Data').set_index('time')\n",
    "    table.index = pd.to_datetime(table.index ,unit='s')\n",
    "    story_data = pd.concat([story_data, table.high], axis=1)\n",
    "story_data.columns = story_coin"
   ]
  },
  {
   "cell_type": "code",
   "execution_count": 27,
   "metadata": {},
   "outputs": [
    {
     "name": "stdout",
     "output_type": "stream",
     "text": [
      "['ETH']\n"
     ]
    }
   ],
   "source": [
    "print(story_coin)"
   ]
  },
  {
   "cell_type": "code",
   "execution_count": 14,
   "metadata": {
    "scrolled": true
   },
   "outputs": [
    {
     "data": {
      "text/html": [
       "<div>\n",
       "<style>\n",
       "    .dataframe thead tr:only-child th {\n",
       "        text-align: right;\n",
       "    }\n",
       "\n",
       "    .dataframe thead th {\n",
       "        text-align: left;\n",
       "    }\n",
       "\n",
       "    .dataframe tbody tr th {\n",
       "        vertical-align: top;\n",
       "    }\n",
       "</style>\n",
       "<table border=\"1\" class=\"dataframe\">\n",
       "  <thead>\n",
       "    <tr style=\"text-align: right;\">\n",
       "      <th></th>\n",
       "      <th>close</th>\n",
       "      <th>high</th>\n",
       "      <th>low</th>\n",
       "      <th>open</th>\n",
       "      <th>volumefrom</th>\n",
       "      <th>volumeto</th>\n",
       "    </tr>\n",
       "    <tr>\n",
       "      <th>time</th>\n",
       "      <th></th>\n",
       "      <th></th>\n",
       "      <th></th>\n",
       "      <th></th>\n",
       "      <th></th>\n",
       "      <th></th>\n",
       "    </tr>\n",
       "  </thead>\n",
       "  <tbody>\n",
       "    <tr>\n",
       "      <th>2018-01-02 19:00:00</th>\n",
       "      <td>855.50</td>\n",
       "      <td>857.71</td>\n",
       "      <td>819.55</td>\n",
       "      <td>856.06</td>\n",
       "      <td>84333.60</td>\n",
       "      <td>70786022.44</td>\n",
       "    </tr>\n",
       "    <tr>\n",
       "      <th>2018-01-02 20:00:00</th>\n",
       "      <td>859.22</td>\n",
       "      <td>859.50</td>\n",
       "      <td>846.42</td>\n",
       "      <td>855.44</td>\n",
       "      <td>30376.02</td>\n",
       "      <td>25909834.99</td>\n",
       "    </tr>\n",
       "    <tr>\n",
       "      <th>2018-01-02 21:00:00</th>\n",
       "      <td>866.22</td>\n",
       "      <td>870.53</td>\n",
       "      <td>856.35</td>\n",
       "      <td>859.23</td>\n",
       "      <td>24866.23</td>\n",
       "      <td>21513217.68</td>\n",
       "    </tr>\n",
       "    <tr>\n",
       "      <th>2018-01-02 22:00:00</th>\n",
       "      <td>856.81</td>\n",
       "      <td>868.69</td>\n",
       "      <td>847.57</td>\n",
       "      <td>866.22</td>\n",
       "      <td>23818.78</td>\n",
       "      <td>20363606.81</td>\n",
       "    </tr>\n",
       "    <tr>\n",
       "      <th>2018-01-02 23:00:00</th>\n",
       "      <td>861.97</td>\n",
       "      <td>866.80</td>\n",
       "      <td>856.64</td>\n",
       "      <td>856.85</td>\n",
       "      <td>22426.46</td>\n",
       "      <td>19327391.36</td>\n",
       "    </tr>\n",
       "    <tr>\n",
       "      <th>2018-01-03 00:00:00</th>\n",
       "      <td>879.21</td>\n",
       "      <td>880.22</td>\n",
       "      <td>860.47</td>\n",
       "      <td>861.97</td>\n",
       "      <td>43501.39</td>\n",
       "      <td>38015286.32</td>\n",
       "    </tr>\n",
       "    <tr>\n",
       "      <th>2018-01-03 01:00:00</th>\n",
       "      <td>868.50</td>\n",
       "      <td>884.65</td>\n",
       "      <td>864.36</td>\n",
       "      <td>879.21</td>\n",
       "      <td>52045.84</td>\n",
       "      <td>45354722.99</td>\n",
       "    </tr>\n",
       "    <tr>\n",
       "      <th>2018-01-03 02:00:00</th>\n",
       "      <td>861.46</td>\n",
       "      <td>869.90</td>\n",
       "      <td>859.27</td>\n",
       "      <td>868.43</td>\n",
       "      <td>33422.93</td>\n",
       "      <td>28889023.32</td>\n",
       "    </tr>\n",
       "    <tr>\n",
       "      <th>2018-01-03 03:00:00</th>\n",
       "      <td>860.76</td>\n",
       "      <td>869.73</td>\n",
       "      <td>857.50</td>\n",
       "      <td>861.38</td>\n",
       "      <td>26063.87</td>\n",
       "      <td>22432814.22</td>\n",
       "    </tr>\n",
       "    <tr>\n",
       "      <th>2018-01-03 04:00:00</th>\n",
       "      <td>866.87</td>\n",
       "      <td>869.21</td>\n",
       "      <td>860.76</td>\n",
       "      <td>860.76</td>\n",
       "      <td>22430.41</td>\n",
       "      <td>19357739.83</td>\n",
       "    </tr>\n",
       "    <tr>\n",
       "      <th>2018-01-03 05:00:00</th>\n",
       "      <td>879.18</td>\n",
       "      <td>879.20</td>\n",
       "      <td>866.88</td>\n",
       "      <td>866.95</td>\n",
       "      <td>18842.00</td>\n",
       "      <td>16483244.82</td>\n",
       "    </tr>\n",
       "    <tr>\n",
       "      <th>2018-01-03 06:00:00</th>\n",
       "      <td>881.43</td>\n",
       "      <td>881.50</td>\n",
       "      <td>876.23</td>\n",
       "      <td>879.18</td>\n",
       "      <td>17627.73</td>\n",
       "      <td>15506543.19</td>\n",
       "    </tr>\n",
       "    <tr>\n",
       "      <th>2018-01-03 07:00:00</th>\n",
       "      <td>883.45</td>\n",
       "      <td>884.68</td>\n",
       "      <td>879.71</td>\n",
       "      <td>881.48</td>\n",
       "      <td>13942.81</td>\n",
       "      <td>12301639.22</td>\n",
       "    </tr>\n",
       "    <tr>\n",
       "      <th>2018-01-03 08:00:00</th>\n",
       "      <td>873.30</td>\n",
       "      <td>883.56</td>\n",
       "      <td>872.45</td>\n",
       "      <td>883.44</td>\n",
       "      <td>19511.02</td>\n",
       "      <td>17112983.15</td>\n",
       "    </tr>\n",
       "    <tr>\n",
       "      <th>2018-01-03 09:00:00</th>\n",
       "      <td>859.58</td>\n",
       "      <td>873.54</td>\n",
       "      <td>858.91</td>\n",
       "      <td>873.30</td>\n",
       "      <td>27307.98</td>\n",
       "      <td>23660178.08</td>\n",
       "    </tr>\n",
       "    <tr>\n",
       "      <th>2018-01-03 10:00:00</th>\n",
       "      <td>859.56</td>\n",
       "      <td>861.19</td>\n",
       "      <td>847.90</td>\n",
       "      <td>859.56</td>\n",
       "      <td>34919.85</td>\n",
       "      <td>29771618.81</td>\n",
       "    </tr>\n",
       "    <tr>\n",
       "      <th>2018-01-03 11:00:00</th>\n",
       "      <td>871.79</td>\n",
       "      <td>871.84</td>\n",
       "      <td>859.41</td>\n",
       "      <td>859.56</td>\n",
       "      <td>15457.99</td>\n",
       "      <td>13446435.45</td>\n",
       "    </tr>\n",
       "    <tr>\n",
       "      <th>2018-01-03 12:00:00</th>\n",
       "      <td>858.06</td>\n",
       "      <td>872.79</td>\n",
       "      <td>857.18</td>\n",
       "      <td>871.79</td>\n",
       "      <td>18131.67</td>\n",
       "      <td>15686206.75</td>\n",
       "    </tr>\n",
       "    <tr>\n",
       "      <th>2018-01-03 13:00:00</th>\n",
       "      <td>872.73</td>\n",
       "      <td>872.97</td>\n",
       "      <td>856.86</td>\n",
       "      <td>858.01</td>\n",
       "      <td>23001.41</td>\n",
       "      <td>19866018.76</td>\n",
       "    </tr>\n",
       "    <tr>\n",
       "      <th>2018-01-03 14:00:00</th>\n",
       "      <td>874.49</td>\n",
       "      <td>878.69</td>\n",
       "      <td>872.43</td>\n",
       "      <td>872.75</td>\n",
       "      <td>22249.09</td>\n",
       "      <td>19473015.53</td>\n",
       "    </tr>\n",
       "  </tbody>\n",
       "</table>\n",
       "</div>"
      ],
      "text/plain": [
       "                      close    high     low    open  volumefrom     volumeto\n",
       "time                                                                        \n",
       "2018-01-02 19:00:00  855.50  857.71  819.55  856.06    84333.60  70786022.44\n",
       "2018-01-02 20:00:00  859.22  859.50  846.42  855.44    30376.02  25909834.99\n",
       "2018-01-02 21:00:00  866.22  870.53  856.35  859.23    24866.23  21513217.68\n",
       "2018-01-02 22:00:00  856.81  868.69  847.57  866.22    23818.78  20363606.81\n",
       "2018-01-02 23:00:00  861.97  866.80  856.64  856.85    22426.46  19327391.36\n",
       "2018-01-03 00:00:00  879.21  880.22  860.47  861.97    43501.39  38015286.32\n",
       "2018-01-03 01:00:00  868.50  884.65  864.36  879.21    52045.84  45354722.99\n",
       "2018-01-03 02:00:00  861.46  869.90  859.27  868.43    33422.93  28889023.32\n",
       "2018-01-03 03:00:00  860.76  869.73  857.50  861.38    26063.87  22432814.22\n",
       "2018-01-03 04:00:00  866.87  869.21  860.76  860.76    22430.41  19357739.83\n",
       "2018-01-03 05:00:00  879.18  879.20  866.88  866.95    18842.00  16483244.82\n",
       "2018-01-03 06:00:00  881.43  881.50  876.23  879.18    17627.73  15506543.19\n",
       "2018-01-03 07:00:00  883.45  884.68  879.71  881.48    13942.81  12301639.22\n",
       "2018-01-03 08:00:00  873.30  883.56  872.45  883.44    19511.02  17112983.15\n",
       "2018-01-03 09:00:00  859.58  873.54  858.91  873.30    27307.98  23660178.08\n",
       "2018-01-03 10:00:00  859.56  861.19  847.90  859.56    34919.85  29771618.81\n",
       "2018-01-03 11:00:00  871.79  871.84  859.41  859.56    15457.99  13446435.45\n",
       "2018-01-03 12:00:00  858.06  872.79  857.18  871.79    18131.67  15686206.75\n",
       "2018-01-03 13:00:00  872.73  872.97  856.86  858.01    23001.41  19866018.76\n",
       "2018-01-03 14:00:00  874.49  878.69  872.43  872.75    22249.09  19473015.53"
      ]
     },
     "execution_count": 14,
     "metadata": {},
     "output_type": "execute_result"
    }
   ],
   "source": [
    "table.head(20)"
   ]
  },
  {
   "cell_type": "code",
   "execution_count": 28,
   "metadata": {},
   "outputs": [
    {
     "data": {
      "text/plain": [
       "DatetimeIndex(['2018-01-02 19:00:00', '2018-01-02 20:00:00',\n",
       "               '2018-01-02 21:00:00', '2018-01-02 22:00:00',\n",
       "               '2018-01-02 23:00:00', '2018-01-03 00:00:00',\n",
       "               '2018-01-03 01:00:00', '2018-01-03 02:00:00',\n",
       "               '2018-01-03 03:00:00', '2018-01-03 04:00:00',\n",
       "               ...\n",
       "               '2018-03-26 18:00:00', '2018-03-26 19:00:00',\n",
       "               '2018-03-26 20:00:00', '2018-03-26 21:00:00',\n",
       "               '2018-03-26 22:00:00', '2018-03-26 23:00:00',\n",
       "               '2018-03-27 00:00:00', '2018-03-27 01:00:00',\n",
       "               '2018-03-27 02:00:00', '2018-03-27 03:00:00'],\n",
       "              dtype='datetime64[ns]', name='time', length=2001, freq=None)"
      ]
     },
     "execution_count": 28,
     "metadata": {},
     "output_type": "execute_result"
    }
   ],
   "source": [
    "table.index"
   ]
  },
  {
   "cell_type": "code",
   "execution_count": 36,
   "metadata": {},
   "outputs": [],
   "source": [
    "stuff = table['close'].loc['2017-11-15':'2018-03-21']"
   ]
  },
  {
   "cell_type": "code",
   "execution_count": 37,
   "metadata": {},
   "outputs": [
    {
     "data": {
      "image/png": "[encoded data removed]",
      "text/plain": [
       "<matplotlib.figure.Figure at 0x117fee0b8>"
      ]
     },
     "metadata": {},
     "output_type": "display_data"
    }
   ],
   "source": [
    "import matplotlib.pyplot as plt\n",
    "plt.plot(stuff)\n",
    "plt.plot(story_ggtrends_btc)\n",
    "plt.ylabel('some numbers')\n",
    "plt.show()"
   ]
  },
  {
   "cell_type": "code",
   "execution_count": null,
   "metadata": {
    "collapsed": true
   },
   "outputs": [],
   "source": [
    "#OK I need to slice the data frame and then plot it. this is in blue\n",
    "#I need to the plot the search frequency, this is in orange"
   ]
  }
 ],
 "metadata": {
  "kernelspec": {
   "display_name": "Python 3",
   "language": "python",
   "name": "python3"
  },
  "language_info": {
   "codemirror_mode": {
    "name": "ipython",
    "version": 3
   },
   "file_extension": ".py",
   "mimetype": "text/x-python",
   "name": "python",
   "nbconvert_exporter": "python",
   "pygments_lexer": "ipython3",
   "version": "3.6.1"
  }
 },
 "nbformat": 4,
 "nbformat_minor": 2
}
