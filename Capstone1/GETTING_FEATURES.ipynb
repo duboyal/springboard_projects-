{
 "cells": [
  {
   "cell_type": "code",
   "execution_count": 121,
   "metadata": {
    "collapsed": true
   },
   "outputs": [],
   "source": [
    "import pandas as pd\n",
    "import numpy as np\n",
    "from sklearn.model_selection import GridSearchCV"
   ]
  },
  {
   "cell_type": "code",
   "execution_count": 27,
   "metadata": {
    "collapsed": true
   },
   "outputs": [],
   "source": [
    "df1 = pd.read_csv('Google_Trends/google_trends_bitcoin.csv')\n",
    "df1['date'] = df1['date'].dropna()\n",
    "df1 = df1[df1['date'].isnull() == False]\n",
    "\n",
    "df2 = pd.read_csv('Google_Trends/google_trends_blockchain.csv')\n",
    "df2['date'] = df2['date'].dropna()\n",
    "df2 = df2[df2['date'].isnull() == False]\n",
    "\n",
    "df3 = pd.read_csv('Google_Trends/google_trends_cryp.csv')\n",
    "df3['date'] = df3['date'].dropna()\n",
    "df3 = df3[df3['date'].isnull() == False]\n",
    "\n",
    "df4 = pd.read_csv('Google_Trends/google_trends_eth.csv')\n",
    "df4['date'] = df4['date'].dropna()\n",
    "df4 = df4[df4['date'].isnull() == False]\n"
   ]
  },
  {
   "cell_type": "code",
   "execution_count": 28,
   "metadata": {
    "collapsed": true
   },
   "outputs": [],
   "source": [
    "df_list1 = [df1, df2, df3, df4]"
   ]
  },
  {
   "cell_type": "code",
   "execution_count": 29,
   "metadata": {
    "collapsed": true
   },
   "outputs": [],
   "source": [
    "df_google_mega = df1.append(df2)"
   ]
  },
  {
   "cell_type": "code",
   "execution_count": 31,
   "metadata": {},
   "outputs": [],
   "source": [
    "df_google_mega = df_google_mega.append(df3)\n",
    "df_google_mega = df_google_mega.append(df4)"
   ]
  },
  {
   "cell_type": "code",
   "execution_count": 40,
   "metadata": {},
   "outputs": [],
   "source": [
    "df_google_mega = df_google_mega.sort_values('date')"
   ]
  },
  {
   "cell_type": "code",
   "execution_count": 41,
   "metadata": {
    "collapsed": true
   },
   "outputs": [],
   "source": [
    "df_google_mega = df_google_mega.groupby('date').sum()\n",
    "#i think groupby set it to be the index?\n",
    "# print(df_google_mega.index) is telling me the index is the date"
   ]
  },
  {
   "cell_type": "code",
   "execution_count": 49,
   "metadata": {
    "collapsed": true
   },
   "outputs": [],
   "source": [
    "df_google_mega = df_google_mega['2017-11-16':'2018-03-21']"
   ]
  },
  {
   "cell_type": "code",
   "execution_count": 50,
   "metadata": {
    "collapsed": true
   },
   "outputs": [],
   "source": [
    "df_google_mega.to_csv('google_mega.csv')"
   ]
  },
  {
   "cell_type": "code",
   "execution_count": 119,
   "metadata": {},
   "outputs": [],
   "source": [
    "#df_google_mega"
   ]
  },
  {
   "cell_type": "code",
   "execution_count": 64,
   "metadata": {
    "collapsed": true
   },
   "outputs": [],
   "source": [
    "#loading in the DJI feature\n",
    "\n",
    "df_DJI = pd.read_csv('DJI.csv')\n",
    "df_DJI.index = df_DJI['Date']\n",
    "#df_DJI = df_DJI['Close']\n",
    "df_DJI = df_DJI['2017-11-16':'2018-03-21']\n"
   ]
  },
  {
   "cell_type": "code",
   "execution_count": 87,
   "metadata": {
    "collapsed": true
   },
   "outputs": [],
   "source": [
    "df_btc = pd.read_csv('final_btc_price.csv', header=None, names = ['Date','Price'])\n",
    "df_eth = pd.read_csv('final_eth_price.csv', header=None, names = ['Date','Price'])\n",
    "#Header = none is essential or else it would replace first data point with names"
   ]
  },
  {
   "cell_type": "code",
   "execution_count": 83,
   "metadata": {},
   "outputs": [],
   "source": [
    "#pd.read_csv(data, usecols=['foo', 'bar'])\n",
    "df_btc = pd.read_csv('final_btc_price.csv', header=None, names = ['Date','Price'])\n",
    "\n",
    "df_btc.index = df_btc['Date']\n",
    "#df_btc = df_btc['Price']\n",
    "df_btc = df_btc['2017-11-16':'2018-03-21']\n"
   ]
  },
  {
   "cell_type": "code",
   "execution_count": 91,
   "metadata": {},
   "outputs": [],
   "source": [
    "#df_eth"
   ]
  },
  {
   "cell_type": "code",
   "execution_count": 89,
   "metadata": {},
   "outputs": [],
   "source": [
    "#pd.read_csv(data, usecols=['foo', 'bar'])\n",
    "#df_btc = pd.read_csv('final_btc_price.csv', header=None, names = ['Date','Price'])\n",
    "\n",
    "df_eth.index = df_eth['Date']\n",
    "#df_eth = df_eth['Price']\n",
    "df_eth = df_eth['2017-11-16':'2018-03-21']\n"
   ]
  },
  {
   "cell_type": "code",
   "execution_count": 55,
   "metadata": {},
   "outputs": [],
   "source": [
    "#MAKING ONE DATAFRAME \n",
    "df_ultra_mega_frame = df_google_mega"
   ]
  },
  {
   "cell_type": "code",
   "execution_count": 67,
   "metadata": {},
   "outputs": [
    {
     "name": "stderr",
     "output_type": "stream",
     "text": [
      "/Users/Alexandra/anaconda/lib/python3.6/site-packages/ipykernel_launcher.py:1: SettingWithCopyWarning: \n",
      "A value is trying to be set on a copy of a slice from a DataFrame.\n",
      "Try using .loc[row_indexer,col_indexer] = value instead\n",
      "\n",
      "See the caveats in the documentation: http://pandas.pydata.org/pandas-docs/stable/indexing.html#indexing-view-versus-copy\n",
      "  \"\"\"Entry point for launching an IPython kernel.\n"
     ]
    }
   ],
   "source": [
    "df_ultra_mega_frame['DJI'] = df_DJI['Close']"
   ]
  },
  {
   "cell_type": "code",
   "execution_count": 76,
   "metadata": {},
   "outputs": [
    {
     "name": "stderr",
     "output_type": "stream",
     "text": [
      "/Users/Alexandra/anaconda/lib/python3.6/site-packages/pandas/core/indexing.py:179: SettingWithCopyWarning: \n",
      "A value is trying to be set on a copy of a slice from a DataFrame\n",
      "\n",
      "See the caveats in the documentation: http://pandas.pydata.org/pandas-docs/stable/indexing.html#indexing-view-versus-copy\n",
      "  self._setitem_with_indexer(indexer, value)\n",
      "/Users/Alexandra/anaconda/lib/python3.6/site-packages/ipykernel_launcher.py:3: SettingWithCopyWarning: \n",
      "A value is trying to be set on a copy of a slice from a DataFrame\n",
      "\n",
      "See the caveats in the documentation: http://pandas.pydata.org/pandas-docs/stable/indexing.html#indexing-view-versus-copy\n",
      "  This is separate from the ipykernel package so we can avoid doing imports until\n"
     ]
    }
   ],
   "source": [
    "for index, item in enumerate(df_ultra_mega_frame['DJI']):\n",
    "    if np.isnan(item) == True:\n",
    "        df_ultra_mega_frame['DJI'].iloc[index] = df_ultra_mega_frame['DJI'].iloc[index-1]\n",
    "        #THANK YOU DAN!\n",
    "        \n",
    "#df_ultra_mega_frame['DJI'] = "
   ]
  },
  {
   "cell_type": "code",
   "execution_count": 85,
   "metadata": {},
   "outputs": [
    {
     "name": "stderr",
     "output_type": "stream",
     "text": [
      "/Users/Alexandra/anaconda/lib/python3.6/site-packages/ipykernel_launcher.py:1: SettingWithCopyWarning: \n",
      "A value is trying to be set on a copy of a slice from a DataFrame.\n",
      "Try using .loc[row_indexer,col_indexer] = value instead\n",
      "\n",
      "See the caveats in the documentation: http://pandas.pydata.org/pandas-docs/stable/indexing.html#indexing-view-versus-copy\n",
      "  \"\"\"Entry point for launching an IPython kernel.\n"
     ]
    }
   ],
   "source": [
    "df_ultra_mega_frame['price_btc'] = df_btc['Price']"
   ]
  },
  {
   "cell_type": "code",
   "execution_count": 92,
   "metadata": {},
   "outputs": [
    {
     "name": "stderr",
     "output_type": "stream",
     "text": [
      "/Users/Alexandra/anaconda/lib/python3.6/site-packages/ipykernel_launcher.py:1: SettingWithCopyWarning: \n",
      "A value is trying to be set on a copy of a slice from a DataFrame.\n",
      "Try using .loc[row_indexer,col_indexer] = value instead\n",
      "\n",
      "See the caveats in the documentation: http://pandas.pydata.org/pandas-docs/stable/indexing.html#indexing-view-versus-copy\n",
      "  \"\"\"Entry point for launching an IPython kernel.\n"
     ]
    }
   ],
   "source": [
    "df_ultra_mega_frame['price_eth'] = df_eth['Price']"
   ]
  },
  {
   "cell_type": "code",
   "execution_count": 95,
   "metadata": {},
   "outputs": [
    {
     "name": "stdout",
     "output_type": "stream",
     "text": [
      "<class 'pandas.core.frame.DataFrame'>\n",
      "Index: 126 entries, 2017-11-16 to 2018-03-21\n",
      "Data columns (total 4 columns):\n",
      "SearchFrequency    126 non-null int64\n",
      "DJI                126 non-null float64\n",
      "price_btc          126 non-null float64\n",
      "price_eth          126 non-null float64\n",
      "dtypes: float64(3), int64(1)\n",
      "memory usage: 9.9+ KB\n"
     ]
    }
   ],
   "source": [
    "df_ultra_mega_frame.info()"
   ]
  },
  {
   "cell_type": "code",
   "execution_count": 96,
   "metadata": {
    "collapsed": true
   },
   "outputs": [],
   "source": [
    "df_ultra_mega_frame.to_csv('df_ultra_mega_frame.csv') #we later split this into "
   ]
  },
  {
   "cell_type": "code",
   "execution_count": 97,
   "metadata": {},
   "outputs": [
    {
     "data": {
      "text/html": [
       "<div>\n",
       "<style>\n",
       "    .dataframe thead tr:only-child th {\n",
       "        text-align: right;\n",
       "    }\n",
       "\n",
       "    .dataframe thead th {\n",
       "        text-align: left;\n",
       "    }\n",
       "\n",
       "    .dataframe tbody tr th {\n",
       "        vertical-align: top;\n",
       "    }\n",
       "</style>\n",
       "<table border=\"1\" class=\"dataframe\">\n",
       "  <thead>\n",
       "    <tr style=\"text-align: right;\">\n",
       "      <th></th>\n",
       "      <th>SearchFrequency</th>\n",
       "      <th>DJI</th>\n",
       "      <th>price_btc</th>\n",
       "      <th>price_eth</th>\n",
       "    </tr>\n",
       "    <tr>\n",
       "      <th>date</th>\n",
       "      <th></th>\n",
       "      <th></th>\n",
       "      <th></th>\n",
       "      <th></th>\n",
       "    </tr>\n",
       "  </thead>\n",
       "  <tbody>\n",
       "    <tr>\n",
       "      <th>2017-11-16</th>\n",
       "      <td>55</td>\n",
       "      <td>23458.359375</td>\n",
       "      <td>7871.69</td>\n",
       "      <td>330.92</td>\n",
       "    </tr>\n",
       "    <tr>\n",
       "      <th>2017-11-17</th>\n",
       "      <td>75</td>\n",
       "      <td>23358.240234</td>\n",
       "      <td>7708.99</td>\n",
       "      <td>332.39</td>\n",
       "    </tr>\n",
       "    <tr>\n",
       "      <th>2017-11-18</th>\n",
       "      <td>103</td>\n",
       "      <td>23358.240234</td>\n",
       "      <td>7790.15</td>\n",
       "      <td>347.61</td>\n",
       "    </tr>\n",
       "    <tr>\n",
       "      <th>2017-11-19</th>\n",
       "      <td>65</td>\n",
       "      <td>23358.240234</td>\n",
       "      <td>8036.49</td>\n",
       "      <td>354.39</td>\n",
       "    </tr>\n",
       "    <tr>\n",
       "      <th>2017-11-20</th>\n",
       "      <td>96</td>\n",
       "      <td>23430.330078</td>\n",
       "      <td>8200.64</td>\n",
       "      <td>366.73</td>\n",
       "    </tr>\n",
       "    <tr>\n",
       "      <th>2017-11-21</th>\n",
       "      <td>118</td>\n",
       "      <td>23590.830078</td>\n",
       "      <td>8071.26</td>\n",
       "      <td>360.40</td>\n",
       "    </tr>\n",
       "    <tr>\n",
       "      <th>2017-11-22</th>\n",
       "      <td>100</td>\n",
       "      <td>23526.179688</td>\n",
       "      <td>8253.55</td>\n",
       "      <td>380.65</td>\n",
       "    </tr>\n",
       "    <tr>\n",
       "      <th>2017-11-23</th>\n",
       "      <td>98</td>\n",
       "      <td>23526.179688</td>\n",
       "      <td>8038.77</td>\n",
       "      <td>410.17</td>\n",
       "    </tr>\n",
       "    <tr>\n",
       "      <th>2017-11-24</th>\n",
       "      <td>89</td>\n",
       "      <td>23557.990234</td>\n",
       "      <td>8253.69</td>\n",
       "      <td>474.91</td>\n",
       "    </tr>\n",
       "    <tr>\n",
       "      <th>2017-11-25</th>\n",
       "      <td>104</td>\n",
       "      <td>23557.990234</td>\n",
       "      <td>8790.92</td>\n",
       "      <td>466.28</td>\n",
       "    </tr>\n",
       "    <tr>\n",
       "      <th>2017-11-26</th>\n",
       "      <td>117</td>\n",
       "      <td>23557.990234</td>\n",
       "      <td>9330.55</td>\n",
       "      <td>471.33</td>\n",
       "    </tr>\n",
       "    <tr>\n",
       "      <th>2017-11-27</th>\n",
       "      <td>145</td>\n",
       "      <td>23580.779297</td>\n",
       "      <td>9818.35</td>\n",
       "      <td>480.36</td>\n",
       "    </tr>\n",
       "    <tr>\n",
       "      <th>2017-11-28</th>\n",
       "      <td>181</td>\n",
       "      <td>23836.710938</td>\n",
       "      <td>10058.80</td>\n",
       "      <td>472.90</td>\n",
       "    </tr>\n",
       "    <tr>\n",
       "      <th>2017-11-29</th>\n",
       "      <td>192</td>\n",
       "      <td>23940.679688</td>\n",
       "      <td>9888.61</td>\n",
       "      <td>427.52</td>\n",
       "    </tr>\n",
       "    <tr>\n",
       "      <th>2017-11-30</th>\n",
       "      <td>200</td>\n",
       "      <td>24272.349609</td>\n",
       "      <td>10233.60</td>\n",
       "      <td>447.11</td>\n",
       "    </tr>\n",
       "    <tr>\n",
       "      <th>2017-12-01</th>\n",
       "      <td>138</td>\n",
       "      <td>24231.589844</td>\n",
       "      <td>10975.60</td>\n",
       "      <td>466.54</td>\n",
       "    </tr>\n",
       "    <tr>\n",
       "      <th>2017-12-02</th>\n",
       "      <td>116</td>\n",
       "      <td>24231.589844</td>\n",
       "      <td>11074.60</td>\n",
       "      <td>463.45</td>\n",
       "    </tr>\n",
       "    <tr>\n",
       "      <th>2017-12-03</th>\n",
       "      <td>101</td>\n",
       "      <td>24231.589844</td>\n",
       "      <td>11323.20</td>\n",
       "      <td>465.85</td>\n",
       "    </tr>\n",
       "    <tr>\n",
       "      <th>2017-12-04</th>\n",
       "      <td>151</td>\n",
       "      <td>24290.050781</td>\n",
       "      <td>11657.20</td>\n",
       "      <td>470.20</td>\n",
       "    </tr>\n",
       "    <tr>\n",
       "      <th>2017-12-05</th>\n",
       "      <td>132</td>\n",
       "      <td>24180.640625</td>\n",
       "      <td>11916.70</td>\n",
       "      <td>463.28</td>\n",
       "    </tr>\n",
       "    <tr>\n",
       "      <th>2017-12-06</th>\n",
       "      <td>159</td>\n",
       "      <td>24140.910156</td>\n",
       "      <td>14291.50</td>\n",
       "      <td>428.59</td>\n",
       "    </tr>\n",
       "    <tr>\n",
       "      <th>2017-12-07</th>\n",
       "      <td>266</td>\n",
       "      <td>24211.480469</td>\n",
       "      <td>17899.70</td>\n",
       "      <td>434.41</td>\n",
       "    </tr>\n",
       "    <tr>\n",
       "      <th>2017-12-08</th>\n",
       "      <td>229</td>\n",
       "      <td>24329.160156</td>\n",
       "      <td>16569.40</td>\n",
       "      <td>456.03</td>\n",
       "    </tr>\n",
       "    <tr>\n",
       "      <th>2017-12-09</th>\n",
       "      <td>185</td>\n",
       "      <td>24329.160156</td>\n",
       "      <td>15178.20</td>\n",
       "      <td>473.50</td>\n",
       "    </tr>\n",
       "    <tr>\n",
       "      <th>2017-12-10</th>\n",
       "      <td>136</td>\n",
       "      <td>24329.160156</td>\n",
       "      <td>15455.40</td>\n",
       "      <td>441.72</td>\n",
       "    </tr>\n",
       "    <tr>\n",
       "      <th>2017-12-11</th>\n",
       "      <td>229</td>\n",
       "      <td>24386.029297</td>\n",
       "      <td>16936.80</td>\n",
       "      <td>515.14</td>\n",
       "    </tr>\n",
       "    <tr>\n",
       "      <th>2017-12-12</th>\n",
       "      <td>250</td>\n",
       "      <td>24504.800781</td>\n",
       "      <td>17415.40</td>\n",
       "      <td>651.43</td>\n",
       "    </tr>\n",
       "    <tr>\n",
       "      <th>2017-12-13</th>\n",
       "      <td>245</td>\n",
       "      <td>24585.429688</td>\n",
       "      <td>16408.20</td>\n",
       "      <td>702.77</td>\n",
       "    </tr>\n",
       "    <tr>\n",
       "      <th>2017-12-14</th>\n",
       "      <td>239</td>\n",
       "      <td>24508.660156</td>\n",
       "      <td>16564.00</td>\n",
       "      <td>695.82</td>\n",
       "    </tr>\n",
       "    <tr>\n",
       "      <th>2017-12-15</th>\n",
       "      <td>191</td>\n",
       "      <td>24651.740234</td>\n",
       "      <td>17706.90</td>\n",
       "      <td>684.45</td>\n",
       "    </tr>\n",
       "    <tr>\n",
       "      <th>...</th>\n",
       "      <td>...</td>\n",
       "      <td>...</td>\n",
       "      <td>...</td>\n",
       "      <td>...</td>\n",
       "    </tr>\n",
       "    <tr>\n",
       "      <th>2018-02-20</th>\n",
       "      <td>125</td>\n",
       "      <td>24964.750000</td>\n",
       "      <td>11403.70</td>\n",
       "      <td>895.37</td>\n",
       "    </tr>\n",
       "    <tr>\n",
       "      <th>2018-02-21</th>\n",
       "      <td>113</td>\n",
       "      <td>24797.779297</td>\n",
       "      <td>10690.40</td>\n",
       "      <td>849.97</td>\n",
       "    </tr>\n",
       "    <tr>\n",
       "      <th>2018-02-22</th>\n",
       "      <td>113</td>\n",
       "      <td>24962.480469</td>\n",
       "      <td>10005.00</td>\n",
       "      <td>812.85</td>\n",
       "    </tr>\n",
       "    <tr>\n",
       "      <th>2018-02-23</th>\n",
       "      <td>87</td>\n",
       "      <td>25309.990234</td>\n",
       "      <td>10301.10</td>\n",
       "      <td>864.19</td>\n",
       "    </tr>\n",
       "    <tr>\n",
       "      <th>2018-02-24</th>\n",
       "      <td>68</td>\n",
       "      <td>25309.990234</td>\n",
       "      <td>9813.07</td>\n",
       "      <td>840.51</td>\n",
       "    </tr>\n",
       "    <tr>\n",
       "      <th>2018-02-25</th>\n",
       "      <td>50</td>\n",
       "      <td>25309.990234</td>\n",
       "      <td>9664.73</td>\n",
       "      <td>844.81</td>\n",
       "    </tr>\n",
       "    <tr>\n",
       "      <th>2018-02-26</th>\n",
       "      <td>101</td>\n",
       "      <td>25709.269531</td>\n",
       "      <td>10366.70</td>\n",
       "      <td>869.32</td>\n",
       "    </tr>\n",
       "    <tr>\n",
       "      <th>2018-02-27</th>\n",
       "      <td>91</td>\n",
       "      <td>25410.029297</td>\n",
       "      <td>10725.60</td>\n",
       "      <td>878.26</td>\n",
       "    </tr>\n",
       "    <tr>\n",
       "      <th>2018-02-28</th>\n",
       "      <td>96</td>\n",
       "      <td>25029.199219</td>\n",
       "      <td>10397.90</td>\n",
       "      <td>855.20</td>\n",
       "    </tr>\n",
       "    <tr>\n",
       "      <th>2018-03-01</th>\n",
       "      <td>81</td>\n",
       "      <td>24608.980469</td>\n",
       "      <td>10951.00</td>\n",
       "      <td>872.20</td>\n",
       "    </tr>\n",
       "    <tr>\n",
       "      <th>2018-03-02</th>\n",
       "      <td>113</td>\n",
       "      <td>24538.060547</td>\n",
       "      <td>11086.40</td>\n",
       "      <td>856.85</td>\n",
       "    </tr>\n",
       "    <tr>\n",
       "      <th>2018-03-03</th>\n",
       "      <td>70</td>\n",
       "      <td>24538.060547</td>\n",
       "      <td>11489.70</td>\n",
       "      <td>857.23</td>\n",
       "    </tr>\n",
       "    <tr>\n",
       "      <th>2018-03-04</th>\n",
       "      <td>66</td>\n",
       "      <td>24538.060547</td>\n",
       "      <td>11512.60</td>\n",
       "      <td>866.68</td>\n",
       "    </tr>\n",
       "    <tr>\n",
       "      <th>2018-03-05</th>\n",
       "      <td>76</td>\n",
       "      <td>24874.759766</td>\n",
       "      <td>11573.30</td>\n",
       "      <td>853.68</td>\n",
       "    </tr>\n",
       "    <tr>\n",
       "      <th>2018-03-06</th>\n",
       "      <td>80</td>\n",
       "      <td>24884.119141</td>\n",
       "      <td>10779.90</td>\n",
       "      <td>816.95</td>\n",
       "    </tr>\n",
       "    <tr>\n",
       "      <th>2018-03-07</th>\n",
       "      <td>76</td>\n",
       "      <td>24801.359375</td>\n",
       "      <td>9965.57</td>\n",
       "      <td>752.83</td>\n",
       "    </tr>\n",
       "    <tr>\n",
       "      <th>2018-03-08</th>\n",
       "      <td>78</td>\n",
       "      <td>24895.210938</td>\n",
       "      <td>9395.01</td>\n",
       "      <td>704.60</td>\n",
       "    </tr>\n",
       "    <tr>\n",
       "      <th>2018-03-09</th>\n",
       "      <td>103</td>\n",
       "      <td>25335.740234</td>\n",
       "      <td>9337.55</td>\n",
       "      <td>728.92</td>\n",
       "    </tr>\n",
       "    <tr>\n",
       "      <th>2018-03-10</th>\n",
       "      <td>49</td>\n",
       "      <td>25335.740234</td>\n",
       "      <td>8866.00</td>\n",
       "      <td>686.89</td>\n",
       "    </tr>\n",
       "    <tr>\n",
       "      <th>2018-03-11</th>\n",
       "      <td>44</td>\n",
       "      <td>25335.740234</td>\n",
       "      <td>9578.63</td>\n",
       "      <td>723.34</td>\n",
       "    </tr>\n",
       "    <tr>\n",
       "      <th>2018-03-12</th>\n",
       "      <td>109</td>\n",
       "      <td>25178.609375</td>\n",
       "      <td>9205.12</td>\n",
       "      <td>699.83</td>\n",
       "    </tr>\n",
       "    <tr>\n",
       "      <th>2018-03-13</th>\n",
       "      <td>81</td>\n",
       "      <td>25007.029297</td>\n",
       "      <td>9194.85</td>\n",
       "      <td>690.83</td>\n",
       "    </tr>\n",
       "    <tr>\n",
       "      <th>2018-03-14</th>\n",
       "      <td>75</td>\n",
       "      <td>24758.119141</td>\n",
       "      <td>8269.81</td>\n",
       "      <td>614.29</td>\n",
       "    </tr>\n",
       "    <tr>\n",
       "      <th>2018-03-15</th>\n",
       "      <td>81</td>\n",
       "      <td>24873.660156</td>\n",
       "      <td>8300.86</td>\n",
       "      <td>611.30</td>\n",
       "    </tr>\n",
       "    <tr>\n",
       "      <th>2018-03-16</th>\n",
       "      <td>73</td>\n",
       "      <td>24946.509766</td>\n",
       "      <td>8338.35</td>\n",
       "      <td>601.67</td>\n",
       "    </tr>\n",
       "    <tr>\n",
       "      <th>2018-03-17</th>\n",
       "      <td>59</td>\n",
       "      <td>24946.509766</td>\n",
       "      <td>7916.88</td>\n",
       "      <td>552.78</td>\n",
       "    </tr>\n",
       "    <tr>\n",
       "      <th>2018-03-18</th>\n",
       "      <td>70</td>\n",
       "      <td>24946.509766</td>\n",
       "      <td>8223.68</td>\n",
       "      <td>538.64</td>\n",
       "    </tr>\n",
       "    <tr>\n",
       "      <th>2018-03-19</th>\n",
       "      <td>80</td>\n",
       "      <td>24610.910156</td>\n",
       "      <td>8630.65</td>\n",
       "      <td>556.73</td>\n",
       "    </tr>\n",
       "    <tr>\n",
       "      <th>2018-03-20</th>\n",
       "      <td>89</td>\n",
       "      <td>24727.269531</td>\n",
       "      <td>8913.47</td>\n",
       "      <td>557.17</td>\n",
       "    </tr>\n",
       "    <tr>\n",
       "      <th>2018-03-21</th>\n",
       "      <td>82</td>\n",
       "      <td>24682.310547</td>\n",
       "      <td>8929.28</td>\n",
       "      <td>561.73</td>\n",
       "    </tr>\n",
       "  </tbody>\n",
       "</table>\n",
       "<p>126 rows × 4 columns</p>\n",
       "</div>"
      ],
      "text/plain": [
       "            SearchFrequency           DJI  price_btc  price_eth\n",
       "date                                                           \n",
       "2017-11-16               55  23458.359375    7871.69     330.92\n",
       "2017-11-17               75  23358.240234    7708.99     332.39\n",
       "2017-11-18              103  23358.240234    7790.15     347.61\n",
       "2017-11-19               65  23358.240234    8036.49     354.39\n",
       "2017-11-20               96  23430.330078    8200.64     366.73\n",
       "2017-11-21              118  23590.830078    8071.26     360.40\n",
       "2017-11-22              100  23526.179688    8253.55     380.65\n",
       "2017-11-23               98  23526.179688    8038.77     410.17\n",
       "2017-11-24               89  23557.990234    8253.69     474.91\n",
       "2017-11-25              104  23557.990234    8790.92     466.28\n",
       "2017-11-26              117  23557.990234    9330.55     471.33\n",
       "2017-11-27              145  23580.779297    9818.35     480.36\n",
       "2017-11-28              181  23836.710938   10058.80     472.90\n",
       "2017-11-29              192  23940.679688    9888.61     427.52\n",
       "2017-11-30              200  24272.349609   10233.60     447.11\n",
       "2017-12-01              138  24231.589844   10975.60     466.54\n",
       "2017-12-02              116  24231.589844   11074.60     463.45\n",
       "2017-12-03              101  24231.589844   11323.20     465.85\n",
       "2017-12-04              151  24290.050781   11657.20     470.20\n",
       "2017-12-05              132  24180.640625   11916.70     463.28\n",
       "2017-12-06              159  24140.910156   14291.50     428.59\n",
       "2017-12-07              266  24211.480469   17899.70     434.41\n",
       "2017-12-08              229  24329.160156   16569.40     456.03\n",
       "2017-12-09              185  24329.160156   15178.20     473.50\n",
       "2017-12-10              136  24329.160156   15455.40     441.72\n",
       "2017-12-11              229  24386.029297   16936.80     515.14\n",
       "2017-12-12              250  24504.800781   17415.40     651.43\n",
       "2017-12-13              245  24585.429688   16408.20     702.77\n",
       "2017-12-14              239  24508.660156   16564.00     695.82\n",
       "2017-12-15              191  24651.740234   17706.90     684.45\n",
       "...                     ...           ...        ...        ...\n",
       "2018-02-20              125  24964.750000   11403.70     895.37\n",
       "2018-02-21              113  24797.779297   10690.40     849.97\n",
       "2018-02-22              113  24962.480469   10005.00     812.85\n",
       "2018-02-23               87  25309.990234   10301.10     864.19\n",
       "2018-02-24               68  25309.990234    9813.07     840.51\n",
       "2018-02-25               50  25309.990234    9664.73     844.81\n",
       "2018-02-26              101  25709.269531   10366.70     869.32\n",
       "2018-02-27               91  25410.029297   10725.60     878.26\n",
       "2018-02-28               96  25029.199219   10397.90     855.20\n",
       "2018-03-01               81  24608.980469   10951.00     872.20\n",
       "2018-03-02              113  24538.060547   11086.40     856.85\n",
       "2018-03-03               70  24538.060547   11489.70     857.23\n",
       "2018-03-04               66  24538.060547   11512.60     866.68\n",
       "2018-03-05               76  24874.759766   11573.30     853.68\n",
       "2018-03-06               80  24884.119141   10779.90     816.95\n",
       "2018-03-07               76  24801.359375    9965.57     752.83\n",
       "2018-03-08               78  24895.210938    9395.01     704.60\n",
       "2018-03-09              103  25335.740234    9337.55     728.92\n",
       "2018-03-10               49  25335.740234    8866.00     686.89\n",
       "2018-03-11               44  25335.740234    9578.63     723.34\n",
       "2018-03-12              109  25178.609375    9205.12     699.83\n",
       "2018-03-13               81  25007.029297    9194.85     690.83\n",
       "2018-03-14               75  24758.119141    8269.81     614.29\n",
       "2018-03-15               81  24873.660156    8300.86     611.30\n",
       "2018-03-16               73  24946.509766    8338.35     601.67\n",
       "2018-03-17               59  24946.509766    7916.88     552.78\n",
       "2018-03-18               70  24946.509766    8223.68     538.64\n",
       "2018-03-19               80  24610.910156    8630.65     556.73\n",
       "2018-03-20               89  24727.269531    8913.47     557.17\n",
       "2018-03-21               82  24682.310547    8929.28     561.73\n",
       "\n",
       "[126 rows x 4 columns]"
      ]
     },
     "execution_count": 97,
     "metadata": {},
     "output_type": "execute_result"
    }
   ],
   "source": [
    "df_ultra_mega_frame"
   ]
  },
  {
   "cell_type": "markdown",
   "metadata": {},
   "source": [
    "### MODELING"
   ]
  },
  {
   "cell_type": "code",
   "execution_count": 106,
   "metadata": {
    "collapsed": true
   },
   "outputs": [],
   "source": [
    "from sklearn.ensemble import RandomForestRegressor\n",
    "\n",
    "#can x be a dataframe?? algorithms need arrays!\n",
    "#can convert dtaframe to numpy arrays"
   ]
  },
  {
   "cell_type": "code",
   "execution_count": null,
   "metadata": {
    "collapsed": true
   },
   "outputs": [],
   "source": [
    "#Y variable turn into 1's or 0's\n",
    "#Y (ethereum) if n+1 is > n then 1 else 0 ,\n",
    "#start at 2nd and give it a zero or 1 \n",
    "#the column of zeroes and 1 would then become the would become the target.\n",
    "#remeber to remove etheruem feature before training model \n",
    "#randon forest classification, logistic regression classification"
   ]
  },
  {
   "cell_type": "code",
   "execution_count": 107,
   "metadata": {},
   "outputs": [],
   "source": [
    "y = np.array(df_ultra_mega_frame['price_eth'])\n",
    "# Remove the labels from the features\n",
    "# axis 1 refers to the columns\n",
    "features= df_ultra_mega_frame.drop('price_eth', axis = 1)\n",
    "# Saving feature names for later use\n",
    "feature_list = list(features.columns) #this way we remeber the column names\n",
    "# Convert to numpy array\n",
    "X = np.array(features) #because once we convert to np array it drops the names"
   ]
  },
  {
   "cell_type": "code",
   "execution_count": 111,
   "metadata": {},
   "outputs": [
    {
     "data": {
      "text/plain": [
       "array([ 330.92,  332.39,  347.61,  354.39,  366.73,  360.4 ,  380.65,\n",
       "        410.17,  474.91,  466.28,  471.33,  480.36,  472.9 ,  427.52,\n",
       "        447.11,  466.54,  463.45,  465.85,  470.2 ,  463.28,  428.59,\n",
       "        434.41,  456.03,  473.5 ,  441.72,  515.14,  651.43,  702.77,\n",
       "        695.82,  684.45,  696.21,  719.98,  794.64,  826.82,  819.09,\n",
       "        821.06,  674.86,  719.39,  694.15,  765.83,  773.84,  762.84,\n",
       "        737.02,  753.59,  717.26,  756.73,  772.64,  884.44,  962.72,\n",
       "        980.92,  997.72, 1041.68, 1153.17, 1148.53, 1299.74, 1255.82,\n",
       "       1154.93, 1273.2 , 1396.42, 1366.77, 1291.92, 1053.69, 1014.25,\n",
       "       1036.28, 1039.1 , 1155.15, 1049.58, 1003.26,  986.23, 1058.78,\n",
       "       1056.03, 1055.17, 1107.07, 1246.01, 1182.36, 1071.13, 1118.31,\n",
       "       1036.79,  915.78,  964.02,  834.68,  697.95,  793.12,  757.07,\n",
       "        817.81,  883.87,  860.41,  814.66,  868.71,  845.26,  923.56,\n",
       "        936.98,  944.21,  974.12,  923.92,  943.87,  895.37,  849.97,\n",
       "        812.85,  864.19,  840.51,  844.81,  869.32,  878.26,  855.2 ,\n",
       "        872.2 ,  856.85,  857.23,  866.68,  853.68,  816.95,  752.83,\n",
       "        704.6 ,  728.92,  686.89,  723.34,  699.83,  690.83,  614.29,\n",
       "        611.3 ,  601.67,  552.78,  538.64,  556.73,  557.17,  561.73])"
      ]
     },
     "execution_count": 111,
     "metadata": {},
     "output_type": "execute_result"
    }
   ],
   "source": [
    "#X.shape\n",
    "#y.shape good to check these"
   ]
  },
  {
   "cell_type": "code",
   "execution_count": 112,
   "metadata": {
    "collapsed": true
   },
   "outputs": [],
   "source": [
    "#train_features, test_features, train_labels, test_labels = train_test_split(features, labels, \n",
    "#                          test_size = 0.25, random_state = 42)\n",
    "\n",
    "# Using Skicit-learn to split data into training and testing sets\n",
    "from sklearn.model_selection import train_test_split\n",
    "# Split the data into training and testing sets\n",
    "\n",
    "X_train, X_test, Y_train, Y_test = train_test_split(X, y, test_size = 0.25, random_state = 42)"
   ]
  },
  {
   "cell_type": "code",
   "execution_count": 113,
   "metadata": {},
   "outputs": [
    {
     "data": {
      "text/plain": [
       "RandomForestRegressor(bootstrap=True, criterion='mse', max_depth=2,\n",
       "           max_features='auto', max_leaf_nodes=None,\n",
       "           min_impurity_split=1e-07, min_samples_leaf=1,\n",
       "           min_samples_split=2, min_weight_fraction_leaf=0.0,\n",
       "           n_estimators=10, n_jobs=1, oob_score=False, random_state=0,\n",
       "           verbose=0, warm_start=False)"
      ]
     },
     "execution_count": 113,
     "metadata": {},
     "output_type": "execute_result"
    }
   ],
   "source": [
    "regr = RandomForestRegressor(max_depth=2, random_state=0)\n",
    "regr.fit(X_train, Y_train)"
   ]
  },
  {
   "cell_type": "code",
   "execution_count": 114,
   "metadata": {},
   "outputs": [
    {
     "name": "stdout",
     "output_type": "stream",
     "text": [
      "[0.01590281 0.94405113 0.04004606]\n"
     ]
    }
   ],
   "source": [
    "print(regr.feature_importances_) #strength of importance of feature in the model\n",
    "#but is using the other two because they are not zero!!!"
   ]
  },
  {
   "cell_type": "code",
   "execution_count": 115,
   "metadata": {},
   "outputs": [
    {
     "name": "stdout",
     "output_type": "stream",
     "text": [
      "[1114.12674763  617.89886313  845.8458259  1087.26301234  845.8458259\n",
      " 1087.26301234  770.27835392  928.40434538  824.74849407  770.27835392\n",
      "  438.05447288  824.74849407  770.27835392  770.27835392  931.99236558\n",
      "  617.89886313  876.61368701  451.59475065  983.78302396  451.59475065\n",
      "  770.27835392  748.29913732 1087.26301234  418.84221573  983.78302396\n",
      "  770.27835392 1087.26301234  503.13590401  770.27835392  770.27835392\n",
      "  770.27835392  641.37032741]\n"
     ]
    }
   ],
   "source": [
    "print(regr.predict(X_test))"
   ]
  },
  {
   "cell_type": "code",
   "execution_count": 117,
   "metadata": {},
   "outputs": [
    {
     "data": {
      "text/plain": [
       "0.8017445780922451"
      ]
     },
     "execution_count": 117,
     "metadata": {},
     "output_type": "execute_result"
    }
   ],
   "source": [
    "#now can compare with the original X_train!!!\n",
    "#using score \n",
    "regr.score(X_test, Y_test) #X_test , as seen above...X_test has more dimensions than the output on predict"
   ]
  },
  {
   "cell_type": "code",
   "execution_count": 124,
   "metadata": {},
   "outputs": [
    {
     "data": {
      "text/plain": [
       "GridSearchCV(cv=5, error_score='raise',\n",
       "       estimator=RandomForestRegressor(bootstrap=True, criterion='mse', max_depth=2,\n",
       "           max_features='auto', max_leaf_nodes=None,\n",
       "           min_impurity_split=1e-07, min_samples_leaf=1,\n",
       "           min_samples_split=2, min_weight_fraction_leaf=0.0,\n",
       "           n_estimators=10, n_jobs=1, oob_score=False, random_state=0,\n",
       "           verbose=0, warm_start=False),\n",
       "       fit_params={}, iid=True, n_jobs=1,\n",
       "       param_grid={'criterion': ['mse', 'mae'], 'max_depth': [2, 6, 8], 'n_estimators': [50, 100, 200]},\n",
       "       pre_dispatch='2*n_jobs', refit=True, return_train_score=True,\n",
       "       scoring=None, verbose=0)"
      ]
     },
     "execution_count": 124,
     "metadata": {},
     "output_type": "execute_result"
    }
   ],
   "source": [
    "#use a grid search\n",
    "\n",
    "param_grid = {\"criterion\": [\"mse\", \"mae\"], #mean squared error and mean absolute error in documentation\n",
    "              #\"min_samples_split\": [10, 20, 40],\n",
    "              \"max_depth\": [2, 6, 8],\n",
    "              \"n_estimators\":[50, 100, 200]\n",
    "              #\"min_samples_leaf\": [20, 40, 100],\n",
    "              #\"max_leaf_nodes\": [5, 20, 100, 500, 800],\n",
    "              }\n",
    "\n",
    "grid_cv_regr = GridSearchCV(regr, param_grid, cv=5)\n",
    "\n",
    "grid_cv_regr.fit(X_train, Y_train) #features and labels"
   ]
  },
  {
   "cell_type": "code",
   "execution_count": 126,
   "metadata": {},
   "outputs": [
    {
     "name": "stdout",
     "output_type": "stream",
     "text": [
      "R-Squared::0.781573998077793\n",
      "Best Hyperparameters::\n",
      "{'criterion': 'mse', 'max_depth': 8, 'n_estimators': 100}\n"
     ]
    }
   ],
   "source": [
    "print(\"R-Squared::{}\".format(grid_cv_regr.best_score_))\n",
    "print(\"Best Hyperparameters::\\n{}\".format(grid_cv_regr.best_params_))\n",
    "\n",
    "#random forest builds multiple decision trees \n",
    "#best number of decision trees\n",
    "#depth of each tree shouldnt be more than 8 levels\n",
    "#go down to 8 levels(splits) but dont split it further"
   ]
  },
  {
   "cell_type": "code",
   "execution_count": 128,
   "metadata": {},
   "outputs": [
    {
     "data": {
      "text/html": [
       "<div>\n",
       "<style>\n",
       "    .dataframe thead tr:only-child th {\n",
       "        text-align: right;\n",
       "    }\n",
       "\n",
       "    .dataframe thead th {\n",
       "        text-align: left;\n",
       "    }\n",
       "\n",
       "    .dataframe tbody tr th {\n",
       "        vertical-align: top;\n",
       "    }\n",
       "</style>\n",
       "<table border=\"1\" class=\"dataframe\">\n",
       "  <thead>\n",
       "    <tr style=\"text-align: right;\">\n",
       "      <th></th>\n",
       "      <th>mean_fit_time</th>\n",
       "      <th>mean_score_time</th>\n",
       "      <th>mean_test_score</th>\n",
       "      <th>mean_train_score</th>\n",
       "      <th>param_criterion</th>\n",
       "      <th>param_max_depth</th>\n",
       "      <th>param_n_estimators</th>\n",
       "      <th>params</th>\n",
       "      <th>rank_test_score</th>\n",
       "      <th>split0_test_score</th>\n",
       "      <th>...</th>\n",
       "      <th>split2_test_score</th>\n",
       "      <th>split2_train_score</th>\n",
       "      <th>split3_test_score</th>\n",
       "      <th>split3_train_score</th>\n",
       "      <th>split4_test_score</th>\n",
       "      <th>split4_train_score</th>\n",
       "      <th>std_fit_time</th>\n",
       "      <th>std_score_time</th>\n",
       "      <th>std_test_score</th>\n",
       "      <th>std_train_score</th>\n",
       "    </tr>\n",
       "  </thead>\n",
       "  <tbody>\n",
       "    <tr>\n",
       "      <th>0</th>\n",
       "      <td>0.049420</td>\n",
       "      <td>0.004373</td>\n",
       "      <td>0.635309</td>\n",
       "      <td>0.778977</td>\n",
       "      <td>mse</td>\n",
       "      <td>2</td>\n",
       "      <td>50</td>\n",
       "      <td>{'criterion': 'mse', 'max_depth': 2, 'n_estima...</td>\n",
       "      <td>15</td>\n",
       "      <td>0.613964</td>\n",
       "      <td>...</td>\n",
       "      <td>0.451744</td>\n",
       "      <td>0.804077</td>\n",
       "      <td>0.656762</td>\n",
       "      <td>0.758853</td>\n",
       "      <td>0.675603</td>\n",
       "      <td>0.792493</td>\n",
       "      <td>0.006796</td>\n",
       "      <td>0.001624</td>\n",
       "      <td>0.107580</td>\n",
       "      <td>0.016929</td>\n",
       "    </tr>\n",
       "    <tr>\n",
       "      <th>1</th>\n",
       "      <td>0.089607</td>\n",
       "      <td>0.007720</td>\n",
       "      <td>0.642203</td>\n",
       "      <td>0.783669</td>\n",
       "      <td>mse</td>\n",
       "      <td>2</td>\n",
       "      <td>100</td>\n",
       "      <td>{'criterion': 'mse', 'max_depth': 2, 'n_estima...</td>\n",
       "      <td>14</td>\n",
       "      <td>0.632470</td>\n",
       "      <td>...</td>\n",
       "      <td>0.452446</td>\n",
       "      <td>0.807411</td>\n",
       "      <td>0.661534</td>\n",
       "      <td>0.761985</td>\n",
       "      <td>0.677862</td>\n",
       "      <td>0.795574</td>\n",
       "      <td>0.002713</td>\n",
       "      <td>0.004802</td>\n",
       "      <td>0.109303</td>\n",
       "      <td>0.016629</td>\n",
       "    </tr>\n",
       "    <tr>\n",
       "      <th>2</th>\n",
       "      <td>0.179562</td>\n",
       "      <td>0.010158</td>\n",
       "      <td>0.645046</td>\n",
       "      <td>0.783199</td>\n",
       "      <td>mse</td>\n",
       "      <td>2</td>\n",
       "      <td>200</td>\n",
       "      <td>{'criterion': 'mse', 'max_depth': 2, 'n_estima...</td>\n",
       "      <td>13</td>\n",
       "      <td>0.646579</td>\n",
       "      <td>...</td>\n",
       "      <td>0.453979</td>\n",
       "      <td>0.809105</td>\n",
       "      <td>0.664311</td>\n",
       "      <td>0.762408</td>\n",
       "      <td>0.674158</td>\n",
       "      <td>0.792468</td>\n",
       "      <td>0.002274</td>\n",
       "      <td>0.000931</td>\n",
       "      <td>0.108315</td>\n",
       "      <td>0.016699</td>\n",
       "    </tr>\n",
       "    <tr>\n",
       "      <th>3</th>\n",
       "      <td>0.045795</td>\n",
       "      <td>0.002975</td>\n",
       "      <td>0.772805</td>\n",
       "      <td>0.966819</td>\n",
       "      <td>mse</td>\n",
       "      <td>6</td>\n",
       "      <td>50</td>\n",
       "      <td>{'criterion': 'mse', 'max_depth': 6, 'n_estima...</td>\n",
       "      <td>6</td>\n",
       "      <td>0.779761</td>\n",
       "      <td>...</td>\n",
       "      <td>0.534255</td>\n",
       "      <td>0.973722</td>\n",
       "      <td>0.834329</td>\n",
       "      <td>0.969750</td>\n",
       "      <td>0.826922</td>\n",
       "      <td>0.963078</td>\n",
       "      <td>0.001399</td>\n",
       "      <td>0.000236</td>\n",
       "      <td>0.125263</td>\n",
       "      <td>0.004298</td>\n",
       "    </tr>\n",
       "    <tr>\n",
       "      <th>4</th>\n",
       "      <td>0.098358</td>\n",
       "      <td>0.005223</td>\n",
       "      <td>0.779033</td>\n",
       "      <td>0.967569</td>\n",
       "      <td>mse</td>\n",
       "      <td>6</td>\n",
       "      <td>100</td>\n",
       "      <td>{'criterion': 'mse', 'max_depth': 6, 'n_estima...</td>\n",
       "      <td>3</td>\n",
       "      <td>0.771612</td>\n",
       "      <td>...</td>\n",
       "      <td>0.537566</td>\n",
       "      <td>0.973433</td>\n",
       "      <td>0.843001</td>\n",
       "      <td>0.968763</td>\n",
       "      <td>0.847150</td>\n",
       "      <td>0.964772</td>\n",
       "      <td>0.003251</td>\n",
       "      <td>0.000178</td>\n",
       "      <td>0.128224</td>\n",
       "      <td>0.003374</td>\n",
       "    </tr>\n",
       "  </tbody>\n",
       "</table>\n",
       "<p>5 rows × 23 columns</p>\n",
       "</div>"
      ],
      "text/plain": [
       "   mean_fit_time  mean_score_time  mean_test_score  mean_train_score  \\\n",
       "0       0.049420         0.004373         0.635309          0.778977   \n",
       "1       0.089607         0.007720         0.642203          0.783669   \n",
       "2       0.179562         0.010158         0.645046          0.783199   \n",
       "3       0.045795         0.002975         0.772805          0.966819   \n",
       "4       0.098358         0.005223         0.779033          0.967569   \n",
       "\n",
       "  param_criterion param_max_depth param_n_estimators  \\\n",
       "0             mse               2                 50   \n",
       "1             mse               2                100   \n",
       "2             mse               2                200   \n",
       "3             mse               6                 50   \n",
       "4             mse               6                100   \n",
       "\n",
       "                                              params  rank_test_score  \\\n",
       "0  {'criterion': 'mse', 'max_depth': 2, 'n_estima...               15   \n",
       "1  {'criterion': 'mse', 'max_depth': 2, 'n_estima...               14   \n",
       "2  {'criterion': 'mse', 'max_depth': 2, 'n_estima...               13   \n",
       "3  {'criterion': 'mse', 'max_depth': 6, 'n_estima...                6   \n",
       "4  {'criterion': 'mse', 'max_depth': 6, 'n_estima...                3   \n",
       "\n",
       "   split0_test_score       ...         split2_test_score  split2_train_score  \\\n",
       "0           0.613964       ...                  0.451744            0.804077   \n",
       "1           0.632470       ...                  0.452446            0.807411   \n",
       "2           0.646579       ...                  0.453979            0.809105   \n",
       "3           0.779761       ...                  0.534255            0.973722   \n",
       "4           0.771612       ...                  0.537566            0.973433   \n",
       "\n",
       "   split3_test_score  split3_train_score  split4_test_score  \\\n",
       "0           0.656762            0.758853           0.675603   \n",
       "1           0.661534            0.761985           0.677862   \n",
       "2           0.664311            0.762408           0.674158   \n",
       "3           0.834329            0.969750           0.826922   \n",
       "4           0.843001            0.968763           0.847150   \n",
       "\n",
       "   split4_train_score  std_fit_time  std_score_time  std_test_score  \\\n",
       "0            0.792493      0.006796        0.001624        0.107580   \n",
       "1            0.795574      0.002713        0.004802        0.109303   \n",
       "2            0.792468      0.002274        0.000931        0.108315   \n",
       "3            0.963078      0.001399        0.000236        0.125263   \n",
       "4            0.964772      0.003251        0.000178        0.128224   \n",
       "\n",
       "   std_train_score  \n",
       "0         0.016929  \n",
       "1         0.016629  \n",
       "2         0.016699  \n",
       "3         0.004298  \n",
       "4         0.003374  \n",
       "\n",
       "[5 rows x 23 columns]"
      ]
     },
     "execution_count": 128,
     "metadata": {},
     "output_type": "execute_result"
    }
   ],
   "source": [
    "df = pd.DataFrame(data=grid_cv_regr.cv_results_)\n",
    "df.head()"
   ]
  },
  {
   "cell_type": "code",
   "execution_count": 130,
   "metadata": {},
   "outputs": [
    {
     "name": "stdout",
     "output_type": "stream",
     "text": [
      "{'criterion': 'mse', 'max_depth': 2, 'n_estimators': 50} 0.6353 0.1076\n",
      "{'criterion': 'mse', 'max_depth': 2, 'n_estimators': 100} 0.6422 0.1093\n",
      "{'criterion': 'mse', 'max_depth': 2, 'n_estimators': 200} 0.645 0.1083\n",
      "{'criterion': 'mse', 'max_depth': 6, 'n_estimators': 50} 0.7728 0.1253\n",
      "{'criterion': 'mse', 'max_depth': 6, 'n_estimators': 100} 0.779 0.1282\n",
      "{'criterion': 'mse', 'max_depth': 6, 'n_estimators': 200} 0.7762 0.1262\n",
      "{'criterion': 'mse', 'max_depth': 8, 'n_estimators': 50} 0.7741 0.1249\n",
      "{'criterion': 'mse', 'max_depth': 8, 'n_estimators': 100} 0.7816 0.1313\n",
      "{'criterion': 'mse', 'max_depth': 8, 'n_estimators': 200} 0.7797 0.1288\n",
      "{'criterion': 'mae', 'max_depth': 2, 'n_estimators': 50} 0.589 0.1577\n",
      "{'criterion': 'mae', 'max_depth': 2, 'n_estimators': 100} 0.6003 0.16\n",
      "{'criterion': 'mae', 'max_depth': 2, 'n_estimators': 200} 0.6018 0.1695\n",
      "{'criterion': 'mae', 'max_depth': 6, 'n_estimators': 50} 0.739 0.1527\n",
      "{'criterion': 'mae', 'max_depth': 6, 'n_estimators': 100} 0.74 0.1553\n",
      "{'criterion': 'mae', 'max_depth': 6, 'n_estimators': 200} 0.7376 0.1603\n",
      "{'criterion': 'mae', 'max_depth': 8, 'n_estimators': 50} 0.7405 0.1567\n",
      "{'criterion': 'mae', 'max_depth': 8, 'n_estimators': 100} 0.7454 0.1541\n",
      "{'criterion': 'mae', 'max_depth': 8, 'n_estimators': 200} 0.7421 0.1601\n"
     ]
    }
   ],
   "source": [
    "results = grid_cv_regr.cv_results_\n",
    "for param, score_mean, score_sd in zip(results['params'], results['mean_test_score'], results['std_test_score']):\n",
    "    print(param, round(score_mean, 4), round(score_sd, 4))\n",
    "    \n",
    "#the highest is n=100, and mx depth 8 "
   ]
  },
  {
   "cell_type": "code",
   "execution_count": 131,
   "metadata": {},
   "outputs": [
    {
     "data": {
      "text/plain": [
       "0.9439053866082423"
      ]
     },
     "execution_count": 131,
     "metadata": {},
     "output_type": "execute_result"
    }
   ],
   "source": [
    "grid_cv_regr.score(X_test, Y_test) #this is really great!!!"
   ]
  },
  {
   "cell_type": "code",
   "execution_count": null,
   "metadata": {
    "collapsed": true
   },
   "outputs": [],
   "source": [
    "#do classicfication first \n",
    "#got default score then i tuned model with cross validation and got a better.\n",
    "\n",
    "#classification just y changes."
   ]
  },
  {
   "cell_type": "code",
   "execution_count": null,
   "metadata": {
    "collapsed": true
   },
   "outputs": [],
   "source": [
    "#good result its a chi squared... but no cross validation, in chi squared if you get zero you overfit\n",
    "#if you get 1 then \n",
    "#claiming its slightly over fit. if your between zero and 1 then you are probably slightly overfit\n",
    "# skit learn function that allows for cross validation.\n",
    "# as of right now \n",
    "\n",
    "# classification is next \n",
    "\n",
    "#did not forecast what is to come?\n",
    "#how changes in the dow jones might cause changes in ethereum\n",
    "#if you can predict changes in the dow jones might be able to predict changes in ethereum\n",
    "# dont have the ability to forecast ?? \n",
    "#regression model can forecast?\n",
    "#if you knew by monday that on tuesday dow jones will go up\n",
    "#then you could use to forcast ethereum price\n",
    "\n",
    "#what i found is found correlation but not causation.\n",
    "#predict changes based on day to day fluctions.\n",
    "#maybe it would be higher correlation with \n"
   ]
  },
  {
   "cell_type": "markdown",
   "metadata": {},
   "source": [
    "### below here is quite a bit"
   ]
  },
  {
   "cell_type": "code",
   "execution_count": 50,
   "metadata": {
    "collapsed": true
   },
   "outputs": [],
   "source": [
    "df_new1 = df19.append(df20)"
   ]
  },
  {
   "cell_type": "code",
   "execution_count": 52,
   "metadata": {
    "collapsed": true
   },
   "outputs": [],
   "source": [
    "df_new1 = df_new1.append(df22)\n",
    "df_new1['timestamp'] = df_new1['timestamp'].dropna()\n",
    "df_new1 = df_new1[df_new1['timestamp'].isnull() == False]"
   ]
  },
  {
   "cell_type": "code",
   "execution_count": 54,
   "metadata": {},
   "outputs": [
    {
     "data": {
      "text/plain": [
       "3556521"
      ]
     },
     "execution_count": 54,
     "metadata": {},
     "output_type": "execute_result"
    }
   ],
   "source": [
    "len(df_new1) #cool these are about same length"
   ]
  },
  {
   "cell_type": "code",
   "execution_count": 4,
   "metadata": {
    "collapsed": true
   },
   "outputs": [],
   "source": [
    "import datetime\n",
    "import time"
   ]
  },
  {
   "cell_type": "code",
   "execution_count": 30,
   "metadata": {
    "collapsed": true
   },
   "outputs": [],
   "source": [
    "df_new = df1.append(df2)\n",
    "df_new['timestamp'] = df_new['timestamp'].dropna()\n",
    "df_new = df_new2[df_new['timestamp'].isnull() == False]"
   ]
  },
  {
   "cell_type": "code",
   "execution_count": 46,
   "metadata": {
    "collapsed": true
   },
   "outputs": [],
   "source": [
    "df_new = df_new.append(df18)"
   ]
  },
  {
   "cell_type": "code",
   "execution_count": 47,
   "metadata": {},
   "outputs": [
    {
     "data": {
      "text/plain": [
       "3388053"
      ]
     },
     "execution_count": 47,
     "metadata": {},
     "output_type": "execute_result"
    }
   ],
   "source": [
    "len(df_new) #3388053 or about 3 mill"
   ]
  },
  {
   "cell_type": "code",
   "execution_count": 55,
   "metadata": {
    "collapsed": true
   },
   "outputs": [],
   "source": [
    "df_new2 = df_new.append(df_new1)"
   ]
  },
  {
   "cell_type": "code",
   "execution_count": 56,
   "metadata": {},
   "outputs": [
    {
     "data": {
      "text/plain": [
       "6944574"
      ]
     },
     "execution_count": 56,
     "metadata": {},
     "output_type": "execute_result"
    }
   ],
   "source": [
    "len(df_new2)"
   ]
  },
  {
   "cell_type": "code",
   "execution_count": 58,
   "metadata": {
    "collapsed": true
   },
   "outputs": [],
   "source": [
    "df_new2.to_csv('mega_sentiment.csv')"
   ]
  },
  {
   "cell_type": "markdown",
   "metadata": {},
   "source": [
    "#### above here is concatenating\n",
    "\n",
    "now time for putting into textblob"
   ]
  },
  {
   "cell_type": "code",
   "execution_count": 60,
   "metadata": {},
   "outputs": [
    {
     "ename": "KeyboardInterrupt",
     "evalue": "",
     "output_type": "error",
     "traceback": [
      "\u001b[0;31m---------------------------------------------------------------------------\u001b[0m",
      "\u001b[0;31mKeyboardInterrupt\u001b[0m                         Traceback (most recent call last)",
      "\u001b[0;32m<ipython-input-60-6bd5fcadf6e0>\u001b[0m in \u001b[0;36m<module>\u001b[0;34m()\u001b[0m\n\u001b[0;32m----> 1\u001b[0;31m \u001b[0mdf_new2\u001b[0m\u001b[0;34m[\u001b[0m\u001b[0;34m'timestamp'\u001b[0m\u001b[0;34m]\u001b[0m \u001b[0;34m=\u001b[0m \u001b[0mdf_new2\u001b[0m\u001b[0;34m[\u001b[0m\u001b[0;34m'timestamp'\u001b[0m\u001b[0;34m]\u001b[0m\u001b[0;34m.\u001b[0m\u001b[0mdropna\u001b[0m\u001b[0;34m(\u001b[0m\u001b[0;34m)\u001b[0m\u001b[0;34m\u001b[0m\u001b[0m\n\u001b[0m\u001b[1;32m      2\u001b[0m \u001b[0mdf_new2\u001b[0m \u001b[0;34m=\u001b[0m \u001b[0mdf_new2\u001b[0m\u001b[0;34m[\u001b[0m\u001b[0mdf_new2\u001b[0m\u001b[0;34m[\u001b[0m\u001b[0;34m'timestamp'\u001b[0m\u001b[0;34m]\u001b[0m\u001b[0;34m.\u001b[0m\u001b[0misnull\u001b[0m\u001b[0;34m(\u001b[0m\u001b[0;34m)\u001b[0m \u001b[0;34m==\u001b[0m \u001b[0;32mFalse\u001b[0m\u001b[0;34m]\u001b[0m \u001b[0;31m#i think does same thing as one above\u001b[0m\u001b[0;34m\u001b[0m\u001b[0m\n",
      "\u001b[0;32m/Users/Alexandra/anaconda/lib/python3.6/site-packages/pandas/core/frame.py\u001b[0m in \u001b[0;36m__setitem__\u001b[0;34m(self, key, value)\u001b[0m\n\u001b[1;32m   2427\u001b[0m         \u001b[0;32melse\u001b[0m\u001b[0;34m:\u001b[0m\u001b[0;34m\u001b[0m\u001b[0m\n\u001b[1;32m   2428\u001b[0m             \u001b[0;31m# set column\u001b[0m\u001b[0;34m\u001b[0m\u001b[0;34m\u001b[0m\u001b[0m\n\u001b[0;32m-> 2429\u001b[0;31m             \u001b[0mself\u001b[0m\u001b[0;34m.\u001b[0m\u001b[0m_set_item\u001b[0m\u001b[0;34m(\u001b[0m\u001b[0mkey\u001b[0m\u001b[0;34m,\u001b[0m \u001b[0mvalue\u001b[0m\u001b[0;34m)\u001b[0m\u001b[0;34m\u001b[0m\u001b[0m\n\u001b[0m\u001b[1;32m   2430\u001b[0m \u001b[0;34m\u001b[0m\u001b[0m\n\u001b[1;32m   2431\u001b[0m     \u001b[0;32mdef\u001b[0m \u001b[0m_setitem_slice\u001b[0m\u001b[0;34m(\u001b[0m\u001b[0mself\u001b[0m\u001b[0;34m,\u001b[0m \u001b[0mkey\u001b[0m\u001b[0;34m,\u001b[0m \u001b[0mvalue\u001b[0m\u001b[0;34m)\u001b[0m\u001b[0;34m:\u001b[0m\u001b[0;34m\u001b[0m\u001b[0m\n",
      "\u001b[0;32m/Users/Alexandra/anaconda/lib/python3.6/site-packages/pandas/core/frame.py\u001b[0m in \u001b[0;36m_set_item\u001b[0;34m(self, key, value)\u001b[0m\n\u001b[1;32m   2493\u001b[0m \u001b[0;34m\u001b[0m\u001b[0m\n\u001b[1;32m   2494\u001b[0m         \u001b[0mself\u001b[0m\u001b[0;34m.\u001b[0m\u001b[0m_ensure_valid_index\u001b[0m\u001b[0;34m(\u001b[0m\u001b[0mvalue\u001b[0m\u001b[0;34m)\u001b[0m\u001b[0;34m\u001b[0m\u001b[0m\n\u001b[0;32m-> 2495\u001b[0;31m         \u001b[0mvalue\u001b[0m \u001b[0;34m=\u001b[0m \u001b[0mself\u001b[0m\u001b[0;34m.\u001b[0m\u001b[0m_sanitize_column\u001b[0m\u001b[0;34m(\u001b[0m\u001b[0mkey\u001b[0m\u001b[0;34m,\u001b[0m \u001b[0mvalue\u001b[0m\u001b[0;34m)\u001b[0m\u001b[0;34m\u001b[0m\u001b[0m\n\u001b[0m\u001b[1;32m   2496\u001b[0m         \u001b[0mNDFrame\u001b[0m\u001b[0;34m.\u001b[0m\u001b[0m_set_item\u001b[0m\u001b[0;34m(\u001b[0m\u001b[0mself\u001b[0m\u001b[0;34m,\u001b[0m \u001b[0mkey\u001b[0m\u001b[0;34m,\u001b[0m \u001b[0mvalue\u001b[0m\u001b[0;34m)\u001b[0m\u001b[0;34m\u001b[0m\u001b[0m\n\u001b[1;32m   2497\u001b[0m \u001b[0;34m\u001b[0m\u001b[0m\n",
      "\u001b[0;32m/Users/Alexandra/anaconda/lib/python3.6/site-packages/pandas/core/frame.py\u001b[0m in \u001b[0;36m_sanitize_column\u001b[0;34m(self, key, value, broadcast)\u001b[0m\n\u001b[1;32m   2643\u001b[0m \u001b[0;34m\u001b[0m\u001b[0m\n\u001b[1;32m   2644\u001b[0m         \u001b[0;32mif\u001b[0m \u001b[0misinstance\u001b[0m\u001b[0;34m(\u001b[0m\u001b[0mvalue\u001b[0m\u001b[0;34m,\u001b[0m \u001b[0mSeries\u001b[0m\u001b[0;34m)\u001b[0m\u001b[0;34m:\u001b[0m\u001b[0;34m\u001b[0m\u001b[0m\n\u001b[0;32m-> 2645\u001b[0;31m             \u001b[0mvalue\u001b[0m \u001b[0;34m=\u001b[0m \u001b[0mreindexer\u001b[0m\u001b[0;34m(\u001b[0m\u001b[0mvalue\u001b[0m\u001b[0;34m)\u001b[0m\u001b[0;34m\u001b[0m\u001b[0m\n\u001b[0m\u001b[1;32m   2646\u001b[0m \u001b[0;34m\u001b[0m\u001b[0m\n\u001b[1;32m   2647\u001b[0m         \u001b[0;32melif\u001b[0m \u001b[0misinstance\u001b[0m\u001b[0;34m(\u001b[0m\u001b[0mvalue\u001b[0m\u001b[0;34m,\u001b[0m \u001b[0mDataFrame\u001b[0m\u001b[0;34m)\u001b[0m\u001b[0;34m:\u001b[0m\u001b[0;34m\u001b[0m\u001b[0m\n",
      "\u001b[0;32m/Users/Alexandra/anaconda/lib/python3.6/site-packages/pandas/core/frame.py\u001b[0m in \u001b[0;36mreindexer\u001b[0;34m(value)\u001b[0m\n\u001b[1;32m   2630\u001b[0m                 \u001b[0;31m# GH 4107\u001b[0m\u001b[0;34m\u001b[0m\u001b[0;34m\u001b[0m\u001b[0m\n\u001b[1;32m   2631\u001b[0m                 \u001b[0;32mtry\u001b[0m\u001b[0;34m:\u001b[0m\u001b[0;34m\u001b[0m\u001b[0m\n\u001b[0;32m-> 2632\u001b[0;31m                     \u001b[0mvalue\u001b[0m \u001b[0;34m=\u001b[0m \u001b[0mvalue\u001b[0m\u001b[0;34m.\u001b[0m\u001b[0mreindex\u001b[0m\u001b[0;34m(\u001b[0m\u001b[0mself\u001b[0m\u001b[0;34m.\u001b[0m\u001b[0mindex\u001b[0m\u001b[0;34m)\u001b[0m\u001b[0;34m.\u001b[0m\u001b[0m_values\u001b[0m\u001b[0;34m\u001b[0m\u001b[0m\n\u001b[0m\u001b[1;32m   2633\u001b[0m                 \u001b[0;32mexcept\u001b[0m \u001b[0mException\u001b[0m \u001b[0;32mas\u001b[0m \u001b[0me\u001b[0m\u001b[0;34m:\u001b[0m\u001b[0;34m\u001b[0m\u001b[0m\n\u001b[1;32m   2634\u001b[0m \u001b[0;34m\u001b[0m\u001b[0m\n",
      "\u001b[0;32m/Users/Alexandra/anaconda/lib/python3.6/site-packages/pandas/core/series.py\u001b[0m in \u001b[0;36mreindex\u001b[0;34m(self, index, **kwargs)\u001b[0m\n\u001b[1;32m   2424\u001b[0m     \u001b[0;34m@\u001b[0m\u001b[0mAppender\u001b[0m\u001b[0;34m(\u001b[0m\u001b[0mgeneric\u001b[0m\u001b[0;34m.\u001b[0m\u001b[0m_shared_docs\u001b[0m\u001b[0;34m[\u001b[0m\u001b[0;34m'reindex'\u001b[0m\u001b[0;34m]\u001b[0m \u001b[0;34m%\u001b[0m \u001b[0m_shared_doc_kwargs\u001b[0m\u001b[0;34m)\u001b[0m\u001b[0;34m\u001b[0m\u001b[0m\n\u001b[1;32m   2425\u001b[0m     \u001b[0;32mdef\u001b[0m \u001b[0mreindex\u001b[0m\u001b[0;34m(\u001b[0m\u001b[0mself\u001b[0m\u001b[0;34m,\u001b[0m \u001b[0mindex\u001b[0m\u001b[0;34m=\u001b[0m\u001b[0;32mNone\u001b[0m\u001b[0;34m,\u001b[0m \u001b[0;34m**\u001b[0m\u001b[0mkwargs\u001b[0m\u001b[0;34m)\u001b[0m\u001b[0;34m:\u001b[0m\u001b[0;34m\u001b[0m\u001b[0m\n\u001b[0;32m-> 2426\u001b[0;31m         \u001b[0;32mreturn\u001b[0m \u001b[0msuper\u001b[0m\u001b[0;34m(\u001b[0m\u001b[0mSeries\u001b[0m\u001b[0;34m,\u001b[0m \u001b[0mself\u001b[0m\u001b[0;34m)\u001b[0m\u001b[0;34m.\u001b[0m\u001b[0mreindex\u001b[0m\u001b[0;34m(\u001b[0m\u001b[0mindex\u001b[0m\u001b[0;34m=\u001b[0m\u001b[0mindex\u001b[0m\u001b[0;34m,\u001b[0m \u001b[0;34m**\u001b[0m\u001b[0mkwargs\u001b[0m\u001b[0;34m)\u001b[0m\u001b[0;34m\u001b[0m\u001b[0m\n\u001b[0m\u001b[1;32m   2427\u001b[0m \u001b[0;34m\u001b[0m\u001b[0m\n\u001b[1;32m   2428\u001b[0m     \u001b[0;34m@\u001b[0m\u001b[0mAppender\u001b[0m\u001b[0;34m(\u001b[0m\u001b[0mgeneric\u001b[0m\u001b[0;34m.\u001b[0m\u001b[0m_shared_docs\u001b[0m\u001b[0;34m[\u001b[0m\u001b[0;34m'fillna'\u001b[0m\u001b[0;34m]\u001b[0m \u001b[0;34m%\u001b[0m \u001b[0m_shared_doc_kwargs\u001b[0m\u001b[0;34m)\u001b[0m\u001b[0;34m\u001b[0m\u001b[0m\n",
      "\u001b[0;32m/Users/Alexandra/anaconda/lib/python3.6/site-packages/pandas/core/generic.py\u001b[0m in \u001b[0;36mreindex\u001b[0;34m(self, *args, **kwargs)\u001b[0m\n\u001b[1;32m   2402\u001b[0m         \u001b[0;31m# perform the reindex on the axes\u001b[0m\u001b[0;34m\u001b[0m\u001b[0;34m\u001b[0m\u001b[0m\n\u001b[1;32m   2403\u001b[0m         return self._reindex_axes(axes, level, limit, tolerance, method,\n\u001b[0;32m-> 2404\u001b[0;31m                                   fill_value, copy).__finalize__(self)\n\u001b[0m\u001b[1;32m   2405\u001b[0m \u001b[0;34m\u001b[0m\u001b[0m\n\u001b[1;32m   2406\u001b[0m     def _reindex_axes(self, axes, level, limit, tolerance, method, fill_value,\n",
      "\u001b[0;32m/Users/Alexandra/anaconda/lib/python3.6/site-packages/pandas/core/generic.py\u001b[0m in \u001b[0;36m_reindex_axes\u001b[0;34m(self, axes, level, limit, tolerance, method, fill_value, copy)\u001b[0m\n\u001b[1;32m   2415\u001b[0m             \u001b[0max\u001b[0m \u001b[0;34m=\u001b[0m \u001b[0mself\u001b[0m\u001b[0;34m.\u001b[0m\u001b[0m_get_axis\u001b[0m\u001b[0;34m(\u001b[0m\u001b[0ma\u001b[0m\u001b[0;34m)\u001b[0m\u001b[0;34m\u001b[0m\u001b[0m\n\u001b[1;32m   2416\u001b[0m             new_index, indexer = ax.reindex(labels, level=level, limit=limit,\n\u001b[0;32m-> 2417\u001b[0;31m                                             tolerance=tolerance, method=method)\n\u001b[0m\u001b[1;32m   2418\u001b[0m \u001b[0;34m\u001b[0m\u001b[0m\n\u001b[1;32m   2419\u001b[0m             \u001b[0maxis\u001b[0m \u001b[0;34m=\u001b[0m \u001b[0mself\u001b[0m\u001b[0;34m.\u001b[0m\u001b[0m_get_axis_number\u001b[0m\u001b[0;34m(\u001b[0m\u001b[0ma\u001b[0m\u001b[0;34m)\u001b[0m\u001b[0;34m\u001b[0m\u001b[0m\n",
      "\u001b[0;32m/Users/Alexandra/anaconda/lib/python3.6/site-packages/pandas/core/indexes/base.py\u001b[0m in \u001b[0;36mreindex\u001b[0;34m(self, target, method, level, limit, tolerance)\u001b[0m\n\u001b[1;32m   2836\u001b[0m                         raise ValueError(\"cannot reindex a non-unique index \"\n\u001b[1;32m   2837\u001b[0m                                          \"with a method or limit\")\n\u001b[0;32m-> 2838\u001b[0;31m                     \u001b[0mindexer\u001b[0m\u001b[0;34m,\u001b[0m \u001b[0mmissing\u001b[0m \u001b[0;34m=\u001b[0m \u001b[0mself\u001b[0m\u001b[0;34m.\u001b[0m\u001b[0mget_indexer_non_unique\u001b[0m\u001b[0;34m(\u001b[0m\u001b[0mtarget\u001b[0m\u001b[0;34m)\u001b[0m\u001b[0;34m\u001b[0m\u001b[0m\n\u001b[0m\u001b[1;32m   2839\u001b[0m \u001b[0;34m\u001b[0m\u001b[0m\n\u001b[1;32m   2840\u001b[0m         \u001b[0;32mif\u001b[0m \u001b[0mpreserve_names\u001b[0m \u001b[0;32mand\u001b[0m \u001b[0mtarget\u001b[0m\u001b[0;34m.\u001b[0m\u001b[0mnlevels\u001b[0m \u001b[0;34m==\u001b[0m \u001b[0;36m1\u001b[0m \u001b[0;32mand\u001b[0m \u001b[0mtarget\u001b[0m\u001b[0;34m.\u001b[0m\u001b[0mname\u001b[0m \u001b[0;34m!=\u001b[0m \u001b[0mself\u001b[0m\u001b[0;34m.\u001b[0m\u001b[0mname\u001b[0m\u001b[0;34m:\u001b[0m\u001b[0;34m\u001b[0m\u001b[0m\n",
      "\u001b[0;32m/Users/Alexandra/anaconda/lib/python3.6/site-packages/pandas/core/indexes/base.py\u001b[0m in \u001b[0;36mget_indexer_non_unique\u001b[0;34m(self, target)\u001b[0m\n\u001b[1;32m   2657\u001b[0m             \u001b[0mtgt_values\u001b[0m \u001b[0;34m=\u001b[0m \u001b[0mtarget\u001b[0m\u001b[0;34m.\u001b[0m\u001b[0m_values\u001b[0m\u001b[0;34m\u001b[0m\u001b[0m\n\u001b[1;32m   2658\u001b[0m \u001b[0;34m\u001b[0m\u001b[0m\n\u001b[0;32m-> 2659\u001b[0;31m         \u001b[0mindexer\u001b[0m\u001b[0;34m,\u001b[0m \u001b[0mmissing\u001b[0m \u001b[0;34m=\u001b[0m \u001b[0mself\u001b[0m\u001b[0;34m.\u001b[0m\u001b[0m_engine\u001b[0m\u001b[0;34m.\u001b[0m\u001b[0mget_indexer_non_unique\u001b[0m\u001b[0;34m(\u001b[0m\u001b[0mtgt_values\u001b[0m\u001b[0;34m)\u001b[0m\u001b[0;34m\u001b[0m\u001b[0m\n\u001b[0m\u001b[1;32m   2660\u001b[0m         \u001b[0;32mreturn\u001b[0m \u001b[0mIndex\u001b[0m\u001b[0;34m(\u001b[0m\u001b[0mindexer\u001b[0m\u001b[0;34m)\u001b[0m\u001b[0;34m,\u001b[0m \u001b[0mmissing\u001b[0m\u001b[0;34m\u001b[0m\u001b[0m\n\u001b[1;32m   2661\u001b[0m \u001b[0;34m\u001b[0m\u001b[0m\n",
      "\u001b[0;32mpandas/_libs/index.pyx\u001b[0m in \u001b[0;36mpandas._libs.index.IndexEngine.get_indexer_non_unique (pandas/_libs/index.c:8120)\u001b[0;34m()\u001b[0m\n",
      "\u001b[0;32m/Users/Alexandra/anaconda/lib/python3.6/site-packages/numpy/core/fromnumeric.py\u001b[0m in \u001b[0;36mresize\u001b[0;34m(a, new_shape)\u001b[0m\n\u001b[1;32m   1181\u001b[0m         \u001b[0mextra\u001b[0m \u001b[0;34m=\u001b[0m \u001b[0mNa\u001b[0m \u001b[0;34m-\u001b[0m \u001b[0mextra\u001b[0m\u001b[0;34m\u001b[0m\u001b[0m\n\u001b[1;32m   1182\u001b[0m \u001b[0;34m\u001b[0m\u001b[0m\n\u001b[0;32m-> 1183\u001b[0;31m     \u001b[0ma\u001b[0m \u001b[0;34m=\u001b[0m \u001b[0mconcatenate\u001b[0m\u001b[0;34m(\u001b[0m\u001b[0;34m(\u001b[0m\u001b[0ma\u001b[0m\u001b[0;34m,\u001b[0m\u001b[0;34m)\u001b[0m\u001b[0;34m*\u001b[0m\u001b[0mn_copies\u001b[0m\u001b[0;34m)\u001b[0m\u001b[0;34m\u001b[0m\u001b[0m\n\u001b[0m\u001b[1;32m   1184\u001b[0m     \u001b[0;32mif\u001b[0m \u001b[0mextra\u001b[0m \u001b[0;34m>\u001b[0m \u001b[0;36m0\u001b[0m\u001b[0;34m:\u001b[0m\u001b[0;34m\u001b[0m\u001b[0m\n\u001b[1;32m   1185\u001b[0m         \u001b[0ma\u001b[0m \u001b[0;34m=\u001b[0m \u001b[0ma\u001b[0m\u001b[0;34m[\u001b[0m\u001b[0;34m:\u001b[0m\u001b[0;34m-\u001b[0m\u001b[0mextra\u001b[0m\u001b[0;34m]\u001b[0m\u001b[0;34m\u001b[0m\u001b[0m\n",
      "\u001b[0;31mKeyboardInterrupt\u001b[0m: "
     ]
    }
   ],
   "source": [
    "df_new2['timestamp'] = df_new2['timestamp'].dropna()\n",
    "df_new2 = df_new2[df_new2['timestamp'].isnull() == False] #i think does same thing as one above"
   ]
  },
  {
   "cell_type": "code",
   "execution_count": 59,
   "metadata": {},
   "outputs": [
    {
     "ename": "ValueError",
     "evalue": "cannot convert float NaN to integer",
     "output_type": "error",
     "traceback": [
      "\u001b[0;31m---------------------------------------------------------------------------\u001b[0m",
      "\u001b[0;31mValueError\u001b[0m                                Traceback (most recent call last)",
      "\u001b[0;32m<ipython-input-59-bf61443f3299>\u001b[0m in \u001b[0;36m<module>\u001b[0;34m()\u001b[0m\n\u001b[0;32m----> 1\u001b[0;31m \u001b[0mint_time\u001b[0m \u001b[0;34m=\u001b[0m \u001b[0;34m[\u001b[0m\u001b[0mint\u001b[0m\u001b[0;34m(\u001b[0m\u001b[0mitem\u001b[0m\u001b[0;34m)\u001b[0m \u001b[0;32mfor\u001b[0m \u001b[0mitem\u001b[0m \u001b[0;32min\u001b[0m \u001b[0mdf_new2\u001b[0m\u001b[0;34m[\u001b[0m\u001b[0;34m'timestamp'\u001b[0m\u001b[0;34m]\u001b[0m\u001b[0;34m]\u001b[0m\u001b[0;34m\u001b[0m\u001b[0m\n\u001b[0m",
      "\u001b[0;32m<ipython-input-59-bf61443f3299>\u001b[0m in \u001b[0;36m<listcomp>\u001b[0;34m(.0)\u001b[0m\n\u001b[0;32m----> 1\u001b[0;31m \u001b[0mint_time\u001b[0m \u001b[0;34m=\u001b[0m \u001b[0;34m[\u001b[0m\u001b[0mint\u001b[0m\u001b[0;34m(\u001b[0m\u001b[0mitem\u001b[0m\u001b[0;34m)\u001b[0m \u001b[0;32mfor\u001b[0m \u001b[0mitem\u001b[0m \u001b[0;32min\u001b[0m \u001b[0mdf_new2\u001b[0m\u001b[0;34m[\u001b[0m\u001b[0;34m'timestamp'\u001b[0m\u001b[0;34m]\u001b[0m\u001b[0;34m]\u001b[0m\u001b[0;34m\u001b[0m\u001b[0m\n\u001b[0m",
      "\u001b[0;31mValueError\u001b[0m: cannot convert float NaN to integer"
     ]
    }
   ],
   "source": [
    "int_time = [int(item) for item in df_new2['timestamp']]"
   ]
  },
  {
   "cell_type": "code",
   "execution_count": 78,
   "metadata": {
    "collapsed": true
   },
   "outputs": [],
   "source": [
    "df['timestamp'] = [datetime.datetime.fromtimestamp(item) for item in int_time]"
   ]
  },
  {
   "cell_type": "code",
   "execution_count": 79,
   "metadata": {
    "collapsed": true
   },
   "outputs": [],
   "source": [
    "#df['timestamp'] = [time.strftime(\"%Y-%m-%d %H:%M:%S\", time.gmtime(item)) for item in int_time] #string not datetime"
   ]
  },
  {
   "cell_type": "code",
   "execution_count": 80,
   "metadata": {
    "collapsed": true
   },
   "outputs": [],
   "source": [
    "from textblob import TextBlob"
   ]
  },
  {
   "cell_type": "code",
   "execution_count": 81,
   "metadata": {
    "collapsed": true
   },
   "outputs": [],
   "source": [
    "df = df[df.text.str.contains(\"[deleted]\") == False]"
   ]
  },
  {
   "cell_type": "code",
   "execution_count": 82,
   "metadata": {
    "collapsed": true
   },
   "outputs": [],
   "source": [
    "df['text'] = [str(item) for item in df['text']]"
   ]
  },
  {
   "cell_type": "code",
   "execution_count": 83,
   "metadata": {
    "collapsed": true
   },
   "outputs": [],
   "source": [
    "textblob_objects = [TextBlob(item) for item in df['text']]"
   ]
  },
  {
   "cell_type": "code",
   "execution_count": 84,
   "metadata": {},
   "outputs": [
    {
     "name": "stdout",
     "output_type": "stream",
     "text": [
      "Thank you\n"
     ]
    }
   ],
   "source": [
    "print(textblob_objects[0])"
   ]
  },
  {
   "cell_type": "code",
   "execution_count": 85,
   "metadata": {},
   "outputs": [
    {
     "name": "stdout",
     "output_type": "stream",
     "text": [
      "[('Thank', 'NN'), ('you', 'PRP')]\n"
     ]
    }
   ],
   "source": [
    "print(textblob_objects[0].tags)"
   ]
  },
  {
   "cell_type": "code",
   "execution_count": 86,
   "metadata": {
    "collapsed": true
   },
   "outputs": [],
   "source": [
    "#now we need to average the sentiment and get and average for each day\n",
    "#will start with each column gets a sentiment score and "
   ]
  },
  {
   "cell_type": "code",
   "execution_count": 87,
   "metadata": {
    "collapsed": true
   },
   "outputs": [],
   "source": [
    "sent_polarity = [item.sentiment.polarity for item in textblob_objects]"
   ]
  },
  {
   "cell_type": "code",
   "execution_count": 88,
   "metadata": {
    "collapsed": true
   },
   "outputs": [],
   "source": [
    "sent_subjectivity = [item.sentiment.polarity for item in textblob_objects]"
   ]
  },
  {
   "cell_type": "code",
   "execution_count": 89,
   "metadata": {
    "collapsed": true
   },
   "outputs": [],
   "source": [
    "df['sent polarity'] = sent_polarity"
   ]
  },
  {
   "cell_type": "code",
   "execution_count": 90,
   "metadata": {
    "collapsed": true
   },
   "outputs": [],
   "source": [
    "df['sent subjectivity'] = sent_subjectivity"
   ]
  },
  {
   "cell_type": "code",
   "execution_count": 91,
   "metadata": {},
   "outputs": [
    {
     "data": {
      "text/html": [
       "<div>\n",
       "<style>\n",
       "    .dataframe thead tr:only-child th {\n",
       "        text-align: right;\n",
       "    }\n",
       "\n",
       "    .dataframe thead th {\n",
       "        text-align: left;\n",
       "    }\n",
       "\n",
       "    .dataframe tbody tr th {\n",
       "        vertical-align: top;\n",
       "    }\n",
       "</style>\n",
       "<table border=\"1\" class=\"dataframe\">\n",
       "  <thead>\n",
       "    <tr style=\"text-align: right;\">\n",
       "      <th></th>\n",
       "      <th>Unnamed: 0</th>\n",
       "      <th>doc_id</th>\n",
       "      <th>doc_type</th>\n",
       "      <th>resp_to</th>\n",
       "      <th>text</th>\n",
       "      <th>timestamp</th>\n",
       "      <th>sent polarity</th>\n",
       "      <th>sent subjectivity</th>\n",
       "    </tr>\n",
       "  </thead>\n",
       "  <tbody>\n",
       "    <tr>\n",
       "      <th>30</th>\n",
       "      <td>30</td>\n",
       "      <td>7d7sq8</td>\n",
       "      <td>slc_comment</td>\n",
       "      <td>Upvoting this so it gets more attention. I hop...</td>\n",
       "      <td>Thank you</td>\n",
       "      <td>2017-11-16 06:36:47</td>\n",
       "      <td>0.000000</td>\n",
       "      <td>0.000000</td>\n",
       "    </tr>\n",
       "    <tr>\n",
       "      <th>128</th>\n",
       "      <td>128</td>\n",
       "      <td>7d7sq8</td>\n",
       "      <td>comment</td>\n",
       "      <td>NaN</td>\n",
       "      <td>Thank you</td>\n",
       "      <td>2017-11-16 06:36:47</td>\n",
       "      <td>0.000000</td>\n",
       "      <td>0.000000</td>\n",
       "    </tr>\n",
       "    <tr>\n",
       "      <th>166</th>\n",
       "      <td>166</td>\n",
       "      <td>7d7sq8</td>\n",
       "      <td>slc_comment</td>\n",
       "      <td>Thanks - got wind of the situation this mornin...</td>\n",
       "      <td>ENABLE MULTI-FACTOR AUTHENTICATION PLEASE.</td>\n",
       "      <td>2017-11-16 15:17:31</td>\n",
       "      <td>0.000000</td>\n",
       "      <td>0.000000</td>\n",
       "    </tr>\n",
       "    <tr>\n",
       "      <th>180</th>\n",
       "      <td>180</td>\n",
       "      <td>7d7sq8</td>\n",
       "      <td>slc_comment</td>\n",
       "      <td>Because it can generally mean \"departing\" whic...</td>\n",
       "      <td>### EXODUS 20:15 \"**THOU SHALT NOT STEAL**\"</td>\n",
       "      <td>2017-11-16 17:46:00</td>\n",
       "      <td>0.000000</td>\n",
       "      <td>0.000000</td>\n",
       "    </tr>\n",
       "    <tr>\n",
       "      <th>187</th>\n",
       "      <td>187</td>\n",
       "      <td>7d7sq8</td>\n",
       "      <td>slc_comment</td>\n",
       "      <td>you mentioned you took a shower. anyone in the...</td>\n",
       "      <td>No haha</td>\n",
       "      <td>2017-11-16 03:48:36</td>\n",
       "      <td>-0.100000</td>\n",
       "      <td>-0.100000</td>\n",
       "    </tr>\n",
       "    <tr>\n",
       "      <th>250</th>\n",
       "      <td>250</td>\n",
       "      <td>7d7sq8</td>\n",
       "      <td>comment</td>\n",
       "      <td>NaN</td>\n",
       "      <td>ENABLE MULTI-FACTOR AUTHENTICATION PLEASE.</td>\n",
       "      <td>2017-11-16 15:17:31</td>\n",
       "      <td>0.000000</td>\n",
       "      <td>0.000000</td>\n",
       "    </tr>\n",
       "    <tr>\n",
       "      <th>262</th>\n",
       "      <td>262</td>\n",
       "      <td>7d7sq8</td>\n",
       "      <td>comment</td>\n",
       "      <td>NaN</td>\n",
       "      <td>### EXODUS 20:15 \"**THOU SHALT NOT STEAL**\"</td>\n",
       "      <td>2017-11-16 17:46:00</td>\n",
       "      <td>0.000000</td>\n",
       "      <td>0.000000</td>\n",
       "    </tr>\n",
       "    <tr>\n",
       "      <th>266</th>\n",
       "      <td>266</td>\n",
       "      <td>7d7sq8</td>\n",
       "      <td>comment</td>\n",
       "      <td>NaN</td>\n",
       "      <td>No haha</td>\n",
       "      <td>2017-11-16 03:48:36</td>\n",
       "      <td>-0.100000</td>\n",
       "      <td>-0.100000</td>\n",
       "    </tr>\n",
       "    <tr>\n",
       "      <th>267</th>\n",
       "      <td>267</td>\n",
       "      <td>7d7sq8</td>\n",
       "      <td>slc_comment</td>\n",
       "      <td>No haha</td>\n",
       "      <td>Xanax?</td>\n",
       "      <td>2017-11-16 04:08:05</td>\n",
       "      <td>0.000000</td>\n",
       "      <td>0.000000</td>\n",
       "    </tr>\n",
       "    <tr>\n",
       "      <th>324</th>\n",
       "      <td>324</td>\n",
       "      <td>7d7sq8</td>\n",
       "      <td>comment</td>\n",
       "      <td>NaN</td>\n",
       "      <td>Xanax?</td>\n",
       "      <td>2017-11-16 04:08:05</td>\n",
       "      <td>0.000000</td>\n",
       "      <td>0.000000</td>\n",
       "    </tr>\n",
       "    <tr>\n",
       "      <th>705</th>\n",
       "      <td>705</td>\n",
       "      <td>7d4bm2</td>\n",
       "      <td>slc_comment</td>\n",
       "      <td>Will do!</td>\n",
       "      <td>So... ? ^^</td>\n",
       "      <td>2017-11-16 19:47:30</td>\n",
       "      <td>0.000000</td>\n",
       "      <td>0.000000</td>\n",
       "    </tr>\n",
       "    <tr>\n",
       "      <th>711</th>\n",
       "      <td>711</td>\n",
       "      <td>7d4bm2</td>\n",
       "      <td>comment</td>\n",
       "      <td>NaN</td>\n",
       "      <td>So... ? ^^</td>\n",
       "      <td>2017-11-16 19:47:30</td>\n",
       "      <td>0.000000</td>\n",
       "      <td>0.000000</td>\n",
       "    </tr>\n",
       "    <tr>\n",
       "      <th>973</th>\n",
       "      <td>973</td>\n",
       "      <td>7d2onr</td>\n",
       "      <td>slc_comment</td>\n",
       "      <td>I like the idea</td>\n",
       "      <td>Thanks!</td>\n",
       "      <td>2017-11-15 08:31:08</td>\n",
       "      <td>0.250000</td>\n",
       "      <td>0.250000</td>\n",
       "    </tr>\n",
       "    <tr>\n",
       "      <th>978</th>\n",
       "      <td>978</td>\n",
       "      <td>7d2onr</td>\n",
       "      <td>comment</td>\n",
       "      <td>NaN</td>\n",
       "      <td>Thanks!</td>\n",
       "      <td>2017-11-15 08:31:08</td>\n",
       "      <td>0.250000</td>\n",
       "      <td>0.250000</td>\n",
       "    </tr>\n",
       "    <tr>\n",
       "      <th>1095</th>\n",
       "      <td>1095</td>\n",
       "      <td>7d1g5v</td>\n",
       "      <td>comment</td>\n",
       "      <td>NaN</td>\n",
       "      <td>fghfgh\\n</td>\n",
       "      <td>2017-11-16 02:39:04</td>\n",
       "      <td>0.000000</td>\n",
       "      <td>0.000000</td>\n",
       "    </tr>\n",
       "    <tr>\n",
       "      <th>1169</th>\n",
       "      <td>1169</td>\n",
       "      <td>7d1g5v</td>\n",
       "      <td>slc_comment</td>\n",
       "      <td>[deleted]</td>\n",
       "      <td>:)</td>\n",
       "      <td>2017-11-16 17:16:10</td>\n",
       "      <td>0.500000</td>\n",
       "      <td>0.500000</td>\n",
       "    </tr>\n",
       "    <tr>\n",
       "      <th>1178</th>\n",
       "      <td>1178</td>\n",
       "      <td>7d1g5v</td>\n",
       "      <td>comment</td>\n",
       "      <td>NaN</td>\n",
       "      <td>:)</td>\n",
       "      <td>2017-11-16 17:16:10</td>\n",
       "      <td>0.500000</td>\n",
       "      <td>0.500000</td>\n",
       "    </tr>\n",
       "    <tr>\n",
       "      <th>1271</th>\n",
       "      <td>1271</td>\n",
       "      <td>7d0pbn</td>\n",
       "      <td>slc_comment</td>\n",
       "      <td>Hello! Right, so, let me clarify a few things....</td>\n",
       "      <td># IT WAS JUST A PRANK, BRO!</td>\n",
       "      <td>2017-11-15 18:18:45</td>\n",
       "      <td>0.000000</td>\n",
       "      <td>0.000000</td>\n",
       "    </tr>\n",
       "    <tr>\n",
       "      <th>1293</th>\n",
       "      <td>1293</td>\n",
       "      <td>7d0pbn</td>\n",
       "      <td>slc_comment</td>\n",
       "      <td>[deleted]</td>\n",
       "      <td>?</td>\n",
       "      <td>2017-11-15 04:54:08</td>\n",
       "      <td>0.000000</td>\n",
       "      <td>0.000000</td>\n",
       "    </tr>\n",
       "    <tr>\n",
       "      <th>1336</th>\n",
       "      <td>1336</td>\n",
       "      <td>7d0pbn</td>\n",
       "      <td>slc_comment</td>\n",
       "      <td>Welp.\\n\\nAt least this took attention away fro...</td>\n",
       "      <td>Hahahahahhaa</td>\n",
       "      <td>2017-11-15 12:23:56</td>\n",
       "      <td>0.000000</td>\n",
       "      <td>0.000000</td>\n",
       "    </tr>\n",
       "    <tr>\n",
       "      <th>1390</th>\n",
       "      <td>1390</td>\n",
       "      <td>7d0pbn</td>\n",
       "      <td>comment</td>\n",
       "      <td>NaN</td>\n",
       "      <td># IT WAS JUST A PRANK, BRO!</td>\n",
       "      <td>2017-11-15 18:18:45</td>\n",
       "      <td>0.000000</td>\n",
       "      <td>0.000000</td>\n",
       "    </tr>\n",
       "    <tr>\n",
       "      <th>1403</th>\n",
       "      <td>1403</td>\n",
       "      <td>7d0pbn</td>\n",
       "      <td>slc_comment</td>\n",
       "      <td>Tankies. Definitely tankies.</td>\n",
       "      <td>:(</td>\n",
       "      <td>2017-11-15 16:49:39</td>\n",
       "      <td>-0.750000</td>\n",
       "      <td>-0.750000</td>\n",
       "    </tr>\n",
       "    <tr>\n",
       "      <th>1410</th>\n",
       "      <td>1410</td>\n",
       "      <td>7d0pbn</td>\n",
       "      <td>comment</td>\n",
       "      <td>NaN</td>\n",
       "      <td>?</td>\n",
       "      <td>2017-11-15 04:54:08</td>\n",
       "      <td>0.000000</td>\n",
       "      <td>0.000000</td>\n",
       "    </tr>\n",
       "    <tr>\n",
       "      <th>1440</th>\n",
       "      <td>1440</td>\n",
       "      <td>7d0pbn</td>\n",
       "      <td>comment</td>\n",
       "      <td>NaN</td>\n",
       "      <td>Hahahahahhaa</td>\n",
       "      <td>2017-11-15 12:23:56</td>\n",
       "      <td>0.000000</td>\n",
       "      <td>0.000000</td>\n",
       "    </tr>\n",
       "    <tr>\n",
       "      <th>1497</th>\n",
       "      <td>1497</td>\n",
       "      <td>7d0pbn</td>\n",
       "      <td>comment</td>\n",
       "      <td>NaN</td>\n",
       "      <td>:(</td>\n",
       "      <td>2017-11-15 16:49:39</td>\n",
       "      <td>-0.750000</td>\n",
       "      <td>-0.750000</td>\n",
       "    </tr>\n",
       "    <tr>\n",
       "      <th>1527</th>\n",
       "      <td>1527</td>\n",
       "      <td>7d0pbn</td>\n",
       "      <td>slc_comment</td>\n",
       "      <td>Trolling is inherently childish. But we grew u...</td>\n",
       "      <td>Hahahahahahaahaha</td>\n",
       "      <td>2017-11-15 12:24:29</td>\n",
       "      <td>0.000000</td>\n",
       "      <td>0.000000</td>\n",
       "    </tr>\n",
       "    <tr>\n",
       "      <th>1577</th>\n",
       "      <td>1577</td>\n",
       "      <td>7d0pbn</td>\n",
       "      <td>comment</td>\n",
       "      <td>NaN</td>\n",
       "      <td>Hahahahahahaahaha</td>\n",
       "      <td>2017-11-15 12:24:29</td>\n",
       "      <td>0.000000</td>\n",
       "      <td>0.000000</td>\n",
       "    </tr>\n",
       "    <tr>\n",
       "      <th>1709</th>\n",
       "      <td>1709</td>\n",
       "      <td>7d0pbn</td>\n",
       "      <td>slc_comment</td>\n",
       "      <td>This is a nuanced debate. Thank you.</td>\n",
       "      <td>:)</td>\n",
       "      <td>2017-11-15 16:51:15</td>\n",
       "      <td>0.500000</td>\n",
       "      <td>0.500000</td>\n",
       "    </tr>\n",
       "    <tr>\n",
       "      <th>1715</th>\n",
       "      <td>1715</td>\n",
       "      <td>7d0pbn</td>\n",
       "      <td>comment</td>\n",
       "      <td>NaN</td>\n",
       "      <td>:)</td>\n",
       "      <td>2017-11-15 16:51:15</td>\n",
       "      <td>0.500000</td>\n",
       "      <td>0.500000</td>\n",
       "    </tr>\n",
       "    <tr>\n",
       "      <th>2057</th>\n",
       "      <td>107</td>\n",
       "      <td>7de0rf</td>\n",
       "      <td>slc_comment</td>\n",
       "      <td>Still a year away from that being a viable option</td>\n",
       "      <td>Ah ok. Thanks!</td>\n",
       "      <td>2017-11-16 18:23:37</td>\n",
       "      <td>0.375000</td>\n",
       "      <td>0.375000</td>\n",
       "    </tr>\n",
       "    <tr>\n",
       "      <th>...</th>\n",
       "      <td>...</td>\n",
       "      <td>...</td>\n",
       "      <td>...</td>\n",
       "      <td>...</td>\n",
       "      <td>...</td>\n",
       "      <td>...</td>\n",
       "      <td>...</td>\n",
       "      <td>...</td>\n",
       "    </tr>\n",
       "    <tr>\n",
       "      <th>166949</th>\n",
       "      <td>245</td>\n",
       "      <td>85luvr</td>\n",
       "      <td>comment</td>\n",
       "      <td>NaN</td>\n",
       "      <td>+1</td>\n",
       "      <td>2018-03-19 21:38:19</td>\n",
       "      <td>0.000000</td>\n",
       "      <td>0.000000</td>\n",
       "    </tr>\n",
       "    <tr>\n",
       "      <th>167043</th>\n",
       "      <td>339</td>\n",
       "      <td>85k24e</td>\n",
       "      <td>comment</td>\n",
       "      <td>NaN</td>\n",
       "      <td>GRID+</td>\n",
       "      <td>2018-03-20 19:28:31</td>\n",
       "      <td>0.000000</td>\n",
       "      <td>0.000000</td>\n",
       "    </tr>\n",
       "    <tr>\n",
       "      <th>167128</th>\n",
       "      <td>424</td>\n",
       "      <td>85ingu</td>\n",
       "      <td>post</td>\n",
       "      <td>NaN</td>\n",
       "      <td>BITNATION</td>\n",
       "      <td>2018-03-19 12:07:46</td>\n",
       "      <td>0.000000</td>\n",
       "      <td>0.000000</td>\n",
       "    </tr>\n",
       "    <tr>\n",
       "      <th>167168</th>\n",
       "      <td>464</td>\n",
       "      <td>85hncy</td>\n",
       "      <td>comment</td>\n",
       "      <td>NaN</td>\n",
       "      <td>Hohoho👏👏👏</td>\n",
       "      <td>2018-03-19 10:48:19</td>\n",
       "      <td>0.000000</td>\n",
       "      <td>0.000000</td>\n",
       "    </tr>\n",
       "    <tr>\n",
       "      <th>167363</th>\n",
       "      <td>659</td>\n",
       "      <td>85fcg1</td>\n",
       "      <td>slc_comment</td>\n",
       "      <td>I appreciate you telling me. But my issue is s...</td>\n",
       "      <td>Smh</td>\n",
       "      <td>2018-03-19 18:57:11</td>\n",
       "      <td>0.000000</td>\n",
       "      <td>0.000000</td>\n",
       "    </tr>\n",
       "    <tr>\n",
       "      <th>167364</th>\n",
       "      <td>660</td>\n",
       "      <td>85fcg1</td>\n",
       "      <td>comment</td>\n",
       "      <td>NaN</td>\n",
       "      <td>Smh</td>\n",
       "      <td>2018-03-19 18:57:11</td>\n",
       "      <td>0.000000</td>\n",
       "      <td>0.000000</td>\n",
       "    </tr>\n",
       "    <tr>\n",
       "      <th>167408</th>\n",
       "      <td>43</td>\n",
       "      <td>85wajh</td>\n",
       "      <td>slc_comment</td>\n",
       "      <td>To the moon???</td>\n",
       "      <td>Too soon.</td>\n",
       "      <td>2018-03-21 02:32:47</td>\n",
       "      <td>0.000000</td>\n",
       "      <td>0.000000</td>\n",
       "    </tr>\n",
       "    <tr>\n",
       "      <th>167416</th>\n",
       "      <td>51</td>\n",
       "      <td>85wajh</td>\n",
       "      <td>comment</td>\n",
       "      <td>NaN</td>\n",
       "      <td>FUCK I THOT THEY WERE GONA USE RIPPLE\\nFUCK ME...</td>\n",
       "      <td>2018-03-21 01:00:51</td>\n",
       "      <td>-0.363889</td>\n",
       "      <td>-0.363889</td>\n",
       "    </tr>\n",
       "    <tr>\n",
       "      <th>167417</th>\n",
       "      <td>52</td>\n",
       "      <td>85wajh</td>\n",
       "      <td>slc_comment</td>\n",
       "      <td>FUCK I THOT THEY WERE GONA USE RIPPLE\\nFUCK ME...</td>\n",
       "      <td>FUCK I THOUGHT BITCONNECT</td>\n",
       "      <td>2018-03-21 01:03:42</td>\n",
       "      <td>-0.400000</td>\n",
       "      <td>-0.400000</td>\n",
       "    </tr>\n",
       "    <tr>\n",
       "      <th>167424</th>\n",
       "      <td>59</td>\n",
       "      <td>85wajh</td>\n",
       "      <td>comment</td>\n",
       "      <td>NaN</td>\n",
       "      <td>Hahahahahhahahahahahahahahahhahahahahahahahaha...</td>\n",
       "      <td>2018-03-21 18:26:36</td>\n",
       "      <td>0.000000</td>\n",
       "      <td>0.000000</td>\n",
       "    </tr>\n",
       "    <tr>\n",
       "      <th>167429</th>\n",
       "      <td>64</td>\n",
       "      <td>85wajh</td>\n",
       "      <td>comment</td>\n",
       "      <td>NaN</td>\n",
       "      <td>Too soon.</td>\n",
       "      <td>2018-03-21 02:32:47</td>\n",
       "      <td>0.000000</td>\n",
       "      <td>0.000000</td>\n",
       "    </tr>\n",
       "    <tr>\n",
       "      <th>167432</th>\n",
       "      <td>67</td>\n",
       "      <td>85wajh</td>\n",
       "      <td>slc_comment</td>\n",
       "      <td>Moon isn't interesting to NASA anymore. I beli...</td>\n",
       "      <td>Rarri's on mars</td>\n",
       "      <td>2018-03-21 05:45:10</td>\n",
       "      <td>0.000000</td>\n",
       "      <td>0.000000</td>\n",
       "    </tr>\n",
       "    <tr>\n",
       "      <th>167441</th>\n",
       "      <td>76</td>\n",
       "      <td>85wajh</td>\n",
       "      <td>comment</td>\n",
       "      <td>NaN</td>\n",
       "      <td>FUCK I THOUGHT BITCONNECT</td>\n",
       "      <td>2018-03-21 01:03:42</td>\n",
       "      <td>-0.400000</td>\n",
       "      <td>-0.400000</td>\n",
       "    </tr>\n",
       "    <tr>\n",
       "      <th>167442</th>\n",
       "      <td>77</td>\n",
       "      <td>85wajh</td>\n",
       "      <td>slc_comment</td>\n",
       "      <td>FUCK I THOUGHT BITCONNECT</td>\n",
       "      <td>BEET-CON-EHHHHHHHHHHH-CT!!! WOOOOOOO</td>\n",
       "      <td>2018-03-21 13:56:29</td>\n",
       "      <td>0.000000</td>\n",
       "      <td>0.000000</td>\n",
       "    </tr>\n",
       "    <tr>\n",
       "      <th>167443</th>\n",
       "      <td>78</td>\n",
       "      <td>85wajh</td>\n",
       "      <td>slc_comment</td>\n",
       "      <td>FUCK I THOUGHT BITCONNECT</td>\n",
       "      <td>FUCK I THOT THEY USE DAVOSCOIN</td>\n",
       "      <td>2018-03-21 15:13:31</td>\n",
       "      <td>-0.400000</td>\n",
       "      <td>-0.400000</td>\n",
       "    </tr>\n",
       "    <tr>\n",
       "      <th>167448</th>\n",
       "      <td>83</td>\n",
       "      <td>85wajh</td>\n",
       "      <td>comment</td>\n",
       "      <td>NaN</td>\n",
       "      <td>Rarri's on mars</td>\n",
       "      <td>2018-03-21 05:45:10</td>\n",
       "      <td>0.000000</td>\n",
       "      <td>0.000000</td>\n",
       "    </tr>\n",
       "    <tr>\n",
       "      <th>167459</th>\n",
       "      <td>94</td>\n",
       "      <td>85wajh</td>\n",
       "      <td>comment</td>\n",
       "      <td>NaN</td>\n",
       "      <td>BEET-CON-EHHHHHHHHHHH-CT!!! WOOOOOOO</td>\n",
       "      <td>2018-03-21 13:56:29</td>\n",
       "      <td>0.000000</td>\n",
       "      <td>0.000000</td>\n",
       "    </tr>\n",
       "    <tr>\n",
       "      <th>167460</th>\n",
       "      <td>95</td>\n",
       "      <td>85wajh</td>\n",
       "      <td>comment</td>\n",
       "      <td>NaN</td>\n",
       "      <td>FUCK I THOT THEY USE DAVOSCOIN</td>\n",
       "      <td>2018-03-21 15:13:31</td>\n",
       "      <td>-0.400000</td>\n",
       "      <td>-0.400000</td>\n",
       "    </tr>\n",
       "    <tr>\n",
       "      <th>167475</th>\n",
       "      <td>110</td>\n",
       "      <td>85w6et</td>\n",
       "      <td>comment</td>\n",
       "      <td>NaN</td>\n",
       "      <td>Thank you guys!</td>\n",
       "      <td>2018-03-21 08:15:52</td>\n",
       "      <td>0.000000</td>\n",
       "      <td>0.000000</td>\n",
       "    </tr>\n",
       "    <tr>\n",
       "      <th>167612</th>\n",
       "      <td>247</td>\n",
       "      <td>85tthv</td>\n",
       "      <td>slc_comment</td>\n",
       "      <td>I'm going to be honest with you guys. Your ave...</td>\n",
       "      <td>TCP/IP much? ;-)</td>\n",
       "      <td>2018-03-21 01:35:45</td>\n",
       "      <td>0.225000</td>\n",
       "      <td>0.225000</td>\n",
       "    </tr>\n",
       "    <tr>\n",
       "      <th>167620</th>\n",
       "      <td>255</td>\n",
       "      <td>85tthv</td>\n",
       "      <td>slc_comment</td>\n",
       "      <td>Clickbait title: nothing to do with Amazon doi...</td>\n",
       "      <td>Thanks !</td>\n",
       "      <td>2018-03-21 00:43:55</td>\n",
       "      <td>0.250000</td>\n",
       "      <td>0.250000</td>\n",
       "    </tr>\n",
       "    <tr>\n",
       "      <th>167641</th>\n",
       "      <td>276</td>\n",
       "      <td>85tthv</td>\n",
       "      <td>comment</td>\n",
       "      <td>NaN</td>\n",
       "      <td>TCP/IP much? ;-)</td>\n",
       "      <td>2018-03-21 01:35:45</td>\n",
       "      <td>0.225000</td>\n",
       "      <td>0.225000</td>\n",
       "    </tr>\n",
       "    <tr>\n",
       "      <th>167650</th>\n",
       "      <td>285</td>\n",
       "      <td>85tthv</td>\n",
       "      <td>comment</td>\n",
       "      <td>NaN</td>\n",
       "      <td>Thanks !</td>\n",
       "      <td>2018-03-21 00:43:55</td>\n",
       "      <td>0.250000</td>\n",
       "      <td>0.250000</td>\n",
       "    </tr>\n",
       "    <tr>\n",
       "      <th>167885</th>\n",
       "      <td>41</td>\n",
       "      <td>8652kk</td>\n",
       "      <td>comment</td>\n",
       "      <td>NaN</td>\n",
       "      <td>No.</td>\n",
       "      <td>2018-03-21 21:14:17</td>\n",
       "      <td>0.000000</td>\n",
       "      <td>0.000000</td>\n",
       "    </tr>\n",
       "    <tr>\n",
       "      <th>167914</th>\n",
       "      <td>70</td>\n",
       "      <td>863qlf</td>\n",
       "      <td>comment</td>\n",
       "      <td>NaN</td>\n",
       "      <td>Akasha</td>\n",
       "      <td>2018-03-21 19:14:12</td>\n",
       "      <td>0.000000</td>\n",
       "      <td>0.000000</td>\n",
       "    </tr>\n",
       "    <tr>\n",
       "      <th>167947</th>\n",
       "      <td>103</td>\n",
       "      <td>863at0</td>\n",
       "      <td>comment</td>\n",
       "      <td>NaN</td>\n",
       "      <td>Looks promising.</td>\n",
       "      <td>2018-03-21 22:01:07</td>\n",
       "      <td>0.200000</td>\n",
       "      <td>0.200000</td>\n",
       "    </tr>\n",
       "    <tr>\n",
       "      <th>168178</th>\n",
       "      <td>334</td>\n",
       "      <td>861d9s</td>\n",
       "      <td>comment</td>\n",
       "      <td>NaN</td>\n",
       "      <td>BUIDL</td>\n",
       "      <td>2018-03-21 18:30:41</td>\n",
       "      <td>0.000000</td>\n",
       "      <td>0.000000</td>\n",
       "    </tr>\n",
       "    <tr>\n",
       "      <th>168185</th>\n",
       "      <td>341</td>\n",
       "      <td>861d9s</td>\n",
       "      <td>slc_comment</td>\n",
       "      <td>https://github.com/ethereum/EIPs/issues/87 thi...</td>\n",
       "      <td>Thanks!!</td>\n",
       "      <td>2018-03-21 19:39:41</td>\n",
       "      <td>0.312500</td>\n",
       "      <td>0.312500</td>\n",
       "    </tr>\n",
       "    <tr>\n",
       "      <th>168187</th>\n",
       "      <td>343</td>\n",
       "      <td>861d9s</td>\n",
       "      <td>comment</td>\n",
       "      <td>NaN</td>\n",
       "      <td>Thanks!!</td>\n",
       "      <td>2018-03-21 19:39:41</td>\n",
       "      <td>0.312500</td>\n",
       "      <td>0.312500</td>\n",
       "    </tr>\n",
       "    <tr>\n",
       "      <th>168285</th>\n",
       "      <td>441</td>\n",
       "      <td>85y31t</td>\n",
       "      <td>comment</td>\n",
       "      <td>NaN</td>\n",
       "      <td>Why aging?</td>\n",
       "      <td>2018-03-21 02:21:47</td>\n",
       "      <td>0.000000</td>\n",
       "      <td>0.000000</td>\n",
       "    </tr>\n",
       "  </tbody>\n",
       "</table>\n",
       "<p>3398 rows × 8 columns</p>\n",
       "</div>"
      ],
      "text/plain": [
       "        Unnamed: 0  doc_id     doc_type  \\\n",
       "30              30  7d7sq8  slc_comment   \n",
       "128            128  7d7sq8      comment   \n",
       "166            166  7d7sq8  slc_comment   \n",
       "180            180  7d7sq8  slc_comment   \n",
       "187            187  7d7sq8  slc_comment   \n",
       "250            250  7d7sq8      comment   \n",
       "262            262  7d7sq8      comment   \n",
       "266            266  7d7sq8      comment   \n",
       "267            267  7d7sq8  slc_comment   \n",
       "324            324  7d7sq8      comment   \n",
       "705            705  7d4bm2  slc_comment   \n",
       "711            711  7d4bm2      comment   \n",
       "973            973  7d2onr  slc_comment   \n",
       "978            978  7d2onr      comment   \n",
       "1095          1095  7d1g5v      comment   \n",
       "1169          1169  7d1g5v  slc_comment   \n",
       "1178          1178  7d1g5v      comment   \n",
       "1271          1271  7d0pbn  slc_comment   \n",
       "1293          1293  7d0pbn  slc_comment   \n",
       "1336          1336  7d0pbn  slc_comment   \n",
       "1390          1390  7d0pbn      comment   \n",
       "1403          1403  7d0pbn  slc_comment   \n",
       "1410          1410  7d0pbn      comment   \n",
       "1440          1440  7d0pbn      comment   \n",
       "1497          1497  7d0pbn      comment   \n",
       "1527          1527  7d0pbn  slc_comment   \n",
       "1577          1577  7d0pbn      comment   \n",
       "1709          1709  7d0pbn  slc_comment   \n",
       "1715          1715  7d0pbn      comment   \n",
       "2057           107  7de0rf  slc_comment   \n",
       "...            ...     ...          ...   \n",
       "166949         245  85luvr      comment   \n",
       "167043         339  85k24e      comment   \n",
       "167128         424  85ingu         post   \n",
       "167168         464  85hncy      comment   \n",
       "167363         659  85fcg1  slc_comment   \n",
       "167364         660  85fcg1      comment   \n",
       "167408          43  85wajh  slc_comment   \n",
       "167416          51  85wajh      comment   \n",
       "167417          52  85wajh  slc_comment   \n",
       "167424          59  85wajh      comment   \n",
       "167429          64  85wajh      comment   \n",
       "167432          67  85wajh  slc_comment   \n",
       "167441          76  85wajh      comment   \n",
       "167442          77  85wajh  slc_comment   \n",
       "167443          78  85wajh  slc_comment   \n",
       "167448          83  85wajh      comment   \n",
       "167459          94  85wajh      comment   \n",
       "167460          95  85wajh      comment   \n",
       "167475         110  85w6et      comment   \n",
       "167612         247  85tthv  slc_comment   \n",
       "167620         255  85tthv  slc_comment   \n",
       "167641         276  85tthv      comment   \n",
       "167650         285  85tthv      comment   \n",
       "167885          41  8652kk      comment   \n",
       "167914          70  863qlf      comment   \n",
       "167947         103  863at0      comment   \n",
       "168178         334  861d9s      comment   \n",
       "168185         341  861d9s  slc_comment   \n",
       "168187         343  861d9s      comment   \n",
       "168285         441  85y31t      comment   \n",
       "\n",
       "                                                  resp_to  \\\n",
       "30      Upvoting this so it gets more attention. I hop...   \n",
       "128                                                   NaN   \n",
       "166     Thanks - got wind of the situation this mornin...   \n",
       "180     Because it can generally mean \"departing\" whic...   \n",
       "187     you mentioned you took a shower. anyone in the...   \n",
       "250                                                   NaN   \n",
       "262                                                   NaN   \n",
       "266                                                   NaN   \n",
       "267                                              No haha    \n",
       "324                                                   NaN   \n",
       "705                                             Will do!    \n",
       "711                                                   NaN   \n",
       "973                                       I like the idea   \n",
       "978                                                   NaN   \n",
       "1095                                                  NaN   \n",
       "1169                                            [deleted]   \n",
       "1178                                                  NaN   \n",
       "1271    Hello! Right, so, let me clarify a few things....   \n",
       "1293                                            [deleted]   \n",
       "1336    Welp.\\n\\nAt least this took attention away fro...   \n",
       "1390                                                  NaN   \n",
       "1403                         Tankies. Definitely tankies.   \n",
       "1410                                                  NaN   \n",
       "1440                                                  NaN   \n",
       "1497                                                  NaN   \n",
       "1527    Trolling is inherently childish. But we grew u...   \n",
       "1577                                                  NaN   \n",
       "1709                 This is a nuanced debate. Thank you.   \n",
       "1715                                                  NaN   \n",
       "2057    Still a year away from that being a viable option   \n",
       "...                                                   ...   \n",
       "166949                                                NaN   \n",
       "167043                                                NaN   \n",
       "167128                                                NaN   \n",
       "167168                                                NaN   \n",
       "167363  I appreciate you telling me. But my issue is s...   \n",
       "167364                                                NaN   \n",
       "167408                                     To the moon???   \n",
       "167416                                                NaN   \n",
       "167417  FUCK I THOT THEY WERE GONA USE RIPPLE\\nFUCK ME...   \n",
       "167424                                                NaN   \n",
       "167429                                                NaN   \n",
       "167432  Moon isn't interesting to NASA anymore. I beli...   \n",
       "167441                                                NaN   \n",
       "167442                          FUCK I THOUGHT BITCONNECT   \n",
       "167443                          FUCK I THOUGHT BITCONNECT   \n",
       "167448                                                NaN   \n",
       "167459                                                NaN   \n",
       "167460                                                NaN   \n",
       "167475                                                NaN   \n",
       "167612  I'm going to be honest with you guys. Your ave...   \n",
       "167620  Clickbait title: nothing to do with Amazon doi...   \n",
       "167641                                                NaN   \n",
       "167650                                                NaN   \n",
       "167885                                                NaN   \n",
       "167914                                                NaN   \n",
       "167947                                                NaN   \n",
       "168178                                                NaN   \n",
       "168185  https://github.com/ethereum/EIPs/issues/87 thi...   \n",
       "168187                                                NaN   \n",
       "168285                                                NaN   \n",
       "\n",
       "                                                     text           timestamp  \\\n",
       "30                                              Thank you 2017-11-16 06:36:47   \n",
       "128                                             Thank you 2017-11-16 06:36:47   \n",
       "166            ENABLE MULTI-FACTOR AUTHENTICATION PLEASE. 2017-11-16 15:17:31   \n",
       "180           ### EXODUS 20:15 \"**THOU SHALT NOT STEAL**\" 2017-11-16 17:46:00   \n",
       "187                                              No haha  2017-11-16 03:48:36   \n",
       "250            ENABLE MULTI-FACTOR AUTHENTICATION PLEASE. 2017-11-16 15:17:31   \n",
       "262           ### EXODUS 20:15 \"**THOU SHALT NOT STEAL**\" 2017-11-16 17:46:00   \n",
       "266                                              No haha  2017-11-16 03:48:36   \n",
       "267                                                Xanax? 2017-11-16 04:08:05   \n",
       "324                                                Xanax? 2017-11-16 04:08:05   \n",
       "705                                            So... ? ^^ 2017-11-16 19:47:30   \n",
       "711                                            So... ? ^^ 2017-11-16 19:47:30   \n",
       "973                                              Thanks!  2017-11-15 08:31:08   \n",
       "978                                              Thanks!  2017-11-15 08:31:08   \n",
       "1095                                             fghfgh\\n 2017-11-16 02:39:04   \n",
       "1169                                                   :) 2017-11-16 17:16:10   \n",
       "1178                                                   :) 2017-11-16 17:16:10   \n",
       "1271                          # IT WAS JUST A PRANK, BRO! 2017-11-15 18:18:45   \n",
       "1293                                                    ? 2017-11-15 04:54:08   \n",
       "1336                                         Hahahahahhaa 2017-11-15 12:23:56   \n",
       "1390                          # IT WAS JUST A PRANK, BRO! 2017-11-15 18:18:45   \n",
       "1403                                                   :( 2017-11-15 16:49:39   \n",
       "1410                                                    ? 2017-11-15 04:54:08   \n",
       "1440                                         Hahahahahhaa 2017-11-15 12:23:56   \n",
       "1497                                                   :( 2017-11-15 16:49:39   \n",
       "1527                                   Hahahahahahaahaha  2017-11-15 12:24:29   \n",
       "1577                                   Hahahahahahaahaha  2017-11-15 12:24:29   \n",
       "1709                                                   :) 2017-11-15 16:51:15   \n",
       "1715                                                   :) 2017-11-15 16:51:15   \n",
       "2057                                       Ah ok. Thanks! 2017-11-16 18:23:37   \n",
       "...                                                   ...                 ...   \n",
       "166949                                                +1  2018-03-19 21:38:19   \n",
       "167043                                              GRID+ 2018-03-20 19:28:31   \n",
       "167128                                         BITNATION  2018-03-19 12:07:46   \n",
       "167168                                          Hohoho👏👏👏 2018-03-19 10:48:19   \n",
       "167363                                                Smh 2018-03-19 18:57:11   \n",
       "167364                                                Smh 2018-03-19 18:57:11   \n",
       "167408                                          Too soon. 2018-03-21 02:32:47   \n",
       "167416  FUCK I THOT THEY WERE GONA USE RIPPLE\\nFUCK ME... 2018-03-21 01:00:51   \n",
       "167417                          FUCK I THOUGHT BITCONNECT 2018-03-21 01:03:42   \n",
       "167424  Hahahahahhahahahahahahahahahhahahahahahahahaha... 2018-03-21 18:26:36   \n",
       "167429                                          Too soon. 2018-03-21 02:32:47   \n",
       "167432                                   Rarri's on mars  2018-03-21 05:45:10   \n",
       "167441                          FUCK I THOUGHT BITCONNECT 2018-03-21 01:03:42   \n",
       "167442               BEET-CON-EHHHHHHHHHHH-CT!!! WOOOOOOO 2018-03-21 13:56:29   \n",
       "167443                     FUCK I THOT THEY USE DAVOSCOIN 2018-03-21 15:13:31   \n",
       "167448                                   Rarri's on mars  2018-03-21 05:45:10   \n",
       "167459               BEET-CON-EHHHHHHHHHHH-CT!!! WOOOOOOO 2018-03-21 13:56:29   \n",
       "167460                     FUCK I THOT THEY USE DAVOSCOIN 2018-03-21 15:13:31   \n",
       "167475                                    Thank you guys! 2018-03-21 08:15:52   \n",
       "167612                                   TCP/IP much? ;-) 2018-03-21 01:35:45   \n",
       "167620                                           Thanks ! 2018-03-21 00:43:55   \n",
       "167641                                   TCP/IP much? ;-) 2018-03-21 01:35:45   \n",
       "167650                                           Thanks ! 2018-03-21 00:43:55   \n",
       "167885                                                No. 2018-03-21 21:14:17   \n",
       "167914                                             Akasha 2018-03-21 19:14:12   \n",
       "167947                                   Looks promising. 2018-03-21 22:01:07   \n",
       "168178                                              BUIDL 2018-03-21 18:30:41   \n",
       "168185                                           Thanks!! 2018-03-21 19:39:41   \n",
       "168187                                           Thanks!! 2018-03-21 19:39:41   \n",
       "168285                                         Why aging? 2018-03-21 02:21:47   \n",
       "\n",
       "        sent polarity  sent subjectivity  \n",
       "30           0.000000           0.000000  \n",
       "128          0.000000           0.000000  \n",
       "166          0.000000           0.000000  \n",
       "180          0.000000           0.000000  \n",
       "187         -0.100000          -0.100000  \n",
       "250          0.000000           0.000000  \n",
       "262          0.000000           0.000000  \n",
       "266         -0.100000          -0.100000  \n",
       "267          0.000000           0.000000  \n",
       "324          0.000000           0.000000  \n",
       "705          0.000000           0.000000  \n",
       "711          0.000000           0.000000  \n",
       "973          0.250000           0.250000  \n",
       "978          0.250000           0.250000  \n",
       "1095         0.000000           0.000000  \n",
       "1169         0.500000           0.500000  \n",
       "1178         0.500000           0.500000  \n",
       "1271         0.000000           0.000000  \n",
       "1293         0.000000           0.000000  \n",
       "1336         0.000000           0.000000  \n",
       "1390         0.000000           0.000000  \n",
       "1403        -0.750000          -0.750000  \n",
       "1410         0.000000           0.000000  \n",
       "1440         0.000000           0.000000  \n",
       "1497        -0.750000          -0.750000  \n",
       "1527         0.000000           0.000000  \n",
       "1577         0.000000           0.000000  \n",
       "1709         0.500000           0.500000  \n",
       "1715         0.500000           0.500000  \n",
       "2057         0.375000           0.375000  \n",
       "...               ...                ...  \n",
       "166949       0.000000           0.000000  \n",
       "167043       0.000000           0.000000  \n",
       "167128       0.000000           0.000000  \n",
       "167168       0.000000           0.000000  \n",
       "167363       0.000000           0.000000  \n",
       "167364       0.000000           0.000000  \n",
       "167408       0.000000           0.000000  \n",
       "167416      -0.363889          -0.363889  \n",
       "167417      -0.400000          -0.400000  \n",
       "167424       0.000000           0.000000  \n",
       "167429       0.000000           0.000000  \n",
       "167432       0.000000           0.000000  \n",
       "167441      -0.400000          -0.400000  \n",
       "167442       0.000000           0.000000  \n",
       "167443      -0.400000          -0.400000  \n",
       "167448       0.000000           0.000000  \n",
       "167459       0.000000           0.000000  \n",
       "167460      -0.400000          -0.400000  \n",
       "167475       0.000000           0.000000  \n",
       "167612       0.225000           0.225000  \n",
       "167620       0.250000           0.250000  \n",
       "167641       0.225000           0.225000  \n",
       "167650       0.250000           0.250000  \n",
       "167885       0.000000           0.000000  \n",
       "167914       0.000000           0.000000  \n",
       "167947       0.200000           0.200000  \n",
       "168178       0.000000           0.000000  \n",
       "168185       0.312500           0.312500  \n",
       "168187       0.312500           0.312500  \n",
       "168285       0.000000           0.000000  \n",
       "\n",
       "[3398 rows x 8 columns]"
      ]
     },
     "execution_count": 91,
     "metadata": {},
     "output_type": "execute_result"
    }
   ],
   "source": [
    "df"
   ]
  },
  {
   "cell_type": "code",
   "execution_count": 21,
   "metadata": {
    "collapsed": true
   },
   "outputs": [],
   "source": [
    "# NOW!! how do I average the sentiment for each day?\n",
    "# oh i need to subtract the min from everything??\n",
    "# "
   ]
  },
  {
   "cell_type": "markdown",
   "metadata": {
    "collapsed": true
   },
   "source": [
    "df['sent polarity'] =  df['sent polarity'] - min(df['sent polarity'])\n",
    "#subtract the min from everything but subtracting negative1 is like adding 1"
   ]
  },
  {
   "cell_type": "markdown",
   "metadata": {},
   "source": [
    "df['sent polarity'] = df['sent polarity']/(max(df['sent polarity']))"
   ]
  },
  {
   "cell_type": "code",
   "execution_count": 92,
   "metadata": {
    "collapsed": true
   },
   "outputs": [],
   "source": [
    "df = df.set_index(df['timestamp'])"
   ]
  },
  {
   "cell_type": "code",
   "execution_count": 93,
   "metadata": {
    "collapsed": true
   },
   "outputs": [],
   "source": [
    "df['day'] = [item.strftime('%Y-%m-%d') for item in df['timestamp']]"
   ]
  },
  {
   "cell_type": "code",
   "execution_count": 94,
   "metadata": {
    "collapsed": true
   },
   "outputs": [],
   "source": [
    "df_tstmp_sent = df.filter(items=['day', 'sent polarity'])"
   ]
  },
  {
   "cell_type": "code",
   "execution_count": 107,
   "metadata": {
    "collapsed": true
   },
   "outputs": [],
   "source": [
    "df1 = df_tstmp_sent.groupby('day').mean()"
   ]
  },
  {
   "cell_type": "code",
   "execution_count": 108,
   "metadata": {
    "collapsed": true
   },
   "outputs": [],
   "source": [
    "#df1 #ugh they are all about 0.5"
   ]
  },
  {
   "cell_type": "code",
   "execution_count": 109,
   "metadata": {
    "collapsed": true
   },
   "outputs": [],
   "source": [
    "#df_mean = df.groupby(df['timestamp'].dt.normalize()).mean() #.dt.normalize()) what does this mean? google"
   ]
  },
  {
   "cell_type": "code",
   "execution_count": 110,
   "metadata": {
    "collapsed": true
   },
   "outputs": [],
   "source": [
    "#df['timestamp'].dt.normalize() #then we do groupby and get mean scores and sentiment"
   ]
  },
  {
   "cell_type": "code",
   "execution_count": 111,
   "metadata": {
    "collapsed": true
   },
   "outputs": [],
   "source": [
    "list1 = df1['sent polarity'].loc['2017-11-15':'2018-03-21']"
   ]
  },
  {
   "cell_type": "code",
   "execution_count": 120,
   "metadata": {
    "collapsed": true
   },
   "outputs": [],
   "source": [
    "#print(list1)"
   ]
  },
  {
   "cell_type": "code",
   "execution_count": 113,
   "metadata": {
    "collapsed": true
   },
   "outputs": [],
   "source": [
    "df1['sent polarity'] = df1['sent polarity'] - (min(df1['sent polarity']))"
   ]
  },
  {
   "cell_type": "code",
   "execution_count": 114,
   "metadata": {},
   "outputs": [
    {
     "data": {
      "text/plain": [
       "0.7178571428571427"
      ]
     },
     "execution_count": 114,
     "metadata": {},
     "output_type": "execute_result"
    }
   ],
   "source": [
    "df1['sent polarity'].max()"
   ]
  },
  {
   "cell_type": "code",
   "execution_count": 115,
   "metadata": {
    "collapsed": true
   },
   "outputs": [],
   "source": [
    "mean_list_norm = list1/(df1['sent polarity'].max())"
   ]
  },
  {
   "cell_type": "code",
   "execution_count": 123,
   "metadata": {
    "collapsed": true
   },
   "outputs": [],
   "source": [
    "#mean_list_norm"
   ]
  },
  {
   "cell_type": "code",
   "execution_count": 117,
   "metadata": {},
   "outputs": [
    {
     "data": {
      "text/plain": [
       "0.0"
      ]
     },
     "execution_count": 117,
     "metadata": {},
     "output_type": "execute_result"
    }
   ],
   "source": [
    "mean_list_norm.min()"
   ]
  },
  {
   "cell_type": "code",
   "execution_count": 118,
   "metadata": {},
   "outputs": [
    {
     "data": {
      "text/plain": [
       "1.0"
      ]
     },
     "execution_count": 118,
     "metadata": {},
     "output_type": "execute_result"
    }
   ],
   "source": [
    "mean_list_norm.max()"
   ]
  },
  {
   "cell_type": "code",
   "execution_count": 119,
   "metadata": {},
   "outputs": [
    {
     "data": {
      "image/png": "[encoded data removed]",
      "text/plain": [
       "<Figure size 432x288 with 1 Axes>"
      ]
     },
     "metadata": {},
     "output_type": "display_data"
    }
   ],
   "source": [
    "import matplotlib.pyplot as plt\n",
    "plt.plot(mean_list_norm, alpha = 0.5)\n",
    "#plt.plot(df_gg_norm, alpha = 0.5)\n",
    "plt.ylabel('some normie numbers')\n",
    "plt.xticks(rotation=70)\n",
    "plt.show()"
   ]
  },
  {
   "cell_type": "code",
   "execution_count": null,
   "metadata": {
    "collapsed": true
   },
   "outputs": [],
   "source": []
  }
 ],
 "metadata": {
  "anaconda-cloud": {},
  "kernelspec": {
   "display_name": "Python 3",
   "language": "python",
   "name": "python3"
  },
  "language_info": {
   "codemirror_mode": {
    "name": "ipython",
    "version": 3
   },
   "file_extension": ".py",
   "mimetype": "text/x-python",
   "name": "python",
   "nbconvert_exporter": "python",
   "pygments_lexer": "ipython3",
   "version": "3.6.5"
  }
 },
 "nbformat": 4,
 "nbformat_minor": 2
}
