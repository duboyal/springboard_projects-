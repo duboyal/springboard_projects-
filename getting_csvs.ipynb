{
 "cells": [
  {
   "cell_type": "code",
   "execution_count": 4,
   "metadata": {
    "collapsed": true
   },
   "outputs": [],
   "source": [
    "from pytrends.request import TrendReq\n",
    "# Login to Google. Only need to run this once\n",
    "pytrend = TrendReq()\n",
    "# Create payload and capture API tokens. Only needed for interest_over_time(), interest_by_region() & related_queries()\n",
    "# keyword = 'cryptocurrency', cathegory = 16 (news), timeframe- limit range to 8 months to get daily data\n",
    "pytrend.build_payload(kw_list=['bitcoin'], cat=16, timeframe='2017-11-15 2018-03-21')  \n",
    "\n",
    "story_ggtrends_btc = pytrend.interest_over_time()\n",
    "# Upsampling daily data to hourly data\n",
    "story_ggtrends_btc = story_ggtrends_btc.resample('1d').pad().drop(['isPartial'], axis='columns')\n",
    "story_ggtrends_btc.columns = ['SearchFrequency']\n",
    "story_ggtrends_btc.to_csv('google_trends_bitcoin.csv')"
   ]
  },
  {
   "cell_type": "code",
   "execution_count": 5,
   "metadata": {
    "collapsed": true
   },
   "outputs": [],
   "source": [
    "from pytrends.request import TrendReq\n",
    "# Login to Google. Only need to run this once\n",
    "pytrend = TrendReq()\n",
    "# Create payload and capture API tokens. Only needed for interest_over_time(), interest_by_region() & related_queries()\n",
    "# keyword = 'cryptocurrency', cathegory = 16 (news), timeframe- limit range to 8 months to get daily data\n",
    "pytrend.build_payload(kw_list=['ethereum'], cat=16, timeframe='2017-11-15 2018-03-21')  \n",
    "\n",
    "story_ggtrends_btc = pytrend.interest_over_time()\n",
    "# Upsampling daily data to hourly data\n",
    "story_ggtrends_btc = story_ggtrends_btc.resample('1d').pad().drop(['isPartial'], axis='columns')\n",
    "story_ggtrends_btc.columns = ['SearchFrequency']\n",
    "story_ggtrends_btc.to_csv('google_trends_eth.csv')"
   ]
  },
  {
   "cell_type": "code",
   "execution_count": 6,
   "metadata": {
    "collapsed": true
   },
   "outputs": [],
   "source": [
    "from pytrends.request import TrendReq\n",
    "# Login to Google. Only need to run this once\n",
    "pytrend = TrendReq()\n",
    "# Create payload and capture API tokens. Only needed for interest_over_time(), interest_by_region() & related_queries()\n",
    "# keyword = 'cryptocurrency', cathegory = 16 (news), timeframe- limit range to 8 months to get daily data\n",
    "pytrend.build_payload(kw_list=['crypto currency'], cat=16, timeframe='2017-11-15 2018-03-21')  \n",
    "\n",
    "story_ggtrends_btc = pytrend.interest_over_time()\n",
    "# Upsampling daily data to hourly data\n",
    "story_ggtrends_btc = story_ggtrends_btc.resample('1d').pad().drop(['isPartial'], axis='columns')\n",
    "story_ggtrends_btc.columns = ['SearchFrequency']\n",
    "story_ggtrends_btc.to_csv('google_trends_cryp.csv')"
   ]
  },
  {
   "cell_type": "code",
   "execution_count": 7,
   "metadata": {
    "collapsed": true
   },
   "outputs": [],
   "source": [
    "from pytrends.request import TrendReq\n",
    "# Login to Google. Only need to run this once\n",
    "pytrend = TrendReq()\n",
    "# Create payload and capture API tokens. Only needed for interest_over_time(), interest_by_region() & related_queries()\n",
    "# keyword = 'cryptocurrency', cathegory = 16 (news), timeframe- limit range to 8 months to get daily data\n",
    "pytrend.build_payload(kw_list=['blockchain'], cat=16, timeframe='2017-11-15 2018-03-21')  \n",
    "\n",
    "story_ggtrends_btc = pytrend.interest_over_time()\n",
    "# Upsampling daily data to hourly data\n",
    "story_ggtrends_btc = story_ggtrends_btc.resample('1d').pad().drop(['isPartial'], axis='columns')\n",
    "story_ggtrends_btc.columns = ['SearchFrequency']\n",
    "story_ggtrends_btc.to_csv('google_trends_blockchain.csv')"
   ]
  },
  {
   "cell_type": "code",
   "execution_count": 8,
   "metadata": {
    "collapsed": true
   },
   "outputs": [],
   "source": [
    "from cryptocmd import CmcScraper\n",
    "\n",
    "# initialise scraper\n",
    "scraper = CmcScraper('ETH', '15-11-2017', '21-3-2018')\n",
    "\n",
    "# get data as list of list\n",
    "headers, data = scraper.get_data()\n",
    "\n",
    "# export the data to csv\n",
    "scraper.export_csv()\n",
    "\n",
    "# get dataframe for the data\n",
    "df = scraper.get_dataframe()\n",
    "df.to_csv('eth_price_data.csv')"
   ]
  },
  {
   "cell_type": "code",
   "execution_count": 9,
   "metadata": {
    "collapsed": true
   },
   "outputs": [],
   "source": [
    "scraper2 = CmcScraper('BTC', '15-11-2017', '21-3-2018')\n",
    "\n",
    "# get data as list of list\n",
    "headers, data = scraper.get_data()\n",
    "\n",
    "# export the data to csv\n",
    "scraper2.export_csv()\n",
    "\n",
    "# get dataframe for the data\n",
    "df2 = scraper2.get_dataframe()\n",
    "df2.to_csv('btc_price_data.csv')"
   ]
  },
  {
   "cell_type": "code",
   "execution_count": null,
   "metadata": {
    "collapsed": true
   },
   "outputs": [],
   "source": []
  }
 ],
 "metadata": {
  "kernelspec": {
   "display_name": "Python 3",
   "language": "python",
   "name": "python3"
  },
  "language_info": {
   "codemirror_mode": {
    "name": "ipython",
    "version": 3
   },
   "file_extension": ".py",
   "mimetype": "text/x-python",
   "name": "python",
   "nbconvert_exporter": "python",
   "pygments_lexer": "ipython3",
   "version": "3.6.1"
  }
 },
 "nbformat": 4,
 "nbformat_minor": 2
}
