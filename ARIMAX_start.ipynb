{
 "cells": [
  {
   "cell_type": "code",
   "execution_count": 152,
   "metadata": {
    "collapsed": true
   },
   "outputs": [],
   "source": [
    "#OK I need to slice the data frame and then plot it. this is in blue\n",
    "#I need to the plot the search frequency, this is in orange"
   ]
  },
  {
   "cell_type": "code",
   "execution_count": 1,
   "metadata": {
    "collapsed": true
   },
   "outputs": [],
   "source": [
    "import matplotlib.pyplot as plt\n",
    "import requests\n",
    "import json\n",
    "import pandas as pd\n",
    "from pandas.io.json import json_normalize\n",
    "import datetime\n",
    "from pytrends.request import TrendReq\n",
    "%matplotlib inline"
   ]
  },
  {
   "cell_type": "markdown",
   "metadata": {},
   "source": [
    "##### following API worked\n",
    "pip install cryptocmd required"
   ]
  },
  {
   "cell_type": "code",
   "execution_count": 2,
   "metadata": {
    "collapsed": true
   },
   "outputs": [],
   "source": [
    "from cryptocmd import CmcScraper\n",
    "\n",
    "# initialise scraper\n",
    "\n",
    "###scraper = CmcScraper('ETH', '15-11-2017', '21-3-2018')\n",
    "\n",
    "# get data as list of list\n",
    "\n",
    "####headers, data = scraper.get_data()\n",
    "\n",
    "# export the data to csv\n",
    "\n",
    "####scraper.export_csv()\n",
    "\n",
    "df = pd.read_csv('ETH_15-11-2017_21-03-2018.csv', dtype=str)\n",
    "\n",
    "# get dataframe for the data\n",
    "#df = scraper.get_dataframe()"
   ]
  },
  {
   "cell_type": "code",
   "execution_count": 3,
   "metadata": {
    "scrolled": true
   },
   "outputs": [
    {
     "name": "stdout",
     "output_type": "stream",
     "text": [
      "          Date    Open    High     Low   Close      Volume   Market Cap\n",
      "0   21-03-2018   559.1  589.61  550.57  561.73  1781270000  54967300000\n",
      "1   20-03-2018  556.72  567.09   521.2  557.17  1833680000  54722100000\n",
      "2   19-03-2018  546.63   558.1  519.12  556.73  2046790000  53718600000\n",
      "3   18-03-2018  551.64  551.64  460.09  538.64  2685500000  54200100000\n",
      "4   17-03-2018  601.68  609.15   549.1  552.78  1267810000  59104200000\n",
      "5   16-03-2018  611.78  623.17  587.86  601.67  1417350000  60083700000\n",
      "6   15-03-2018  614.84  620.62   579.5   611.3  1770460000  60371800000\n",
      "7   14-03-2018  691.22  702.78   594.1  614.29  1810560000  67857600000\n",
      "8   13-03-2018  698.15  713.74  682.35  690.83  1425960000  68524000000\n",
      "9   12-03-2018  724.41  742.51  683.27  699.83  1765000000  71086000000\n",
      "10  11-03-2018  685.31  735.83  668.12  723.34  1562680000  67235700000\n",
      "11  10-03-2018  730.16  748.03   682.7  686.89  1532960000  71620700000\n",
      "12  09-03-2018   702.2  729.16  648.11  728.92  2233020000  68863600000\n",
      "13  08-03-2018  752.57  773.77  696.17   704.6  1891640000  73788400000\n",
      "14  07-03-2018  816.27  825.61  726.55  752.83  2175420000  80017300000\n"
     ]
    }
   ],
   "source": [
    "print(df[0:15]) #debugging"
   ]
  },
  {
   "cell_type": "markdown",
   "metadata": {},
   "source": [
    "#here do the conversion \n",
    "for date in x:\n",
    "    nums = date.split('-')\n",
    "    print('{:0>2s}-{:0>2s}-{:0>4s}'.format(nums[1], nums[0], nums[2]))"
   ]
  },
  {
   "cell_type": "code",
   "execution_count": 5,
   "metadata": {},
   "outputs": [
    {
     "name": "stdout",
     "output_type": "stream",
     "text": [
      "03-21-2018\n",
      "03-20-2018\n",
      "03-19-2018\n",
      "03-18-2018\n",
      "03-17-2018\n"
     ]
    }
   ],
   "source": [
    "for date in df['Date'][0:5]:\n",
    "    nums = date.split('-')\n",
    "    stuff = '{}-{}-{}'.format(nums[1], nums[0], nums[2])\n",
    "    print(stuff)"
   ]
  },
  {
   "cell_type": "markdown",
   "metadata": {},
   "source": [
    "do list comprehension (also learn string comprehension!!)\n"
   ]
  },
  {
   "cell_type": "code",
   "execution_count": 6,
   "metadata": {
    "collapsed": true
   },
   "outputs": [],
   "source": [
    "def convert_date(date_string):\n",
    "    nums = date_string.split('-')\n",
    "    alt_format = '{}-{}-{}'.format(nums[1], nums[0], nums[2])\n",
    "    #alt_format = datetime.datetime(int(nums[2]), int(nums[0]), int(nums[1]), 0, 0)\n",
    "    return alt_format\n",
    "\n",
    "df['Date'] = df['Date'].apply(convert_date)\n",
    "#df['Date']\n",
    "\n"
   ]
  },
  {
   "cell_type": "code",
   "execution_count": 7,
   "metadata": {
    "collapsed": true
   },
   "outputs": [],
   "source": [
    "df['Date'] = pd.to_datetime(df['Date'],infer_datetime_format=True)"
   ]
  },
  {
   "cell_type": "code",
   "execution_count": 8,
   "metadata": {},
   "outputs": [
    {
     "data": {
      "text/html": [
       "<div>\n",
       "<style>\n",
       "    .dataframe thead tr:only-child th {\n",
       "        text-align: right;\n",
       "    }\n",
       "\n",
       "    .dataframe thead th {\n",
       "        text-align: left;\n",
       "    }\n",
       "\n",
       "    .dataframe tbody tr th {\n",
       "        vertical-align: top;\n",
       "    }\n",
       "</style>\n",
       "<table border=\"1\" class=\"dataframe\">\n",
       "  <thead>\n",
       "    <tr style=\"text-align: right;\">\n",
       "      <th></th>\n",
       "      <th>Date</th>\n",
       "      <th>Open</th>\n",
       "      <th>High</th>\n",
       "      <th>Low</th>\n",
       "      <th>Close</th>\n",
       "      <th>Volume</th>\n",
       "      <th>Market Cap</th>\n",
       "    </tr>\n",
       "  </thead>\n",
       "  <tbody>\n",
       "    <tr>\n",
       "      <th>0</th>\n",
       "      <td>2018-03-21</td>\n",
       "      <td>559.1</td>\n",
       "      <td>589.61</td>\n",
       "      <td>550.57</td>\n",
       "      <td>561.73</td>\n",
       "      <td>1781270000</td>\n",
       "      <td>54967300000</td>\n",
       "    </tr>\n",
       "    <tr>\n",
       "      <th>1</th>\n",
       "      <td>2018-03-20</td>\n",
       "      <td>556.72</td>\n",
       "      <td>567.09</td>\n",
       "      <td>521.2</td>\n",
       "      <td>557.17</td>\n",
       "      <td>1833680000</td>\n",
       "      <td>54722100000</td>\n",
       "    </tr>\n",
       "    <tr>\n",
       "      <th>2</th>\n",
       "      <td>2018-03-19</td>\n",
       "      <td>546.63</td>\n",
       "      <td>558.1</td>\n",
       "      <td>519.12</td>\n",
       "      <td>556.73</td>\n",
       "      <td>2046790000</td>\n",
       "      <td>53718600000</td>\n",
       "    </tr>\n",
       "    <tr>\n",
       "      <th>3</th>\n",
       "      <td>2018-03-18</td>\n",
       "      <td>551.64</td>\n",
       "      <td>551.64</td>\n",
       "      <td>460.09</td>\n",
       "      <td>538.64</td>\n",
       "      <td>2685500000</td>\n",
       "      <td>54200100000</td>\n",
       "    </tr>\n",
       "    <tr>\n",
       "      <th>4</th>\n",
       "      <td>2018-03-17</td>\n",
       "      <td>601.68</td>\n",
       "      <td>609.15</td>\n",
       "      <td>549.1</td>\n",
       "      <td>552.78</td>\n",
       "      <td>1267810000</td>\n",
       "      <td>59104200000</td>\n",
       "    </tr>\n",
       "  </tbody>\n",
       "</table>\n",
       "</div>"
      ],
      "text/plain": [
       "        Date    Open    High     Low   Close      Volume   Market Cap\n",
       "0 2018-03-21   559.1  589.61  550.57  561.73  1781270000  54967300000\n",
       "1 2018-03-20  556.72  567.09   521.2  557.17  1833680000  54722100000\n",
       "2 2018-03-19  546.63   558.1  519.12  556.73  2046790000  53718600000\n",
       "3 2018-03-18  551.64  551.64  460.09  538.64  2685500000  54200100000\n",
       "4 2018-03-17  601.68  609.15   549.1  552.78  1267810000  59104200000"
      ]
     },
     "execution_count": 8,
     "metadata": {},
     "output_type": "execute_result"
    }
   ],
   "source": [
    "df[0:5]"
   ]
  },
  {
   "cell_type": "markdown",
   "metadata": {},
   "source": [
    "this gave error:\n",
    "\n",
    "def convert_date(date_string):\n",
    "    nums1 = date_string.split('-')\n",
    "    nums2 = '{}-{}-{}'.format(nums1[1], nums1[0], nums1[2])\n",
    "    alt_format = datetime.datetime(int(nums2[2]), int(nums2[0]), int(nums2[1]), 0, 0)\n",
    "    return alt_format\n",
    "\n",
    "df['Date'] = df['Date'].apply(convert_date)\n",
    "#df['Date']\n"
   ]
  },
  {
   "cell_type": "code",
   "execution_count": 9,
   "metadata": {
    "collapsed": true
   },
   "outputs": [],
   "source": [
    "df = df.sort_values('Date')"
   ]
  },
  {
   "cell_type": "code",
   "execution_count": 10,
   "metadata": {},
   "outputs": [
    {
     "data": {
      "text/html": [
       "<div>\n",
       "<style>\n",
       "    .dataframe thead tr:only-child th {\n",
       "        text-align: right;\n",
       "    }\n",
       "\n",
       "    .dataframe thead th {\n",
       "        text-align: left;\n",
       "    }\n",
       "\n",
       "    .dataframe tbody tr th {\n",
       "        vertical-align: top;\n",
       "    }\n",
       "</style>\n",
       "<table border=\"1\" class=\"dataframe\">\n",
       "  <thead>\n",
       "    <tr style=\"text-align: right;\">\n",
       "      <th></th>\n",
       "      <th>Date</th>\n",
       "      <th>Open</th>\n",
       "      <th>High</th>\n",
       "      <th>Low</th>\n",
       "      <th>Close</th>\n",
       "      <th>Volume</th>\n",
       "      <th>Market Cap</th>\n",
       "    </tr>\n",
       "  </thead>\n",
       "  <tbody>\n",
       "    <tr>\n",
       "      <th>126</th>\n",
       "      <td>2017-11-15</td>\n",
       "      <td>337.96</td>\n",
       "      <td>340.91</td>\n",
       "      <td>329.81</td>\n",
       "      <td>333.36</td>\n",
       "      <td>722666000</td>\n",
       "      <td>32353200000</td>\n",
       "    </tr>\n",
       "    <tr>\n",
       "      <th>125</th>\n",
       "      <td>2017-11-16</td>\n",
       "      <td>333.44</td>\n",
       "      <td>336.16</td>\n",
       "      <td>323.61</td>\n",
       "      <td>330.92</td>\n",
       "      <td>797254000</td>\n",
       "      <td>31927300000</td>\n",
       "    </tr>\n",
       "    <tr>\n",
       "      <th>124</th>\n",
       "      <td>2017-11-17</td>\n",
       "      <td>330.17</td>\n",
       "      <td>334.96</td>\n",
       "      <td>327.52</td>\n",
       "      <td>332.39</td>\n",
       "      <td>621733000</td>\n",
       "      <td>31620300000</td>\n",
       "    </tr>\n",
       "    <tr>\n",
       "      <th>123</th>\n",
       "      <td>2017-11-18</td>\n",
       "      <td>331.98</td>\n",
       "      <td>349.62</td>\n",
       "      <td>327.69</td>\n",
       "      <td>347.61</td>\n",
       "      <td>649639000</td>\n",
       "      <td>31800700000</td>\n",
       "    </tr>\n",
       "    <tr>\n",
       "      <th>122</th>\n",
       "      <td>2017-11-19</td>\n",
       "      <td>347.4</td>\n",
       "      <td>371.29</td>\n",
       "      <td>344.74</td>\n",
       "      <td>354.39</td>\n",
       "      <td>1181530000</td>\n",
       "      <td>33284900000</td>\n",
       "    </tr>\n",
       "  </tbody>\n",
       "</table>\n",
       "</div>"
      ],
      "text/plain": [
       "          Date    Open    High     Low   Close      Volume   Market Cap\n",
       "126 2017-11-15  337.96  340.91  329.81  333.36   722666000  32353200000\n",
       "125 2017-11-16  333.44  336.16  323.61  330.92   797254000  31927300000\n",
       "124 2017-11-17  330.17  334.96  327.52  332.39   621733000  31620300000\n",
       "123 2017-11-18  331.98  349.62  327.69  347.61   649639000  31800700000\n",
       "122 2017-11-19   347.4  371.29  344.74  354.39  1181530000  33284900000"
      ]
     },
     "execution_count": 10,
     "metadata": {},
     "output_type": "execute_result"
    }
   ],
   "source": [
    "df[0:5]"
   ]
  },
  {
   "cell_type": "code",
   "execution_count": 11,
   "metadata": {},
   "outputs": [
    {
     "data": {
      "text/plain": [
       "Timestamp('2018-03-21 00:00:00')"
      ]
     },
     "execution_count": 11,
     "metadata": {},
     "output_type": "execute_result"
    }
   ],
   "source": [
    "df['Date'][0]"
   ]
  },
  {
   "cell_type": "code",
   "execution_count": 12,
   "metadata": {},
   "outputs": [
    {
     "data": {
      "text/plain": [
       "pandas._libs.tslib.Timestamp"
      ]
     },
     "execution_count": 12,
     "metadata": {},
     "output_type": "execute_result"
    }
   ],
   "source": [
    "type(df['Date'][0])"
   ]
  },
  {
   "cell_type": "markdown",
   "metadata": {},
   "source": [
    "### Candlestick"
   ]
  },
  {
   "cell_type": "code",
   "execution_count": 13,
   "metadata": {
    "collapsed": true
   },
   "outputs": [],
   "source": [
    "import matplotlib.pyplot as plt\n",
    "import requests\n",
    "import json\n",
    "import pandas as pd\n",
    "from pandas.io.json import json_normalize\n",
    "import datetime\n",
    "from pytrends.request import TrendReq\n",
    "%matplotlib inline"
   ]
  },
  {
   "cell_type": "code",
   "execution_count": 14,
   "metadata": {},
   "outputs": [
    {
     "data": {
      "text/html": [
       "<script>requirejs.config({paths: { 'plotly': ['https://cdn.plot.ly/plotly-latest.min']},});if(!window.Plotly) {{require(['plotly'],function(plotly) {window.Plotly=plotly;});}}</script>"
      ],
      "text/vnd.plotly.v1+html": [
       "<script>requirejs.config({paths: { 'plotly': ['https://cdn.plot.ly/plotly-latest.min']},});if(!window.Plotly) {{require(['plotly'],function(plotly) {window.Plotly=plotly;});}}</script>"
      ]
     },
     "metadata": {},
     "output_type": "display_data"
    }
   ],
   "source": [
    "import matplotlib.pyplot as plt\n",
    "import matplotlib\n",
    "import plotly.plotly as py\n",
    "import datetime as dt\n",
    "import matplotlib.dates as mdates \n",
    "plt.style.use('fivethirtyeight')\n",
    "import plotly.graph_objs as go\n",
    "from plotly.offline import download_plotlyjs,init_notebook_mode,plot,iplot\n",
    "init_notebook_mode(connected=True)\n",
    "import seaborn as sns \n",
    "import numpy as np\n",
    "import pandas as pd\n",
    "import numpy as np\n",
    "import random as rnd\n",
    "import re\n",
    "import io\n",
    "from sklearn.metrics import confusion_matrix\n",
    "import seaborn as sns\n",
    "import matplotlib.gridspec as gridspec\n",
    "from sklearn.preprocessing import StandardScaler\n",
    "from numpy import genfromtxt\n",
    "from scipy.stats import multivariate_normal\n",
    "from sklearn.metrics import f1_score\n",
    "from sklearn.metrics import recall_score , average_precision_score\n",
    "from sklearn.metrics import precision_score, precision_recall_curve\n",
    "%matplotlib inline\n",
    "\n",
    "#from mpl_toolkits.basemap import Basemap\n",
    "from matplotlib import animation, rc\n",
    "from IPython.display import HTML\n",
    "\n",
    "import warnings\n",
    "warnings.filterwarnings('ignore')\n",
    "\n",
    "import base64\n",
    "from IPython.display import HTML, display\n",
    "import warnings\n",
    "warnings.filterwarnings('ignore')\n",
    "from scipy.misc import imread\n",
    "import codecs"
   ]
  },
  {
   "cell_type": "code",
   "execution_count": 27,
   "metadata": {},
   "outputs": [
    {
     "data": {
      "text/plain": [
       "126   2017-11-15\n",
       "125   2017-11-16\n",
       "124   2017-11-17\n",
       "123   2017-11-18\n",
       "122   2017-11-19\n",
       "Name: Date, dtype: datetime64[ns]"
      ]
     },
     "execution_count": 27,
     "metadata": {},
     "output_type": "execute_result"
    }
   ],
   "source": [
    "df['Date'][0:5]"
   ]
  },
  {
   "cell_type": "code",
   "execution_count": 37,
   "metadata": {
    "collapsed": true
   },
   "outputs": [],
   "source": [
    "import datetime as dt\n",
    "import time\n",
    "from matplotlib import dates\n",
    "\n",
    "#Bitcoin = Allcrypto[Allcrypto['ranknow'] == 1]\n",
    "#Ethereum = Allcrypto[Allcrypto['ranknow'] == 2]\n",
    "#Ripple  = Allcrypto[Allcrypto['ranknow'] == 3]\n",
    "import mpl_finance\n",
    "from mpl_finance import candlestick_ohlc\n",
    "#from matplotlib.finance import candlestick_ohalc\n",
    "#BitcoinOHLC = Bitcoin[['Date','Open','High','Low','Close']]\n",
    "EthereumOHLC = df[['Date','Open','High','Low','Close']]\n",
    "#RippleOHLC = Ripple[['date','open','high','low','close']]\n",
    "\n",
    "import matplotlib.dates as mdates\n",
    "#BitcoinOHLC['date'] = pd.to_datetime(BitcoinOHLC['date'])\n",
    "#BitcoinOHLC['date'] = mdates.date2num(BitcoinOHLC['date'].astype(dt.date))\n",
    "#RippleOHLC['date'] = pd.to_datetime(RippleOHLC['date'])\n",
    "#RippleOHLC['date'] = mdates.date2num(RippleOHLC['date'].astype(dt.date))\n",
    "\n",
    "\n",
    "# ok, the below line is what keeps it in datetime format but the candlestick plot does not like this format\n",
    "# it wants integer!! toggle this line on vs line underneath that on\n",
    "# FOR ARIMA MODEL we are not using the plot we'll use datetime\n",
    "\n",
    "EthereumOHLC['Date'] = pd.to_datetime(EthereumOHLC['Date'])\n",
    "#EthereumOHLC['Date'] = mdates.date2num(EthereumOHLC['Date'].astype(dt.date))\n",
    "\n",
    "EthereumOHLC['Open'] = EthereumOHLC['Open'].convert_objects(convert_numeric=True)\n",
    "EthereumOHLC['High'] = EthereumOHLC['High'].convert_objects(convert_numeric=True)\n",
    "EthereumOHLC['Low'] = EthereumOHLC['Low'].convert_objects(convert_numeric=True)\n",
    "EthereumOHLC['Close'] = EthereumOHLC['Close'].convert_objects(convert_numeric=True)\n",
    "\n",
    "\n"
   ]
  },
  {
   "cell_type": "code",
   "execution_count": 34,
   "metadata": {},
   "outputs": [
    {
     "data": {
      "text/plain": [
       "pandas.core.frame.DataFrame"
      ]
     },
     "execution_count": 34,
     "metadata": {},
     "output_type": "execute_result"
    }
   ],
   "source": [
    "type(EthereumOHLC)"
   ]
  },
  {
   "cell_type": "code",
   "execution_count": 39,
   "metadata": {
    "collapsed": true
   },
   "outputs": [],
   "source": [
    "EthereumOHLC.to_csv('formatted_datetime_eth_pricedata.csv')"
   ]
  },
  {
   "cell_type": "code",
   "execution_count": 38,
   "metadata": {},
   "outputs": [
    {
     "data": {
      "text/plain": [
       "126   2017-11-15\n",
       "125   2017-11-16\n",
       "124   2017-11-17\n",
       "123   2017-11-18\n",
       "122   2017-11-19\n",
       "121   2017-11-20\n",
       "120   2017-11-21\n",
       "119   2017-11-22\n",
       "118   2017-11-23\n",
       "117   2017-11-24\n",
       "116   2017-11-25\n",
       "115   2017-11-26\n",
       "114   2017-11-27\n",
       "113   2017-11-28\n",
       "112   2017-11-29\n",
       "111   2017-11-30\n",
       "110   2017-12-01\n",
       "109   2017-12-02\n",
       "108   2017-12-03\n",
       "107   2017-12-04\n",
       "106   2017-12-05\n",
       "105   2017-12-06\n",
       "104   2017-12-07\n",
       "103   2017-12-08\n",
       "102   2017-12-09\n",
       "101   2017-12-10\n",
       "100   2017-12-11\n",
       "99    2017-12-12\n",
       "98    2017-12-13\n",
       "97    2017-12-14\n",
       "         ...    \n",
       "29    2018-02-20\n",
       "28    2018-02-21\n",
       "27    2018-02-22\n",
       "26    2018-02-23\n",
       "25    2018-02-24\n",
       "24    2018-02-25\n",
       "23    2018-02-26\n",
       "22    2018-02-27\n",
       "21    2018-02-28\n",
       "20    2018-03-01\n",
       "19    2018-03-02\n",
       "18    2018-03-03\n",
       "17    2018-03-04\n",
       "16    2018-03-05\n",
       "15    2018-03-06\n",
       "14    2018-03-07\n",
       "13    2018-03-08\n",
       "12    2018-03-09\n",
       "11    2018-03-10\n",
       "10    2018-03-11\n",
       "9     2018-03-12\n",
       "8     2018-03-13\n",
       "7     2018-03-14\n",
       "6     2018-03-15\n",
       "5     2018-03-16\n",
       "4     2018-03-17\n",
       "3     2018-03-18\n",
       "2     2018-03-19\n",
       "1     2018-03-20\n",
       "0     2018-03-21\n",
       "Name: Date, Length: 127, dtype: datetime64[ns]"
      ]
     },
     "execution_count": 38,
     "metadata": {},
     "output_type": "execute_result"
    }
   ],
   "source": [
    "EthereumOHLC['Date']"
   ]
  },
  {
   "cell_type": "markdown",
   "metadata": {},
   "source": [
    "### Now for the ARIMA model, since we have our data nicely formatted."
   ]
  },
  {
   "cell_type": "code",
   "execution_count": 41,
   "metadata": {
    "collapsed": true
   },
   "outputs": [],
   "source": [
    "import pandas\n",
    "import matplotlib.mlab as mlab\n",
    "import matplotlib.pyplot as plt\n",
    "import numpy as np\n",
    "import math\n",
    "from statsmodels.tsa.stattools import acf, pacf\n",
    "import statsmodels.tsa.stattools as ts\n",
    "from statsmodels.tsa.arima_model import ARIMA"
   ]
  },
  {
   "cell_type": "code",
   "execution_count": 61,
   "metadata": {},
   "outputs": [],
   "source": [
    "variables = pandas.read_csv('formatted_datetime_eth_pricedata.csv')\n",
    "variables = variables[['Date','Open','High','Low','Close']]\n",
    "price = variables['Close']"
   ]
  },
  {
   "cell_type": "code",
   "execution_count": 62,
   "metadata": {},
   "outputs": [
    {
     "data": {
      "text/html": [
       "<div>\n",
       "<style>\n",
       "    .dataframe thead tr:only-child th {\n",
       "        text-align: right;\n",
       "    }\n",
       "\n",
       "    .dataframe thead th {\n",
       "        text-align: left;\n",
       "    }\n",
       "\n",
       "    .dataframe tbody tr th {\n",
       "        vertical-align: top;\n",
       "    }\n",
       "</style>\n",
       "<table border=\"1\" class=\"dataframe\">\n",
       "  <thead>\n",
       "    <tr style=\"text-align: right;\">\n",
       "      <th></th>\n",
       "      <th>Date</th>\n",
       "      <th>Open</th>\n",
       "      <th>High</th>\n",
       "      <th>Low</th>\n",
       "      <th>Close</th>\n",
       "    </tr>\n",
       "  </thead>\n",
       "  <tbody>\n",
       "    <tr>\n",
       "      <th>0</th>\n",
       "      <td>2017-11-15</td>\n",
       "      <td>337.96</td>\n",
       "      <td>340.91</td>\n",
       "      <td>329.81</td>\n",
       "      <td>333.36</td>\n",
       "    </tr>\n",
       "    <tr>\n",
       "      <th>1</th>\n",
       "      <td>2017-11-16</td>\n",
       "      <td>333.44</td>\n",
       "      <td>336.16</td>\n",
       "      <td>323.61</td>\n",
       "      <td>330.92</td>\n",
       "    </tr>\n",
       "    <tr>\n",
       "      <th>2</th>\n",
       "      <td>2017-11-17</td>\n",
       "      <td>330.17</td>\n",
       "      <td>334.96</td>\n",
       "      <td>327.52</td>\n",
       "      <td>332.39</td>\n",
       "    </tr>\n",
       "    <tr>\n",
       "      <th>3</th>\n",
       "      <td>2017-11-18</td>\n",
       "      <td>331.98</td>\n",
       "      <td>349.62</td>\n",
       "      <td>327.69</td>\n",
       "      <td>347.61</td>\n",
       "    </tr>\n",
       "    <tr>\n",
       "      <th>4</th>\n",
       "      <td>2017-11-19</td>\n",
       "      <td>347.40</td>\n",
       "      <td>371.29</td>\n",
       "      <td>344.74</td>\n",
       "      <td>354.39</td>\n",
       "    </tr>\n",
       "  </tbody>\n",
       "</table>\n",
       "</div>"
      ],
      "text/plain": [
       "         Date    Open    High     Low   Close\n",
       "0  2017-11-15  337.96  340.91  329.81  333.36\n",
       "1  2017-11-16  333.44  336.16  323.61  330.92\n",
       "2  2017-11-17  330.17  334.96  327.52  332.39\n",
       "3  2017-11-18  331.98  349.62  327.69  347.61\n",
       "4  2017-11-19  347.40  371.29  344.74  354.39"
      ]
     },
     "execution_count": 62,
     "metadata": {},
     "output_type": "execute_result"
    }
   ],
   "source": [
    "variables[0:5]"
   ]
  },
  {
   "cell_type": "code",
   "execution_count": 63,
   "metadata": {},
   "outputs": [
    {
     "data": {
      "image/png": "[encoded data removed]",
      "text/plain": [
       "<Figure size 432x288 with 1 Axes>"
      ]
     },
     "metadata": {},
     "output_type": "display_data"
    }
   ],
   "source": [
    "lnprice=np.log(price)\n",
    "lnprice\n",
    "plt.plot(lnprice)\n",
    "plt.show()"
   ]
  },
  {
   "cell_type": "code",
   "execution_count": 64,
   "metadata": {},
   "outputs": [
    {
     "data": {
      "image/png": "[encoded data removed]",
      "text/plain": [
       "<Figure size 432x288 with 1 Axes>"
      ]
     },
     "metadata": {},
     "output_type": "display_data"
    }
   ],
   "source": [
    "acf_1 =  acf(lnprice)[1:20]\n",
    "plt.plot(acf_1)\n",
    "plt.show()"
   ]
  },
  {
   "cell_type": "code",
   "execution_count": 65,
   "metadata": {},
   "outputs": [
    {
     "data": {
      "text/plain": [
       "<matplotlib.axes._subplots.AxesSubplot at 0x121d44908>"
      ]
     },
     "execution_count": 65,
     "metadata": {},
     "output_type": "execute_result"
    },
    {
     "data": {
      "image/png": "[encoded data removed]",
      "text/plain": [
       "<Figure size 432x288 with 1 Axes>"
      ]
     },
     "metadata": {},
     "output_type": "display_data"
    }
   ],
   "source": [
    "test_df = pandas.DataFrame([acf_1]).T\n",
    "test_df.columns = ['Pandas Autocorrelation']\n",
    "test_df.index += 1\n",
    "test_df.plot(kind='bar')"
   ]
  },
  {
   "cell_type": "code",
   "execution_count": 66,
   "metadata": {},
   "outputs": [
    {
     "data": {
      "image/png": "[encoded data removed]",
      "text/plain": [
       "<Figure size 432x288 with 1 Axes>"
      ]
     },
     "metadata": {},
     "output_type": "display_data"
    }
   ],
   "source": [
    "pacf_1 =  pacf(lnprice)[1:20]\n",
    "plt.plot(pacf_1)\n",
    "plt.show()"
   ]
  },
  {
   "cell_type": "code",
   "execution_count": 67,
   "metadata": {},
   "outputs": [
    {
     "data": {
      "text/plain": [
       "(-2.150022903769058,\n",
       " 0.22488132404830247,\n",
       " 0,\n",
       " 126,\n",
       " {'1%': -3.4833462346078936,\n",
       "  '10%': -2.5791564575459813,\n",
       "  '5%': -2.8847655969877666},\n",
       " -314.9399338264909)"
      ]
     },
     "execution_count": 67,
     "metadata": {},
     "output_type": "execute_result"
    },
    {
     "data": {
      "image/png": "[encoded data removed]",
      "text/plain": [
       "<Figure size 432x288 with 1 Axes>"
      ]
     },
     "metadata": {},
     "output_type": "display_data"
    }
   ],
   "source": [
    "test_df = pandas.DataFrame([pacf_1]).T\n",
    "test_df.columns = ['Pandas Partial Autocorrelation']\n",
    "test_df.index += 1\n",
    "test_df.plot(kind='bar')\n",
    "result = ts.adfuller(lnprice, 1)\n",
    "result"
   ]
  },
  {
   "cell_type": "markdown",
   "metadata": {
    "collapsed": true
   },
   "source": [
    "we can see we have have an AR(1) stationary proces. (one with a constant mean, variance, and autocorrelation), and we see that the price plot now shows a stationary process."
   ]
  },
  {
   "cell_type": "code",
   "execution_count": 68,
   "metadata": {},
   "outputs": [
    {
     "data": {
      "image/png": "[encoded data removed]",
      "text/plain": [
       "<Figure size 432x288 with 1 Axes>"
      ]
     },
     "metadata": {},
     "output_type": "display_data"
    }
   ],
   "source": [
    "lnprice_diff=lnprice-lnprice.shift()\n",
    "diff=lnprice_diff.dropna()\n",
    "acf_1_diff =  acf(diff)[1:20]\n",
    "test_df = pandas.DataFrame([acf_1_diff]).T\n",
    "test_df.columns = ['First Difference Autocorrelation']\n",
    "test_df.index += 1\n",
    "test_df.plot(kind='bar')\n",
    "pacf_1_diff =  pacf(diff)[1:20]\n",
    "plt.plot(pacf_1_diff)\n",
    "plt.show()"
   ]
  },
  {
   "cell_type": "code",
   "execution_count": 69,
   "metadata": {},
   "outputs": [
    {
     "ename": "IndexError",
     "evalue": "list index out of range",
     "output_type": "error",
     "traceback": [
      "\u001b[0;31m---------------------------------------------------------------------------\u001b[0m",
      "\u001b[0;31mIndexError\u001b[0m                                Traceback (most recent call last)",
      "\u001b[0;32m<ipython-input-69-44ee80cffe05>\u001b[0m in \u001b[0;36m<module>\u001b[0;34m()\u001b[0m\n\u001b[1;32m      3\u001b[0m \u001b[0mmodel\u001b[0m \u001b[0;34m=\u001b[0m \u001b[0mARIMA\u001b[0m\u001b[0;34m(\u001b[0m\u001b[0mprice_matrix\u001b[0m\u001b[0;34m,\u001b[0m \u001b[0morder\u001b[0m\u001b[0;34m=\u001b[0m\u001b[0;34m(\u001b[0m\u001b[0;36m0\u001b[0m\u001b[0;34m,\u001b[0m\u001b[0;36m1\u001b[0m\u001b[0;34m,\u001b[0m\u001b[0;36m0\u001b[0m\u001b[0;34m)\u001b[0m\u001b[0;34m)\u001b[0m\u001b[0;34m\u001b[0m\u001b[0m\n\u001b[1;32m      4\u001b[0m \u001b[0mmodel_fit\u001b[0m \u001b[0;34m=\u001b[0m \u001b[0mmodel\u001b[0m\u001b[0;34m.\u001b[0m\u001b[0mfit\u001b[0m\u001b[0;34m(\u001b[0m\u001b[0mdisp\u001b[0m\u001b[0;34m=\u001b[0m\u001b[0;36m0\u001b[0m\u001b[0;34m)\u001b[0m\u001b[0;34m\u001b[0m\u001b[0m\n\u001b[0;32m----> 5\u001b[0;31m \u001b[0mprint\u001b[0m\u001b[0;34m(\u001b[0m\u001b[0mmodel_fit\u001b[0m\u001b[0;34m.\u001b[0m\u001b[0msummary\u001b[0m\u001b[0;34m(\u001b[0m\u001b[0;34m)\u001b[0m\u001b[0;34m)\u001b[0m\u001b[0;34m\u001b[0m\u001b[0m\n\u001b[0m",
      "\u001b[0;32m/Users/Alexandra/anaconda/lib/python3.6/site-packages/statsmodels/tsa/arima_model.py\u001b[0m in \u001b[0;36msummary\u001b[0;34m(self, alpha)\u001b[0m\n\u001b[1;32m   1622\u001b[0m         smry.add_table_2cols(self, gleft=top_left, gright=top_right,\n\u001b[1;32m   1623\u001b[0m                              title=title)\n\u001b[0;32m-> 1624\u001b[0;31m         \u001b[0msmry\u001b[0m\u001b[0;34m.\u001b[0m\u001b[0madd_table_params\u001b[0m\u001b[0;34m(\u001b[0m\u001b[0mself\u001b[0m\u001b[0;34m,\u001b[0m \u001b[0malpha\u001b[0m\u001b[0;34m=\u001b[0m\u001b[0malpha\u001b[0m\u001b[0;34m,\u001b[0m \u001b[0muse_t\u001b[0m\u001b[0;34m=\u001b[0m\u001b[0;32mFalse\u001b[0m\u001b[0;34m)\u001b[0m\u001b[0;34m\u001b[0m\u001b[0m\n\u001b[0m\u001b[1;32m   1625\u001b[0m \u001b[0;34m\u001b[0m\u001b[0m\n\u001b[1;32m   1626\u001b[0m         \u001b[0;31m# Make the roots table\u001b[0m\u001b[0;34m\u001b[0m\u001b[0;34m\u001b[0m\u001b[0m\n",
      "\u001b[0;32m/Users/Alexandra/anaconda/lib/python3.6/site-packages/statsmodels/iolib/summary.py\u001b[0m in \u001b[0;36madd_table_params\u001b[0;34m(self, res, yname, xname, alpha, use_t)\u001b[0m\n\u001b[1;32m    859\u001b[0m         \u001b[0;32mif\u001b[0m \u001b[0mres\u001b[0m\u001b[0;34m.\u001b[0m\u001b[0mparams\u001b[0m\u001b[0;34m.\u001b[0m\u001b[0mndim\u001b[0m \u001b[0;34m==\u001b[0m \u001b[0;36m1\u001b[0m\u001b[0;34m:\u001b[0m\u001b[0;34m\u001b[0m\u001b[0m\n\u001b[1;32m    860\u001b[0m             table = summary_params(res, yname=yname, xname=xname, alpha=alpha,\n\u001b[0;32m--> 861\u001b[0;31m                                    use_t=use_t)\n\u001b[0m\u001b[1;32m    862\u001b[0m         \u001b[0;32melif\u001b[0m \u001b[0mres\u001b[0m\u001b[0;34m.\u001b[0m\u001b[0mparams\u001b[0m\u001b[0;34m.\u001b[0m\u001b[0mndim\u001b[0m \u001b[0;34m==\u001b[0m \u001b[0;36m2\u001b[0m\u001b[0;34m:\u001b[0m\u001b[0;34m\u001b[0m\u001b[0m\n\u001b[1;32m    863\u001b[0m \u001b[0;31m#            _, table = summary_params_2dflat(res, yname=yname, xname=xname,\u001b[0m\u001b[0;34m\u001b[0m\u001b[0;34m\u001b[0m\u001b[0m\n",
      "\u001b[0;32m/Users/Alexandra/anaconda/lib/python3.6/site-packages/statsmodels/iolib/summary.py\u001b[0m in \u001b[0;36msummary_params\u001b[0;34m(results, yname, xname, alpha, use_t, skip_header, title)\u001b[0m\n\u001b[1;32m    479\u001b[0m                                   \u001b[0mparams_stubs\u001b[0m\u001b[0;34m,\u001b[0m\u001b[0;34m\u001b[0m\u001b[0m\n\u001b[1;32m    480\u001b[0m                                   \u001b[0mtitle\u001b[0m \u001b[0;34m=\u001b[0m \u001b[0mtitle\u001b[0m\u001b[0;34m,\u001b[0m\u001b[0;34m\u001b[0m\u001b[0m\n\u001b[0;32m--> 481\u001b[0;31m                                   \u001b[0mtxt_fmt\u001b[0m \u001b[0;34m=\u001b[0m \u001b[0mfmt_params\u001b[0m \u001b[0;31m#gen_fmt #fmt_2, #gen_fmt,\u001b[0m\u001b[0;34m\u001b[0m\u001b[0m\n\u001b[0m\u001b[1;32m    482\u001b[0m                                   )\n\u001b[1;32m    483\u001b[0m \u001b[0;34m\u001b[0m\u001b[0m\n",
      "\u001b[0;32m/Users/Alexandra/anaconda/lib/python3.6/site-packages/statsmodels/iolib/table.py\u001b[0m in \u001b[0;36m__init__\u001b[0;34m(self, data, headers, stubs, title, datatypes, csv_fmt, txt_fmt, ltx_fmt, html_fmt, celltype, rowtype, **fmt_dict)\u001b[0m\n\u001b[1;32m    184\u001b[0m         \"\"\"\n\u001b[1;32m    185\u001b[0m         \u001b[0mself\u001b[0m\u001b[0;34m.\u001b[0m\u001b[0mtitle\u001b[0m \u001b[0;34m=\u001b[0m \u001b[0mtitle\u001b[0m\u001b[0;34m\u001b[0m\u001b[0m\n\u001b[0;32m--> 186\u001b[0;31m         \u001b[0mself\u001b[0m\u001b[0;34m.\u001b[0m\u001b[0m_datatypes\u001b[0m \u001b[0;34m=\u001b[0m \u001b[0mdatatypes\u001b[0m \u001b[0;32mor\u001b[0m \u001b[0mlrange\u001b[0m\u001b[0;34m(\u001b[0m\u001b[0mlen\u001b[0m\u001b[0;34m(\u001b[0m\u001b[0mdata\u001b[0m\u001b[0;34m[\u001b[0m\u001b[0;36m0\u001b[0m\u001b[0;34m]\u001b[0m\u001b[0;34m)\u001b[0m\u001b[0;34m)\u001b[0m\u001b[0;34m\u001b[0m\u001b[0m\n\u001b[0m\u001b[1;32m    187\u001b[0m         \u001b[0;31m# start with default formatting\u001b[0m\u001b[0;34m\u001b[0m\u001b[0;34m\u001b[0m\u001b[0m\n\u001b[1;32m    188\u001b[0m         \u001b[0mself\u001b[0m\u001b[0;34m.\u001b[0m\u001b[0m_txt_fmt\u001b[0m \u001b[0;34m=\u001b[0m \u001b[0mdefault_txt_fmt\u001b[0m\u001b[0;34m.\u001b[0m\u001b[0mcopy\u001b[0m\u001b[0;34m(\u001b[0m\u001b[0;34m)\u001b[0m\u001b[0;34m\u001b[0m\u001b[0m\n",
      "\u001b[0;31mIndexError\u001b[0m: list index out of range"
     ]
    }
   ],
   "source": [
    "#lnprice = lnprice[1:20]\n",
    "price_matrix=lnprice.as_matrix()\n",
    "model = ARIMA(price_matrix, order=(0,1,0))\n",
    "model_fit = model.fit(disp=0)\n",
    "print(model_fit.summary())"
   ]
  },
  {
   "cell_type": "code",
   "execution_count": 59,
   "metadata": {},
   "outputs": [
    {
     "data": {
      "text/plain": [
       "array([ 479.46637813,  488.91537167,  498.55057948,  508.37567133,\n",
       "        518.39438933,  528.61054933,  539.02804239,  549.65083624,\n",
       "        560.48297679,  571.52858972,  582.791882  ,  594.27714349,\n",
       "        605.98874861,  617.93115798,  630.10892015,  642.52667328,\n",
       "        655.18914694,  668.10116392,  681.26764205,  694.69359607,\n",
       "        708.38413956,  722.34448686,  736.57995508,  751.09596612,\n",
       "        765.89804872,  780.99184057,  796.3830905 ,  812.07766059,\n",
       "        828.08152847,  844.40078956,  861.04165943,  878.01047612,\n",
       "        895.31370257,  912.9579291 ,  930.94987591,  949.29639564,\n",
       "        968.00447595,  987.08124224, 1006.53396032, 1026.37003918,\n",
       "       1046.59703384, 1067.22264819, 1088.25473796, 1109.70131369,\n",
       "       1131.57054378, 1153.87075761, 1176.61044872, 1199.79827801,\n",
       "       1223.44307709, 1247.55385161, 1272.13978468, 1297.21024041,\n",
       "       1322.77476744, 1348.84310257, 1375.42517452, 1402.53110766,\n",
       "       1430.17122588, 1458.35605654, 1487.09633445, 1516.40300599,\n",
       "       1546.28723325, 1576.7603983 , 1607.83410752, 1639.52019603,\n",
       "       1671.83073217, 1704.77802213, 1738.37461462, 1772.63330564,\n",
       "       1807.56714337, 1843.18943315, 1879.5137425 , 1916.55390636,\n",
       "       1954.32403229, 1992.83850587, 2032.1119962 , 2072.15946147,\n",
       "       2112.99615463, 2154.63762924, 2197.09974539, 2240.39867572,\n",
       "       2284.55091157, 2329.57326932, 2375.48289672, 2422.29727947,\n",
       "       2470.03424788, 2518.71198362, 2568.34902668, 2618.96428245,\n",
       "       2670.57702886, 2723.20692376, 2776.87401243, 2831.59873516,\n",
       "       2887.40193508, 2944.30486608, 3002.3292009 , 3061.49703939,\n",
       "       3121.83091693, 3183.35381303, 3246.08916004, 3310.06085212,\n",
       "       3375.29325429, 3441.81121177, 3509.64005939, 3578.80563128,\n",
       "       3649.33427069, 3721.25283999, 3794.58873099, 3869.36987528,\n",
       "       3945.62475491])"
      ]
     },
     "execution_count": 59,
     "metadata": {},
     "output_type": "execute_result"
    }
   ],
   "source": [
    "predictions=model_fit.predict(122, 127, typ='levels')\n",
    "predictions\n",
    "predictionsadjusted=np.exp(predictions)\n",
    "predictionsadjusted"
   ]
  },
  {
   "cell_type": "code",
   "execution_count": null,
   "metadata": {
    "collapsed": true
   },
   "outputs": [],
   "source": []
  }
 ],
 "metadata": {
  "kernelspec": {
   "display_name": "Python 3",
   "language": "python",
   "name": "python3"
  },
  "language_info": {
   "codemirror_mode": {
    "name": "ipython",
    "version": 3
   },
   "file_extension": ".py",
   "mimetype": "text/x-python",
   "name": "python",
   "nbconvert_exporter": "python",
   "pygments_lexer": "ipython3",
   "version": "3.6.5"
  }
 },
 "nbformat": 4,
 "nbformat_minor": 2
}
